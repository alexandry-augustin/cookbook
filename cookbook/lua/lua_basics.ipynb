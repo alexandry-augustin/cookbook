{
 "cells": [
  {
   "cell_type": "code",
   "execution_count": null,
   "metadata": {
    "collapsed": true
   },
   "outputs": [],
   "source": [
    "Learn Lua in 15 Minutes : http://tylerneylon.com/a/learn-lua/"
   ]
  },
  {
   "cell_type": "markdown",
   "metadata": {},
   "source": [
    "- Tables and strings are indexed from 1 rather than 0\n",
    "- Lua is close to javascript\n",
    "   - variables are global by default, unless \"local\" keyword is used\n",
    "- Lua has garbage collection\n",
    "- Camel case is common\n",
    "-  foo:bar() is the same as foo.bar(foo)"
   ]
  },
  {
   "cell_type": "markdown",
   "metadata": {},
   "source": [
    "tables are lua's only compound data structure.  \n",
    "They are heterogeneous dictionaries that can also be used as lists."
   ]
  },
  {
   "cell_type": "markdown",
   "metadata": {},
   "source": [
    "The main topics not covered are standard libraries:\n",
    " * string library\n",
    " * table library\n",
    " * math library\n",
    " * io library\n",
    " * os library"
   ]
  },
  {
   "cell_type": "markdown",
   "metadata": {},
   "source": [
    "# Comments"
   ]
  },
  {
   "cell_type": "code",
   "execution_count": 1,
   "metadata": {
    "collapsed": true
   },
   "outputs": [],
   "source": [
    "-- this is a single line comment"
   ]
  },
  {
   "cell_type": "code",
   "execution_count": 19,
   "metadata": {
    "collapsed": false
   },
   "outputs": [
    {
     "data": {
      "text/plain": [
       "\n"
      ]
     },
     "execution_count": 19,
     "metadata": {},
     "output_type": "execute_result"
    }
   ],
   "source": [
    "--[[\n",
    "     This is a\n",
    "     multi-line comment.\n",
    "--]]"
   ]
  },
  {
   "cell_type": "markdown",
   "metadata": {},
   "source": [
    "# ;"
   ]
  },
  {
   "cell_type": "markdown",
   "metadata": {},
   "source": [
    "Only use semicolons to prevent ambiguity.  \n",
    "Generally only required when writing multiple statements on a line:"
   ]
  },
  {
   "cell_type": "code",
   "execution_count": 130,
   "metadata": {
    "collapsed": false
   },
   "outputs": [
    {
     "data": {
      "text/plain": [
       "1\t\n",
       "1\t\n"
      ]
     },
     "execution_count": 130,
     "metadata": {},
     "output_type": "execute_result"
    }
   ],
   "source": [
    "a=1; print(a)\n",
    "a=1 print(a) -- <- works"
   ]
  },
  {
   "cell_type": "markdown",
   "metadata": {},
   "source": [
    "(http://www.lua.org/manual/5.2/manual.html#3.3) Function calls and assignments can start with an open parenthesis. This \n",
    "possibility leads to an ambiguity in the Lua grammar. Consider the \n",
    "following fragment:\n",
    "\n",
    "a = b + c\n",
    "(print or io.write)('done')\n",
    "\n",
    "The grammar could see it in two ways:\n",
    "\n",
    "a = b + c(print or io.write)('done')\n",
    "\n",
    "a = b + c; (print or io.write)('done')"
   ]
  },
  {
   "cell_type": "markdown",
   "metadata": {},
   "source": [
    "# Built-in Functions"
   ]
  },
  {
   "cell_type": "markdown",
   "metadata": {},
   "source": [
    "## Assert"
   ]
  },
  {
   "cell_type": "markdown",
   "metadata": {},
   "source": [
    "The assert function checks whether its first argument is not false and simply returns that argument;\n",
    "if the argument is false (that is, false or nil), assert raises an error. Its second argument, the message, is optional, so that if you do not want to say anything in the error message, you do not have to. "
   ]
  },
  {
   "cell_type": "code",
   "execution_count": 39,
   "metadata": {
    "collapsed": false
   },
   "outputs": [
    {
     "data": {
      "text/plain": [
       "true\t\n"
      ]
     },
     "execution_count": 39,
     "metadata": {},
     "output_type": "execute_result"
    }
   ],
   "source": [
    "assert(1<2)"
   ]
  },
  {
   "cell_type": "code",
   "execution_count": 2,
   "metadata": {
    "collapsed": false
   },
   "outputs": [
    {
     "data": {
      "text/plain": [
       "true\terror\t\n"
      ]
     },
     "execution_count": 2,
     "metadata": {},
     "output_type": "execute_result"
    }
   ],
   "source": [
    "assert(1>0, \"error\")"
   ]
  },
  {
   "cell_type": "markdown",
   "metadata": {},
   "source": [
    "## Print"
   ]
  },
  {
   "cell_type": "code",
   "execution_count": 13,
   "metadata": {
    "collapsed": false
   },
   "outputs": [
    {
     "data": {
      "text/plain": [
       "test\t\n",
       "test\t\n"
      ]
     },
     "execution_count": 13,
     "metadata": {},
     "output_type": "execute_result"
    }
   ],
   "source": [
    "print(\"test\")\n",
    "print \"test\""
   ]
  },
  {
   "cell_type": "code",
   "execution_count": 11,
   "metadata": {
    "collapsed": false
   },
   "outputs": [
    {
     "data": {
      "text/plain": [
       "1\t2\t3\t\n"
      ]
     },
     "execution_count": 11,
     "metadata": {},
     "output_type": "execute_result"
    }
   ],
   "source": [
    "print(1,2,3)"
   ]
  },
  {
   "cell_type": "markdown",
   "metadata": {},
   "source": [
    "## I/O"
   ]
  },
  {
   "cell_type": "code",
   "execution_count": 3,
   "metadata": {
    "collapsed": false
   },
   "outputs": [
    {
     "data": {
      "text/plain": [
       "abc\n"
      ]
     },
     "execution_count": 3,
     "metadata": {},
     "output_type": "execute_result"
    }
   ],
   "source": [
    "io.write('abc\\n')  -- Defaults to stdout."
   ]
  },
  {
   "cell_type": "code",
   "execution_count": 1,
   "metadata": {
    "collapsed": false
   },
   "outputs": [
    {
     "data": {
      "text/plain": [
       "version: Lua 5.1\n",
       "file (0x7f4ab640c740)\n"
      ]
     },
     "execution_count": 1,
     "metadata": {},
     "output_type": "execute_result"
    }
   ],
   "source": [
    "io.write(\"version: \", _VERSION, \"\\n\")"
   ]
  },
  {
   "cell_type": "code",
   "execution_count": 64,
   "metadata": {
    "collapsed": true
   },
   "outputs": [],
   "source": [
    "line = io.read()  -- Reads next stdin line."
   ]
  },
  {
   "cell_type": "markdown",
   "metadata": {},
   "source": [
    "## pairs(table)"
   ]
  },
  {
   "cell_type": "markdown",
   "metadata": {},
   "source": [
    "Iteration over key-value pairs.  \n",
    "The order that items are returned is not defined, not even for indexed tables. "
   ]
  },
  {
   "cell_type": "code",
   "execution_count": 6,
   "metadata": {
    "collapsed": false
   },
   "outputs": [],
   "source": [
    "t={a=5, b=6, c=7}\n",
    "--t={\"a\", \"b\", \"c\"}"
   ]
  },
  {
   "cell_type": "code",
   "execution_count": 7,
   "metadata": {
    "collapsed": false
   },
   "outputs": [
    {
     "data": {
      "text/plain": [
       "a\t5\t\n",
       "b\t6\t\n",
       "c\t7\t\n"
      ]
     },
     "execution_count": 7,
     "metadata": {},
     "output_type": "execute_result"
    }
   ],
   "source": [
    "for key,value in pairs(t) do \n",
    "    print(key,value)\n",
    "end"
   ]
  },
  {
   "cell_type": "markdown",
   "metadata": {},
   "source": [
    "## ipairs(table)"
   ]
  },
  {
   "cell_type": "markdown",
   "metadata": {},
   "source": [
    "Allow iteration over index-value pairs. These are key-value pairs where the keys are indices into an array.  \n",
    "The order in which elements are returned is guaranteed to be in the numeric order of the indices, and non-integer keys are simply skipped. "
   ]
  },
  {
   "cell_type": "code",
   "execution_count": 9,
   "metadata": {
    "collapsed": true
   },
   "outputs": [],
   "source": [
    "t={\"a\", \"b\", \"c\"}"
   ]
  },
  {
   "cell_type": "code",
   "execution_count": 10,
   "metadata": {
    "collapsed": false
   },
   "outputs": [
    {
     "data": {
      "text/plain": [
       "1\ta\t\n",
       "2\tb\t\n",
       "3\tc\t\n"
      ]
     },
     "execution_count": 10,
     "metadata": {},
     "output_type": "execute_result"
    }
   ],
   "source": [
    "for index,value in ipairs(t) do \n",
    "    print(index,value)\n",
    "end"
   ]
  },
  {
   "cell_type": "markdown",
   "metadata": {},
   "source": [
    "# Variable"
   ]
  },
  {
   "cell_type": "code",
   "execution_count": 41,
   "metadata": {
    "collapsed": false
   },
   "outputs": [
    {
     "data": {
      "text/plain": [
       "true\t\n"
      ]
     },
     "execution_count": 41,
     "metadata": {},
     "output_type": "execute_result"
    }
   ],
   "source": [
    "assert((1==1)==true)\n",
    "assert((1==0)==false)"
   ]
  },
  {
   "cell_type": "markdown",
   "metadata": {},
   "source": [
    "Only nil and false are falsy; 0 and '' are true!"
   ]
  },
  {
   "cell_type": "markdown",
   "metadata": {},
   "source": [
    "All numbers are doubles."
   ]
  },
  {
   "cell_type": "code",
   "execution_count": 9,
   "metadata": {
    "collapsed": true
   },
   "outputs": [],
   "source": [
    "n=5"
   ]
  },
  {
   "cell_type": "code",
   "execution_count": 10,
   "metadata": {
    "collapsed": true
   },
   "outputs": [],
   "source": [
    "x, y, z = 1, 2, 3, 4 -- 4 is thrown away."
   ]
  },
  {
   "cell_type": "markdown",
   "metadata": {},
   "source": [
    "# Type"
   ]
  },
  {
   "cell_type": "code",
   "execution_count": 4,
   "metadata": {
    "collapsed": false
   },
   "outputs": [
    {
     "data": {
      "text/plain": [
       "number\t\n",
       "string\t\n"
      ]
     },
     "execution_count": 4,
     "metadata": {},
     "output_type": "execute_result"
    }
   ],
   "source": [
    "n=5\n",
    "s=\"abc\"\n",
    "\n",
    "print(type(n))\n",
    "print(type(s))"
   ]
  },
  {
   "cell_type": "markdown",
   "metadata": {},
   "source": [
    "# String"
   ]
  },
  {
   "cell_type": "markdown",
   "metadata": {},
   "source": [
    "strings are immutable"
   ]
  },
  {
   "cell_type": "code",
   "execution_count": 6,
   "metadata": {
    "collapsed": false
   },
   "outputs": [
    {
     "data": {
      "text/plain": [
       "walternate\t\n"
      ]
     },
     "execution_count": 6,
     "metadata": {},
     "output_type": "execute_result"
    }
   ],
   "source": [
    "'walternate'"
   ]
  },
  {
   "cell_type": "code",
   "execution_count": 7,
   "metadata": {
    "collapsed": false
   },
   "outputs": [
    {
     "data": {
      "text/plain": [
       "double-quotes are also fine\t\n"
      ]
     },
     "execution_count": 7,
     "metadata": {},
     "output_type": "execute_result"
    }
   ],
   "source": [
    "\"double-quotes are also fine\""
   ]
  },
  {
   "cell_type": "markdown",
   "metadata": {},
   "source": [
    "multiline string"
   ]
  },
  {
   "cell_type": "code",
   "execution_count": 5,
   "metadata": {
    "collapsed": false
   },
   "outputs": [
    {
     "data": {
      "text/plain": [
       " Double brackets\n",
       "    start and end\n",
       "    multi-line strings.\t\n"
      ]
     },
     "execution_count": 5,
     "metadata": {},
     "output_type": "execute_result"
    }
   ],
   "source": [
    "[[ Double brackets\n",
    "    start and end\n",
    "    multi-line strings.]]"
   ]
  },
  {
   "cell_type": "markdown",
   "metadata": {},
   "source": [
    "String concatenation uses the .. operator  \n",
    "If both operands are strings or numbers, then they are converted to strings "
   ]
  },
  {
   "cell_type": "code",
   "execution_count": 3,
   "metadata": {
    "collapsed": false
   },
   "outputs": [
    {
     "data": {
      "text/plain": [
       "123 abc\t\n",
       "123 abc\t\n",
       "123456\t\n"
      ]
     },
     "execution_count": 3,
     "metadata": {},
     "output_type": "execute_result"
    }
   ],
   "source": [
    "print('123 ' .. \"abc\")\n",
    "print(123 .. \" abc\")\n",
    "print(123 .. 456)"
   ]
  },
  {
   "cell_type": "code",
   "execution_count": 2,
   "metadata": {
    "collapsed": false
   },
   "outputs": [
    {
     "data": {
      "text/plain": [
       "true\t\n"
      ]
     },
     "execution_count": 2,
     "metadata": {},
     "output_type": "execute_result"
    }
   ],
   "source": [
    "assert(string.len(\"abc\")==3)"
   ]
  },
  {
   "cell_type": "markdown",
   "metadata": {},
   "source": [
    "# Nil"
   ]
  },
  {
   "cell_type": "code",
   "execution_count": 8,
   "metadata": {
    "collapsed": false
   },
   "outputs": [
    {
     "data": {
      "text/plain": [
       "\n"
      ]
     },
     "execution_count": 8,
     "metadata": {},
     "output_type": "execute_result"
    }
   ],
   "source": [
    "nil"
   ]
  },
  {
   "cell_type": "markdown",
   "metadata": {},
   "source": [
    "Undefined variables return nil"
   ]
  },
  {
   "cell_type": "code",
   "execution_count": 40,
   "metadata": {
    "collapsed": false
   },
   "outputs": [],
   "source": [
    "foo = anUnknownVariable\n",
    "assert(foo==nil)"
   ]
  },
  {
   "cell_type": "markdown",
   "metadata": {
    "collapsed": false
   },
   "source": [
    "# Tables"
   ]
  },
  {
   "cell_type": "markdown",
   "metadata": {},
   "source": [
    "Tables are heterogeneous dictinaries"
   ]
  },
  {
   "cell_type": "markdown",
   "metadata": {},
   "source": [
    "size"
   ]
  },
  {
   "cell_type": "code",
   "execution_count": 2,
   "metadata": {
    "collapsed": false
   },
   "outputs": [
    {
     "data": {
      "text/plain": [
       "1\t\n"
      ]
     },
     "execution_count": 2,
     "metadata": {},
     "output_type": "execute_result"
    }
   ],
   "source": [
    "t = {}\n",
    "t[1] = 0\n",
    "size = #t\n",
    "print(size)"
   ]
  },
  {
   "cell_type": "markdown",
   "metadata": {},
   "source": [
    "[Programming in Lua, Roberto Ierusalimschy ] it is customary in Lua to start arrays with index 1. The Lua libraries\n",
    "adhere to this convention; so does the length operator. If your arrays do not\n",
    "start with 1, you will not be able to use these facilities."
   ]
  },
  {
   "cell_type": "code",
   "execution_count": 3,
   "metadata": {
    "collapsed": false
   },
   "outputs": [
    {
     "data": {
      "text/plain": [
       "1\tabc\t\n",
       "2\t30\t\n"
      ]
     },
     "execution_count": 3,
     "metadata": {},
     "output_type": "execute_result"
    }
   ],
   "source": [
    "t = {}\n",
    "-- t[0] = -- not recommended\n",
    "t[1] = \"abc\"\n",
    "t[2] = 30\n",
    "\n",
    "for i=1,#t do\n",
    "    print(i, t[i]) \n",
    "end"
   ]
  },
  {
   "cell_type": "code",
   "execution_count": 1,
   "metadata": {
    "collapsed": false
   },
   "outputs": [
    {
     "data": {
      "text/plain": [
       "abc\t\n",
       "30\t\n",
       "2\t\n"
      ]
     },
     "execution_count": 1,
     "metadata": {},
     "output_type": "execute_result"
    }
   ],
   "source": [
    "t = {}\n",
    "t[0] = \"abc\"\n",
    "t[\"one\"] = 30\n",
    "t.two=2\n",
    "\n",
    "print(t[0])\n",
    "print(t[\"one\"])\n",
    "print(t[\"two\"])"
   ]
  },
  {
   "cell_type": "code",
   "execution_count": 157,
   "metadata": {
    "collapsed": false
   },
   "outputs": [],
   "source": [
    "t = {key1 = 'value1', key2 = false} -- the keys key1 and key2 are strings\n",
    "\n",
    "assert(t.key1==\"value1\")\n",
    "t[1] = \"abc\"\n",
    "t.newKey = {}  -- Adds a new key/value pair.\n",
    "t.key2 = nil   -- Removes key2 from the table."
   ]
  },
  {
   "cell_type": "code",
   "execution_count": 21,
   "metadata": {
    "collapsed": false
   },
   "outputs": [],
   "source": [
    "-- Literal notation for any (non-nil) value as key:\n",
    "u = {['@!#'] = 'qbert', [{}] = 1729, [6.28] = 'tau'}\n",
    "assert(u[6.28]==\"tau\")"
   ]
  },
  {
   "cell_type": "code",
   "execution_count": 8,
   "metadata": {
    "collapsed": true
   },
   "outputs": [],
   "source": [
    "t={[0] = 5}"
   ]
  },
  {
   "cell_type": "markdown",
   "metadata": {},
   "source": [
    "Insert  \n",
    "calling insert without a position inserts the element in the last position of the array"
   ]
  },
  {
   "cell_type": "code",
   "execution_count": 10,
   "metadata": {
    "collapsed": false
   },
   "outputs": [
    {
     "data": {
      "text/plain": [
       "{\n",
       "  1 : 0\n",
       "  name : abc\n",
       "  value : 123\n",
       "}\n"
      ]
     },
     "execution_count": 10,
     "metadata": {},
     "output_type": "execute_result"
    }
   ],
   "source": [
    "t = {name = 'abc', value = 123}\n",
    "table.insert(t, 1, 0)\n",
    "print(t)"
   ]
  },
  {
   "cell_type": "code",
   "execution_count": 17,
   "metadata": {
    "collapsed": false
   },
   "outputs": [
    {
     "data": {
      "text/plain": [
       "{\n",
       "  1 : 0\n",
       "  2 : 1\n",
       "  3 : 2\n",
       "  4 : 3\n",
       "  5 : 4\n",
       "}\n"
      ]
     },
     "execution_count": 17,
     "metadata": {},
     "output_type": "execute_result"
    }
   ],
   "source": [
    "t = {1, 2, 3}\n",
    "table.insert(t, 1, 0) -- insert a 0 in position 1\n",
    "table.insert(t, 4) -- insert a 4 at the last position\n",
    "print(t)"
   ]
  },
  {
   "cell_type": "markdown",
   "metadata": {},
   "source": [
    "Remove"
   ]
  },
  {
   "cell_type": "code",
   "execution_count": 14,
   "metadata": {
    "collapsed": false
   },
   "outputs": [
    {
     "data": {
      "text/plain": [
       "{\n",
       "  1 : 2\n",
       "}\n"
      ]
     },
     "execution_count": 14,
     "metadata": {},
     "output_type": "execute_result"
    }
   ],
   "source": [
    "t = {1, 2, 3}\n",
    "table.remove(t, 1) -- remove first element\n",
    "table.remove(t) -- remove last element\n",
    "print(t)"
   ]
  },
  {
   "cell_type": "markdown",
   "metadata": {},
   "source": [
    "# _G"
   ]
  },
  {
   "cell_type": "markdown",
   "metadata": {},
   "source": [
    "_G is a special table of all global variables"
   ]
  },
  {
   "cell_type": "code",
   "execution_count": 28,
   "metadata": {
    "collapsed": false
   },
   "outputs": [],
   "source": [
    "a={\"a\", \"b\", \"c\"}\n",
    "b={1, 2, 3}\n",
    "assert(_G[\"a\"]==a)"
   ]
  },
  {
   "cell_type": "code",
   "execution_count": 30,
   "metadata": {
    "collapsed": false
   },
   "outputs": [
    {
     "data": {
      "text/plain": [
       "true\t\n"
      ]
     },
     "execution_count": 30,
     "metadata": {},
     "output_type": "execute_result"
    }
   ],
   "source": [
    "assert(_G['_G'] == _G)"
   ]
  },
  {
   "cell_type": "markdown",
   "metadata": {},
   "source": [
    "## Using tables as lists / arrays  "
   ]
  },
  {
   "cell_type": "markdown",
   "metadata": {},
   "source": [
    "List literals implicitly set up int keys  \n",
    "A 'list' is not a real type, it is just a table with consecutive integer keys, treated as a list."
   ]
  },
  {
   "cell_type": "code",
   "execution_count": 5,
   "metadata": {
    "collapsed": false
   },
   "outputs": [
    {
     "data": {
      "text/plain": [
       "1\tvalue1\t\n",
       "2\tvalue2\t\n",
       "3\t1.21\t\n"
      ]
     },
     "execution_count": 5,
     "metadata": {},
     "output_type": "execute_result"
    }
   ],
   "source": [
    "v = {'value1', 'value2', 1.21}\n",
    "for i = 1, #v do -- indices start at 1\n",
    "  print(i, v[i])  \n",
    "end"
   ]
  },
  {
   "cell_type": "markdown",
   "metadata": {},
   "source": [
    "## Member Function"
   ]
  },
  {
   "cell_type": "code",
   "execution_count": 20,
   "metadata": {
    "collapsed": false
   },
   "outputs": [
    {
     "data": {
      "text/plain": [
       "4\t\n"
      ]
     },
     "execution_count": 20,
     "metadata": {},
     "output_type": "execute_result"
    }
   ],
   "source": [
    "t = {}\n",
    "t.f0 = function(n)\n",
    "    return n+2\n",
    "end\n",
    "\n",
    "print(t.f0(2))\n",
    "-- or\n",
    "--print(t[\"f0\"](2))"
   ]
  },
  {
   "cell_type": "code",
   "execution_count": 19,
   "metadata": {
    "collapsed": false
   },
   "outputs": [
    {
     "data": {
      "text/plain": [
       "4\t\n",
       "4\t\n"
      ]
     },
     "execution_count": 19,
     "metadata": {},
     "output_type": "execute_result"
    }
   ],
   "source": [
    "t = {}\n",
    "f0 = function(n) return n+2 end\n",
    "\n",
    "t.f0=f0\n",
    "print(t.f0(2))\n",
    "-- or\n",
    "--print(t[\"f0\"](2))"
   ]
  },
  {
   "cell_type": "markdown",
   "metadata": {},
   "source": [
    "## Namespaces"
   ]
  },
  {
   "cell_type": "markdown",
   "metadata": {},
   "source": [
    "By using a table to store related functions, it can act as a namespace."
   ]
  },
  {
   "cell_type": "code",
   "execution_count": 15,
   "metadata": {
    "collapsed": true
   },
   "outputs": [],
   "source": [
    "Point = {}\n",
    "\n",
    "Point.new = function (x, y)\n",
    "  return {x = x, y = y}  --  return {[\"x\"] = x, [\"y\"] = y}\n",
    "end\n",
    "\n",
    "Point.set_x = function (point, x)\n",
    "  point.x = x  --  point[\"x\"] = x;\n",
    "end"
   ]
  },
  {
   "cell_type": "markdown",
   "metadata": {},
   "source": [
    "## Metamethods"
   ]
  },
  {
   "cell_type": "markdown",
   "metadata": {},
   "source": [
    "predefined functions that can be overloaded to change functionalities"
   ]
  },
  {
   "cell_type": "markdown",
   "metadata": {},
   "source": [
    "Full list: http://lua-users.org/wiki/MetatableEvents\n",
    "\n",
    ". | .\n",
    "--- | --  \n",
    "\\__index | \n",
    "\\__newindex |\n",
    "\\__mode |\n",
    "\\__call |\n",
    "\\__metatable |\n",
    "\\__tostring |\n",
    "\\__len |\n",
    "\\__gc |\n",
    "\n",
    "Mathematic Operators\n",
    "\n",
    ". | .\n",
    "--- | -- \n",
    "\\__unm | \n",
    "\\__add |\n",
    "\\__sub | Subtraction. Similar to addition, using the '-' operator.\n",
    "\\__mul | Multiplication. Similar to addition, using the '*' operator.\n",
    "\\__div | Division. Similar to addition, using the '/' operator.\n",
    "\\__mod | Modulo. Similar to addition, using the '%' operator.\n",
    "\\__pow | Involution. Similar to addition, using the '^' operator.\n",
    "\\__concat | Concatenation. Similar to addition, using the '..' operator. \n",
    "\n",
    "Equivalence Comparison Operators\n",
    "\n",
    ". | .\n",
    "--- | -- \n",
    "\\__eq |\n",
    "\\__lt |\n",
    "\\__le |"
   ]
  },
  {
   "cell_type": "markdown",
   "metadata": {},
   "source": [
    "### __index"
   ]
  },
  {
   "cell_type": "markdown",
   "metadata": {},
   "source": [
    "lets you run a custom function or use a \"fallback\" table if a key in a table doesn't exist.  \n",
    "If a function is used, its first parameter will be the table that the lookup failed on, and the second parameter will be the key. "
   ]
  },
  {
   "cell_type": "code",
   "execution_count": 31,
   "metadata": {
    "collapsed": false
   },
   "outputs": [
    {
     "data": {
      "text/plain": [
       "nil\t\n"
      ]
     },
     "execution_count": 31,
     "metadata": {},
     "output_type": "execute_result"
    }
   ],
   "source": [
    "t={ __index=function (tab, key) return \"not found\" end }\n",
    "\n",
    "--t={}\n",
    "--t.__index= function(tab, key) return \"not found\" end\n",
    "\n",
    "print(t[\"a\"])"
   ]
  },
  {
   "cell_type": "code",
   "execution_count": 50,
   "metadata": {
    "collapsed": false
   },
   "outputs": [
    {
     "data": {
      "text/plain": [
       "key not found\t\n"
      ]
     },
     "execution_count": 50,
     "metadata": {},
     "output_type": "execute_result"
    }
   ],
   "source": [
    "t={}\n",
    "\n",
    "mt = {}\n",
    "function mt:__index(key)\n",
    "    assert(self == t) -- self is the table for wich the lookup failed\n",
    "    return \"key not found\" \n",
    "end\n",
    "\n",
    "setmetatable(t, mt)\n",
    "\n",
    "print(t[\"a\"])"
   ]
  },
  {
   "cell_type": "code",
   "execution_count": 3,
   "metadata": {
    "collapsed": false
   },
   "outputs": [
    {
     "data": {
      "text/plain": [
       "key found!\t\n"
      ]
     },
     "execution_count": 3,
     "metadata": {},
     "output_type": "execute_result"
    }
   ],
   "source": [
    "t={ }\n",
    "mt = { __index= { a=\"key found!\" } }  -- when __index is a table, lua redoes the access in that tabel\n",
    "setmetatable(t, mt)\n",
    "\n",
    "\n",
    "print(t[\"a\"])"
   ]
  },
  {
   "cell_type": "markdown",
   "metadata": {},
   "source": [
    "### __add"
   ]
  },
  {
   "cell_type": "code",
   "execution_count": 34,
   "metadata": {
    "collapsed": false
   },
   "outputs": [
    {
     "ename": "[string \"t={n=3}...\"]:7: attempt to perform arithmetic on global 't' (a table value)\nstack traceback:\n\t[string \"t={n=3}...\"]:7: in main chunk\n\t[C]: in function 'xpcall'\n\t/home/alex/torch/install/share/lua/5.1/itorch/main.lua:210: in function </home/alex/torch/install/share/lua/5.1/itorch/main.lua:174>\n\t/home/alex/torch/install/share/lua/5.1/lzmq/poller.lua:75: in function 'poll'\n\t/home/alex/torch/install/share/lua/5.1/lzmq/impl/loop.lua:307: in function 'poll'\n\t/home/alex/torch/install/share/lua/5.1/lzmq/impl/loop.lua:325: in function 'sleep_ex'\n\t/home/alex/torch/install/share/lua/5.1/lzmq/impl/loop.lua:370: in function 'start'\n\t/home/alex/torch/install/share/lua/5.1/itorch/main.lua:389: in main chunk\n\t[C]: in function 'require'\n\t(command line):1: in main chunk\n\t[C]: at 0x00405ea0",
     "evalue": "",
     "output_type": "error",
     "traceback": [
      "[string \"t={n=3}...\"]:7: attempt to perform arithmetic on global 't' (a table value)\nstack traceback:\n\t[string \"t={n=3}...\"]:7: in main chunk\n\t[C]: in function 'xpcall'\n\t/home/alex/torch/install/share/lua/5.1/itorch/main.lua:210: in function </home/alex/torch/install/share/lua/5.1/itorch/main.lua:174>\n\t/home/alex/torch/install/share/lua/5.1/lzmq/poller.lua:75: in function 'poll'\n\t/home/alex/torch/install/share/lua/5.1/lzmq/impl/loop.lua:307: in function 'poll'\n\t/home/alex/torch/install/share/lua/5.1/lzmq/impl/loop.lua:325: in function 'sleep_ex'\n\t/home/alex/torch/install/share/lua/5.1/lzmq/impl/loop.lua:370: in function 'start'\n\t/home/alex/torch/install/share/lua/5.1/itorch/main.lua:389: in main chunk\n\t[C]: in function 'require'\n\t(command line):1: in main chunk\n\t[C]: at 0x00405ea0"
     ]
    }
   ],
   "source": [
    "t={n=3}\n",
    "\n",
    "t.__add = function (lhs, rhs) -- \"add\" event handler\n",
    "    return { value = lhs.value + rhs.value }\n",
    "  end\n",
    "\n",
    "y = t + t\n",
    "print(y.value)\n",
    "--print(t.m)"
   ]
  },
  {
   "cell_type": "markdown",
   "metadata": {},
   "source": [
    "### __call"
   ]
  },
  {
   "cell_type": "code",
   "execution_count": 25,
   "metadata": {
    "collapsed": false
   },
   "outputs": [
    {
     "data": {
      "text/plain": [
       "called\t\n"
      ]
     },
     "execution_count": 25,
     "metadata": {},
     "output_type": "execute_result"
    }
   ],
   "source": [
    "t={}\n",
    "setmetatable(t, { __call=function () print(\"called\") end })\n",
    "t()"
   ]
  },
  {
   "cell_type": "markdown",
   "metadata": {},
   "source": [
    "## Metatables"
   ]
  },
  {
   "cell_type": "markdown",
   "metadata": {},
   "source": [
    "a metatable is a normal table that attaches itself to another normal table to add extra functionalities"
   ]
  },
  {
   "cell_type": "code",
   "execution_count": 13,
   "metadata": {
    "collapsed": false
   },
   "outputs": [
    {
     "data": {
      "text/plain": [
       "1\t\n",
       "10\t\n",
       "1\t\n",
       "10\t\n"
      ]
     },
     "execution_count": 13,
     "metadata": {},
     "output_type": "execute_result"
    }
   ],
   "source": [
    "t={n=1}\n",
    "mt={n=10}\n",
    "ret = setmetatable(t, mt) --return t with mt as metatable\n",
    "\n",
    "print(t.n)\n",
    "print(getmetatable(t).n)\n",
    "print(ret.n)\n",
    "print(getmetatable(ret).n)\n",
    "assert(ret == t)\n",
    "assert(tostring(ret) == tostring(t)) -- compare memory address"
   ]
  },
  {
   "cell_type": "markdown",
   "metadata": {},
   "source": [
    "https://www.lua.org/pil/13.html\n",
    "\n",
    "Usually, tables in Lua have a quite predictable set of operations. We can add key-value pairs, we can check the value associated with a key, we can traverse all key-value pairs, and that is all. We cannot add tables, we cannot compare tables, and we cannot call a table.\n",
    "\n",
    "Metatables allow us to change the behavior of a table. For instance, using metatables, we can define how Lua computes the expression a+b, where a and b are tables. Whenever Lua tries to add two tables, it checks whether either of them has a metatable and whether that metatable has an __add field. If Lua finds this field, it calls the corresponding value (the so-called metamethod, which should be a function) to compute the sum.\n",
    "\n",
    "Each table in Lua may have its own metatable. (userdata also can have metatables).  \n",
    "Lua always create new tables without metatables:"
   ]
  },
  {
   "cell_type": "code",
   "execution_count": 3,
   "metadata": {
    "collapsed": false
   },
   "outputs": [],
   "source": [
    "t = {}\n",
    "assert(getmetatable(t)==nil)"
   ]
  },
  {
   "cell_type": "markdown",
   "metadata": {},
   "source": [
    "A table can be its own metatable (so that it describes its own individual behavior)."
   ]
  },
  {
   "cell_type": "code",
   "execution_count": 6,
   "metadata": {
    "collapsed": false
   },
   "outputs": [],
   "source": [
    "t={ n=5 }\n",
    "\n",
    "t.__add = function (lhs, rhs)\n",
    "-- OR\n",
    "--function t.__add(lhs, rhs)\n",
    "    return { n = lhs.n + rhs.n }\n",
    "  end\n",
    "\n",
    "setmetatable(t, t)\n",
    "\n",
    "y = t + t\n",
    "\n",
    "assert(y.n==10)"
   ]
  },
  {
   "cell_type": "code",
   "execution_count": 6,
   "metadata": {
    "collapsed": false
   },
   "outputs": [],
   "source": [
    "t={ n = 5 }\n",
    "\n",
    "mt = {\n",
    "  __add = function (lhs, rhs)\n",
    "    return { n = lhs.n + rhs.n }\n",
    "  end\n",
    "}\n",
    "\n",
    "setmetatable(t, mt)\n",
    "\n",
    "y = t + t\n",
    "\n",
    "assert(y.n==10)"
   ]
  },
  {
   "cell_type": "code",
   "execution_count": 8,
   "metadata": {
    "collapsed": false
   },
   "outputs": [
    {
     "data": {
      "text/plain": [
       "1\t1\t\n",
       "2\t2\t\n",
       "3\t3\t\n",
       "4\t4\t\n",
       "5\t5\t\n",
       "6\t6\t\n"
      ]
     },
     "execution_count": 8,
     "metadata": {},
     "output_type": "execute_result"
    }
   ],
   "source": [
    "t1 = { 1, 2, 3 }\n",
    "\n",
    "setmetatable(t1, {\n",
    "   __add = function(lhs, rhs)\n",
    "      for i = 1, table.maxn(rhs) do\n",
    "         table.insert(lhs, table.maxn(lhs)+1, rhs[i])\n",
    "      end\n",
    "      return lhs\n",
    "   end\n",
    "})\n",
    "\n",
    "t2 = { 4,5,6 }\n",
    "\n",
    "t3 = t1 + t2\n",
    "\n",
    "for k,v in ipairs(t3) do\n",
    "   print(k, v)\n",
    "end"
   ]
  },
  {
   "cell_type": "code",
   "execution_count": 8,
   "metadata": {
    "collapsed": false
   },
   "outputs": [],
   "source": [
    "t1= {}\n",
    "t2={ n = 1 }\n",
    "mt = { __index = t2 } --fallback table when index can't be found?\n",
    "\n",
    "setmetatable(t1, mt)\n",
    "\n",
    "assert(t1.n==1)"
   ]
  },
  {
   "cell_type": "markdown",
   "metadata": {},
   "source": [
    "# Classes"
   ]
  },
  {
   "cell_type": "markdown",
   "metadata": {},
   "source": [
    "Although Lua does not have a built-in concept of classes, they can be implemented using two language features: first-class functions and tables. By placing functions and related data into a table, an object is formed.  \n",
    "\n",
    "Inheritance (both single and multiple) can be implemented via the metatable mechanism, telling the object to look up nonexistent methods and fields in parent object(s)."
   ]
  },
  {
   "cell_type": "markdown",
   "metadata": {},
   "source": [
    "Lua is a prototype-based languages (like Self and NewtonScript). In those languages, each object is not an instance of a specific class. Instead, each object may have a prototype, which is a regular object where the first object looks up any operation that it does not know about. To represent a class in such languages, we simply create an object to be used exclusively as a prototype for other objects (its instances). Both classes and prototypes work as a place to put behavior to be shared by several objects. "
   ]
  },
  {
   "cell_type": "markdown",
   "metadata": {},
   "source": [
    "Declaring member functions:  \n",
    "\n",
    "> function tablename:fn(...)  \n",
    "> is the same as  \n",
    "> function tablename.fn(self, ...)"
   ]
  },
  {
   "cell_type": "markdown",
   "metadata": {},
   "source": [
    "### Prototype"
   ]
  },
  {
   "cell_type": "markdown",
   "metadata": {},
   "source": [
    "make b a prototype for a:"
   ]
  },
  {
   "cell_type": "markdown",
   "metadata": {},
   "source": [
    "After that, a looks up in b for any operation that it does not have."
   ]
  },
  {
   "cell_type": "code",
   "execution_count": 14,
   "metadata": {
    "collapsed": false
   },
   "outputs": [],
   "source": [
    "a={}\n",
    "b={n=10}\n",
    "setmetatable(a, {__index = b})\n",
    "assert(a.n==10)"
   ]
  },
  {
   "cell_type": "code",
   "execution_count": 53,
   "metadata": {
    "collapsed": false
   },
   "outputs": [
    {
     "data": {
      "text/plain": [
       "1\t\n",
       "\n"
      ]
     },
     "execution_count": 53,
     "metadata": {},
     "output_type": "execute_result"
    }
   ],
   "source": [
    "base = {}\n",
    "base.__index = base  --  failed table lookups on the instances should fallback to the class table\n",
    "\n",
    "function base:new(n) -- factory method that create a new object with the table base (self) as prototype\n",
    "-- or\n",
    "-- function base.new(self, ...)\n",
    "  assert(self == base)\n",
    "  newObj = {n = n} -- instance of class base\n",
    "  return setmetatable(newObj, self) --return the new object with base as metatable\n",
    "end\n",
    "\n",
    "function base:get_n()\n",
    "  assert(self ~= base) -- self is the instance, not the prototype\n",
    "  print(self:print_n()) -- calling self.print_n() will fail\n",
    "  return self.n\n",
    "end\n",
    "\n",
    "function base:print_n()\n",
    "    print(self.n)\n",
    "end\n",
    "\n",
    "b = base:new(1)\n",
    "assert(b:get_n()==1)"
   ]
  },
  {
   "cell_type": "markdown",
   "metadata": {},
   "source": [
    "Inheritance"
   ]
  },
  {
   "cell_type": "markdown",
   "metadata": {},
   "source": [
    "# Operators"
   ]
  },
  {
   "cell_type": "markdown",
   "metadata": {},
   "source": [
    "not equal"
   ]
  },
  {
   "cell_type": "code",
   "execution_count": 17,
   "metadata": {
    "collapsed": false
   },
   "outputs": [
    {
     "data": {
      "text/plain": [
       "true\t\n"
      ]
     },
     "execution_count": 17,
     "metadata": {},
     "output_type": "execute_result"
    }
   ],
   "source": [
    "assert(1~=2)"
   ]
  },
  {
   "cell_type": "code",
   "execution_count": 18,
   "metadata": {
    "collapsed": false
   },
   "outputs": [
    {
     "data": {
      "text/plain": [
       "true\t\n"
      ]
     },
     "execution_count": 18,
     "metadata": {},
     "output_type": "execute_result"
    }
   ],
   "source": [
    "assert(1==1)"
   ]
  },
  {
   "cell_type": "code",
   "execution_count": 31,
   "metadata": {
    "collapsed": true
   },
   "outputs": [],
   "source": [
    "-- .. operator"
   ]
  },
  {
   "cell_type": "markdown",
   "metadata": {},
   "source": [
    "ternary (a?b:c)"
   ]
  },
  {
   "cell_type": "code",
   "execution_count": 43,
   "metadata": {
    "collapsed": false
   },
   "outputs": [],
   "source": [
    "aBoolValue=true\n",
    "ans = aBoolValue and 'yes' or 'no'\n",
    "assert(ans==\"yes\")"
   ]
  },
  {
   "cell_type": "markdown",
   "metadata": {},
   "source": [
    "exponential:"
   ]
  },
  {
   "cell_type": "code",
   "execution_count": 10,
   "metadata": {
    "collapsed": false
   },
   "outputs": [
    {
     "data": {
      "text/plain": [
       "true\t\n"
      ]
     },
     "execution_count": 10,
     "metadata": {},
     "output_type": "execute_result"
    }
   ],
   "source": [
    "assert(9^2==81)"
   ]
  },
  {
   "cell_type": "markdown",
   "metadata": {},
   "source": [
    "# Control Flow"
   ]
  },
  {
   "cell_type": "markdown",
   "metadata": {},
   "source": [
    "While loop"
   ]
  },
  {
   "cell_type": "code",
   "execution_count": 9,
   "metadata": {
    "collapsed": false
   },
   "outputs": [],
   "source": [
    "num=0\n",
    "while num < 50 do\n",
    "  num = num + 1  -- No ++ or += type operators.\n",
    "end"
   ]
  },
  {
   "cell_type": "markdown",
   "metadata": {},
   "source": [
    "if"
   ]
  },
  {
   "cell_type": "code",
   "execution_count": 26,
   "metadata": {
    "collapsed": false
   },
   "outputs": [
    {
     "data": {
      "text/plain": [
       "over 40\t\n"
      ]
     },
     "execution_count": 26,
     "metadata": {},
     "output_type": "execute_result"
    }
   ],
   "source": [
    "num=50\n",
    "s=\"sdf\"\n",
    "if num > 40 then\n",
    "  print('over 40')\n",
    "elseif s ~= 'walternate' then\n",
    "  print('not over 40\\n')\n",
    "else\n",
    "  thisIsGlobal = 5\n",
    "end"
   ]
  },
  {
   "cell_type": "markdown",
   "metadata": {},
   "source": [
    "foreach"
   ]
  },
  {
   "cell_type": "code",
   "execution_count": 167,
   "metadata": {
    "collapsed": false
   },
   "outputs": [
    {
     "data": {
      "text/plain": [
       "3\t\n",
       "1\tone\t\n",
       "2\ttwo\t\n",
       "3\tthree\t\n"
      ]
     },
     "execution_count": 167,
     "metadata": {},
     "output_type": "execute_result"
    }
   ],
   "source": [
    "--t={ zero=0, one=1 }\n",
    "t={\"one\", \"two\", \"three\"}\n",
    "\n",
    "print(#t)\n",
    "\n",
    "for k,v in ipairs(t) do\n",
    "   print(k,v)\n",
    "end"
   ]
  },
  {
   "cell_type": "markdown",
   "metadata": {},
   "source": [
    "range (begin, end[, step])"
   ]
  },
  {
   "cell_type": "code",
   "execution_count": 44,
   "metadata": {
    "collapsed": true
   },
   "outputs": [],
   "source": [
    "karlSum = 0\n",
    "for i = 1, 100 do  -- The range includes both ends.\n",
    "  karlSum = karlSum + i\n",
    "end"
   ]
  },
  {
   "cell_type": "code",
   "execution_count": null,
   "metadata": {
    "collapsed": true
   },
   "outputs": [],
   "source": [
    "-- Use \"100, 1, -1\" as the range to count down:\n",
    "fredSum = 0\n",
    "for j = 100, 1, -1 do fredSum = fredSum + j end"
   ]
  },
  {
   "cell_type": "markdown",
   "metadata": {},
   "source": [
    "repeat"
   ]
  },
  {
   "cell_type": "code",
   "execution_count": 1,
   "metadata": {
    "collapsed": false
   },
   "outputs": [],
   "source": [
    "num=10\n",
    "repeat\n",
    "  num = num - 1\n",
    "until num == 0"
   ]
  },
  {
   "cell_type": "markdown",
   "metadata": {},
   "source": [
    "Table iteration"
   ]
  },
  {
   "cell_type": "code",
   "execution_count": 30,
   "metadata": {
    "collapsed": false
   },
   "outputs": [
    {
     "data": {
      "text/plain": [
       "key2\tfalse\t\n",
       "key1\tvalue1\t\n"
      ]
     },
     "execution_count": 30,
     "metadata": {},
     "output_type": "execute_result"
    }
   ],
   "source": [
    "t = {key1 = 'value1', key2 = false}\n",
    "\n",
    "for key, val in pairs(t) do\n",
    "  print(key, val)\n",
    "end"
   ]
  },
  {
   "cell_type": "markdown",
   "metadata": {},
   "source": [
    "# Functions"
   ]
  },
  {
   "cell_type": "code",
   "execution_count": 4,
   "metadata": {
    "collapsed": true
   },
   "outputs": [],
   "source": [
    "function f(n)\n",
    "    return n+1\n",
    "end"
   ]
  },
  {
   "cell_type": "code",
   "execution_count": 5,
   "metadata": {
    "collapsed": false
   },
   "outputs": [
    {
     "data": {
      "text/plain": [
       "3\t\n"
      ]
     },
     "execution_count": 5,
     "metadata": {},
     "output_type": "execute_result"
    }
   ],
   "source": [
    "print(f(2))"
   ]
  },
  {
   "cell_type": "markdown",
   "metadata": {},
   "source": [
    "function object:"
   ]
  },
  {
   "cell_type": "code",
   "execution_count": 7,
   "metadata": {
    "collapsed": true
   },
   "outputs": [],
   "source": [
    "g=function (n) return n+2 end"
   ]
  },
  {
   "cell_type": "code",
   "execution_count": 8,
   "metadata": {
    "collapsed": false
   },
   "outputs": [
    {
     "data": {
      "text/plain": [
       "4\t\n"
      ]
     },
     "execution_count": 8,
     "metadata": {},
     "output_type": "execute_result"
    }
   ],
   "source": [
    "print(g(2))"
   ]
  },
  {
   "cell_type": "markdown",
   "metadata": {},
   "source": [
    "These are the same:"
   ]
  },
  {
   "cell_type": "code",
   "execution_count": 12,
   "metadata": {
    "collapsed": true
   },
   "outputs": [],
   "source": [
    "function f(n) return n+1 end\n",
    "f = function (n) return n+1 end"
   ]
  },
  {
   "cell_type": "markdown",
   "metadata": {},
   "source": [
    "A *one-table-parameter* function call does not need parentesis:"
   ]
  },
  {
   "cell_type": "code",
   "execution_count": 22,
   "metadata": {
    "collapsed": false,
    "scrolled": true
   },
   "outputs": [
    {
     "data": {
      "text/plain": [
       "abc\t\n",
       "abc\t\n"
      ]
     },
     "execution_count": 22,
     "metadata": {},
     "output_type": "execute_result"
    }
   ],
   "source": [
    "function f(x) print(x.key1) end\n",
    "\n",
    "f({key1 = 'abc'})\n",
    "-- or\n",
    "f{key1 = 'abc'}"
   ]
  },
  {
   "cell_type": "code",
   "execution_count": 176,
   "metadata": {
    "collapsed": false
   },
   "outputs": [],
   "source": [
    "if False then\n",
    "    a = {p = print}\n",
    "    a.p(\"Hello World\") --> Hello World\n",
    "    print = math.sin  -- `print' now refers to the sine function\n",
    "    a.p(print(1))     --> 0.841470\n",
    "    sin = a.p         -- `sin' now refers to the print function\n",
    "    sin(10, 20)       --> 10      20\n",
    "end"
   ]
  },
  {
   "cell_type": "markdown",
   "metadata": {},
   "source": [
    "Because functions are first-class values in lua, we can store them in table fields:"
   ]
  },
  {
   "cell_type": "code",
   "execution_count": 19,
   "metadata": {
    "collapsed": false
   },
   "outputs": [],
   "source": [
    "t={ n=1, add=function (n) return n+1 end }\n",
    "\n",
    "assert(t.add(t.n)==2)"
   ]
  },
  {
   "cell_type": "code",
   "execution_count": 27,
   "metadata": {
    "collapsed": false
   },
   "outputs": [],
   "source": [
    "t={ n=1 }\n",
    "\n",
    "t.add=function (n) return n+1 end\n",
    "\n",
    "assert(t.add(t.n)==2)"
   ]
  },
  {
   "cell_type": "code",
   "execution_count": 29,
   "metadata": {
    "collapsed": false
   },
   "outputs": [],
   "source": [
    "t = { n=1 }\n",
    "\n",
    "--function t.add(self)\n",
    "--or\n",
    "--t.add=function (self)\n",
    "--    self.n=self.n+1\n",
    "--end    \n",
    "--or\n",
    "function t:add()\n",
    "    self.n=self.n+1\n",
    "end\n",
    "\n",
    "t:add()\n",
    "t.add(t)\n",
    "\n",
    "assert(t.n==3)"
   ]
  },
  {
   "cell_type": "markdown",
   "metadata": {},
   "source": [
    "Tables are always passed by reference"
   ]
  },
  {
   "cell_type": "code",
   "execution_count": 20,
   "metadata": {
    "collapsed": false
   },
   "outputs": [],
   "source": [
    "a_table = {x = 10}\n",
    "assert(a_table[\"x\"]==10)\n",
    "\n",
    "b_table = a_table\n",
    "b_table[\"x\"] = 20\n",
    "\n",
    "assert(b_table[\"x\"]==20)\n",
    "assert(a_table[\"x\"]==20)"
   ]
  },
  {
   "cell_type": "code",
   "execution_count": 19,
   "metadata": {
    "collapsed": false
   },
   "outputs": [],
   "source": [
    "function f(t)\n",
    "    t.n=t.n+1\n",
    "end\n",
    "\n",
    "t={ n=1 }\n",
    "f(t)\n",
    "\n",
    "assert(t.n==2)"
   ]
  },
  {
   "cell_type": "markdown",
   "metadata": {},
   "source": [
    "# Argument Binding"
   ]
  },
  {
   "cell_type": "code",
   "execution_count": 32,
   "metadata": {
    "collapsed": false
   },
   "outputs": [
    {
     "data": {
      "text/plain": [
       "5\t\n"
      ]
     },
     "execution_count": 32,
     "metadata": {},
     "output_type": "execute_result"
    }
   ],
   "source": [
    "function add1(a)\n",
    "   return a+1\n",
    "end\n",
    "\n",
    "function bind(f, a)\n",
    "   return function() return f(a) end\n",
    "end\n",
    "\n",
    "local f = bind(add1, 4)\n",
    "print(f())"
   ]
  },
  {
   "cell_type": "code",
   "execution_count": 29,
   "metadata": {
    "collapsed": false
   },
   "outputs": [
    {
     "data": {
      "text/plain": [
       "11\t\n"
      ]
     },
     "execution_count": 29,
     "metadata": {},
     "output_type": "execute_result"
    }
   ],
   "source": [
    "function add(a, b)\n",
    "   return a+b\n",
    "end\n",
    "\n",
    "function bind(f, b)\n",
    "   return function(a) return f(a, b) end\n",
    "end\n",
    "\n",
    "local add1 = bind(add, 1)\n",
    "print(add1(10))"
   ]
  },
  {
   "cell_type": "markdown",
   "metadata": {},
   "source": [
    "## Closure"
   ]
  },
  {
   "cell_type": "code",
   "execution_count": 2,
   "metadata": {
    "collapsed": false
   },
   "outputs": [],
   "source": [
    "function add(n)\n",
    "    return m+n\n",
    "end\n",
    "\n",
    "m=5\n",
    "assert(add(1)==6)"
   ]
  },
  {
   "cell_type": "code",
   "execution_count": 12,
   "metadata": {
    "collapsed": false
   },
   "outputs": [],
   "source": [
    "function addTo(n)\n",
    "    ret=function (m)\n",
    "        return n+m\n",
    "    end\n",
    "    return ret \n",
    "end\n",
    "\n",
    "addToOne=addTo(1)\n",
    "addToTwo=addTo(2)\n",
    "\n",
    "assert(addToOne(1)==2)\n",
    "assert(addToTwo(2)==4)"
   ]
  },
  {
   "cell_type": "markdown",
   "metadata": {},
   "source": [
    "# Modules"
   ]
  },
  {
   "cell_type": "markdown",
   "metadata": {},
   "source": [
    "a collection of modules is a package"
   ]
  },
  {
   "cell_type": "markdown",
   "metadata": {},
   "source": [
    "lua equivalent to namespaces"
   ]
  },
  {
   "cell_type": "markdown",
   "metadata": {},
   "source": [
    "\"require\" is the standard way to include modules."
   ]
  },
  {
   "cell_type": "markdown",
   "metadata": {},
   "source": [
    "require acts like:  \n",
    "local mod = (function ()  \n",
    "    [contents of mod.lua]  \n",
    "end)()  \n",
    "It's like mod.lua is a function body, so that  "
   ]
  },
  {
   "cell_type": "markdown",
   "metadata": {},
   "source": [
    "locals inside mod.lua are invisible outside it."
   ]
  },
  {
   "cell_type": "code",
   "execution_count": 11,
   "metadata": {
    "collapsed": false
   },
   "outputs": [],
   "source": [
    "mod = require('mod') -- run the file mod.lua\n",
    "-- or\n",
    "require(\"mod\")"
   ]
  },
  {
   "cell_type": "code",
   "execution_count": 12,
   "metadata": {
    "collapsed": false
   },
   "outputs": [
    {
     "data": {
      "text/plain": [
       "{\n",
       "  add : function: 0x41a32368\n",
       "}\n",
       "nil\t\n"
      ]
     },
     "execution_count": 12,
     "metadata": {},
     "output_type": "execute_result"
    }
   ],
   "source": [
    "print(mod)\n",
    "print(base_math)"
   ]
  },
  {
   "cell_type": "code",
   "execution_count": 3,
   "metadata": {
    "collapsed": false
   },
   "outputs": [
    {
     "data": {
      "text/plain": [
       "table\t\n"
      ]
     },
     "execution_count": 3,
     "metadata": {},
     "output_type": "execute_result"
    }
   ],
   "source": [
    "print(type(mod))"
   ]
  },
  {
   "cell_type": "code",
   "execution_count": 4,
   "metadata": {
    "collapsed": false
   },
   "outputs": [
    {
     "data": {
      "text/plain": [
       "6\t\n",
       "\n"
      ]
     },
     "execution_count": 4,
     "metadata": {},
     "output_type": "execute_result"
    }
   ],
   "source": [
    "mod.add(2, 4)"
   ]
  },
  {
   "cell_type": "markdown",
   "metadata": {},
   "source": [
    "# Variable Scope"
   ]
  },
  {
   "cell_type": "markdown",
   "metadata": {},
   "source": [
    "Variables are global by default"
   ]
  },
  {
   "cell_type": "code",
   "execution_count": 27,
   "metadata": {
    "collapsed": true
   },
   "outputs": [],
   "source": [
    "local line = \"sfd\""
   ]
  },
  {
   "cell_type": "code",
   "execution_count": 40,
   "metadata": {
    "collapsed": false
   },
   "outputs": [],
   "source": [
    "if true then\n",
    "    n=5 --global\n",
    "    local m=6\n",
    "    \n",
    "    if true then\n",
    "        assert(m==6)\n",
    "    end\n",
    "end\n",
    "assert(n==5)\n",
    "assert(m==nil)"
   ]
  },
  {
   "cell_type": "code",
   "execution_count": 19,
   "metadata": {
    "collapsed": true
   },
   "outputs": [],
   "source": [
    "function f()\n",
    "    n=5 --global\n",
    "    local m=6\n",
    "end\n",
    "--assert(n==5)\n",
    "--assert(m==nil)"
   ]
  },
  {
   "cell_type": "markdown",
   "metadata": {},
   "source": [
    "# Date / Time"
   ]
  },
  {
   "cell_type": "markdown",
   "metadata": {},
   "source": [
    "number of seconds since some epoch"
   ]
  },
  {
   "cell_type": "code",
   "execution_count": 107,
   "metadata": {
    "collapsed": false
   },
   "outputs": [
    {
     "data": {
      "text/plain": [
       "1482595984\t\n"
      ]
     },
     "execution_count": 107,
     "metadata": {},
     "output_type": "execute_result"
    }
   ],
   "source": [
    "os.time()"
   ]
  },
  {
   "cell_type": "code",
   "execution_count": 108,
   "metadata": {
    "collapsed": false
   },
   "outputs": [
    {
     "data": {
      "text/plain": [
       "Sat Dec 24 16:13:19 2016\t\n"
      ]
     },
     "execution_count": 108,
     "metadata": {},
     "output_type": "execute_result"
    }
   ],
   "source": [
    "os.date()"
   ]
  },
  {
   "cell_type": "markdown",
   "metadata": {},
   "source": [
    "wday: week day (1 is Sunday)  \n",
    "yday: year day (1 is January 1)"
   ]
  },
  {
   "cell_type": "code",
   "execution_count": 109,
   "metadata": {
    "collapsed": false
   },
   "outputs": [
    {
     "data": {
      "text/plain": [
       "{\n",
       "  day : 24\n",
       "  year : 2016\n",
       "  isdst : false\n",
       "  sec : 17\n",
       "  month : 12\n",
       "  yday : 359\n",
       "  wday : 7\n",
       "  hour : 16\n",
       "  min : 15\n",
       "}\n"
      ]
     },
     "execution_count": 109,
     "metadata": {},
     "output_type": "execute_result"
    }
   ],
   "source": [
    "os.date(\"*t\", os.time())"
   ]
  },
  {
   "cell_type": "markdown",
   "metadata": {},
   "source": [
    "%a\tabbreviated weekday name (e.g., Wed)  \n",
    "%A\tfull weekday name (e.g., Wednesday)  \n",
    "%b\tabbreviated month name (e.g., Sep)  \n",
    "%B\tfull month name (e.g., September)  \n",
    "%c\tdate and time (e.g., 09/16/98 23:48:10)   -- DEFAULT  \n",
    "%d\tday of the month (16) [01-31]  \n",
    "%H\thour, using a 24-hour clock (23) [00-23]  \n",
    "%I\thour, using a 12-hour clock (11) [01-12]  \n",
    "%M\tminute (48) [00-59]  \n",
    "%m\tmonth (09) [01-12]  \n",
    "%p\teither \"am\" or \"pm\" (pm)  \n",
    "%S\tsecond (10) [00-61]  \n",
    "%w\tweekday (3) [0-6 = Sunday-Saturday]  \n",
    "%x\tdate (e.g., 09/16/98)  \n",
    "%X\ttime (e.g., 23:48:10)  \n",
    "%Y\tfull year (1998)  \n",
    "%y\ttwo-digit year (98) [00-99]  \n",
    "%%\tthe character `%´  "
   ]
  },
  {
   "cell_type": "code",
   "execution_count": 6,
   "metadata": {
    "collapsed": false
   },
   "outputs": [
    {
     "data": {
      "text/plain": [
       "today is Monday, in October\t\n"
      ]
     },
     "execution_count": 6,
     "metadata": {},
     "output_type": "execute_result"
    }
   ],
   "source": [
    "print(os.date(\"today is %A, in %B\"))"
   ]
  },
  {
   "cell_type": "code",
   "execution_count": 1,
   "metadata": {
    "collapsed": false
   },
   "outputs": [
    {
     "data": {
      "text/plain": [
       "10/02/17\t\n"
      ]
     },
     "execution_count": 1,
     "metadata": {},
     "output_type": "execute_result"
    }
   ],
   "source": [
    "print(os.date(\"%x\", os.time()))"
   ]
  },
  {
   "cell_type": "code",
   "execution_count": 2,
   "metadata": {
    "collapsed": false
   },
   "outputs": [
    {
     "data": {
      "text/plain": [
       "20171002_15h18m48s\t\n"
      ]
     },
     "execution_count": 2,
     "metadata": {},
     "output_type": "execute_result"
    }
   ],
   "source": [
    "print(os.date(\"%Y%m%d_%Hh%Mm%Ss\", os.time()))"
   ]
  },
  {
   "cell_type": "markdown",
   "metadata": {},
   "source": [
    "os.clock() returns the number of seconds of CPU time for the program."
   ]
  },
  {
   "cell_type": "code",
   "execution_count": 112,
   "metadata": {
    "collapsed": false
   },
   "outputs": [
    {
     "data": {
      "text/plain": [
       "elapsed time: 0.00\n",
       "\t\n"
      ]
     },
     "execution_count": 112,
     "metadata": {},
     "output_type": "execute_result"
    }
   ],
   "source": [
    "local x = os.clock()\n",
    "local s = 0\n",
    "for i=1,100000 do s = s + i end\n",
    "print(string.format(\"elapsed time: %.2f\\n\", os.clock() - x))"
   ]
  },
  {
   "cell_type": "markdown",
   "metadata": {},
   "source": [
    "# unpack()"
   ]
  },
  {
   "cell_type": "markdown",
   "metadata": {},
   "source": [
    "An important use for unpack is in a generic call mechanism. A generic call mechanism allows you to call any function, with any arguments, dynamically. "
   ]
  },
  {
   "cell_type": "code",
   "execution_count": 4,
   "metadata": {
    "collapsed": true
   },
   "outputs": [],
   "source": [
    "a,b = unpack{10,20,30} -- a=10, b=20, 30 is discarded"
   ]
  },
  {
   "cell_type": "code",
   "execution_count": 6,
   "metadata": {
    "collapsed": true
   },
   "outputs": [],
   "source": [
    "function f(a,b,c) \n",
    "    return a+b+c\n",
    "end\n",
    "\n",
    "args={1,2,3}\n",
    "assert(f(unpack(args))==6)"
   ]
  },
  {
   "cell_type": "markdown",
   "metadata": {},
   "source": [
    "# Local"
   ]
  },
  {
   "cell_type": "code",
   "execution_count": 3,
   "metadata": {
    "collapsed": false
   },
   "outputs": [],
   "source": [
    "local n=0\n",
    "while n<3 do\n",
    "  --print(n)\n",
    "  n=n+1\n",
    "end"
   ]
  },
  {
   "cell_type": "markdown",
   "metadata": {},
   "source": [
    "\n",
    "# Sandbox"
   ]
  },
  {
   "cell_type": "code",
   "execution_count": null,
   "metadata": {
    "collapsed": true
   },
   "outputs": [],
   "source": []
  }
 ],
 "metadata": {
  "kernelspec": {
   "display_name": "iTorch",
   "language": "lua",
   "name": "itorch"
  },
  "language_info": {
   "name": "lua",
   "version": "5.1"
  }
 },
 "nbformat": 4,
 "nbformat_minor": 0
}
