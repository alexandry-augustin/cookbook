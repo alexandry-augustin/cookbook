{
 "cells": [
  {
   "cell_type": "markdown",
   "id": "ac7f963e-9fee-49da-8aa3-dfcaa4314203",
   "metadata": {},
   "source": [
    "http://victorlin.me/posts/2012/08/26/good-logging-practice-in-python"
   ]
  },
  {
   "cell_type": "markdown",
   "id": "22c51faf-7523-42d7-ac0a-6860f4ca98c9",
   "metadata": {},
   "source": [
    "| Level      | When it’s used                                               |\n",
    "| ---------- | ------------------------------------------------------------ |\n",
    "| `DEBUG`    | Detailed information, typically of interest only when diagnosing problems. |\n",
    "| `INFO`     | Confirmation that things are working as expected.            |\n",
    "| `WARNING`  | An indication that something unexpected happened, or indicative of some problem in the near future (e.g. ‘disk space low’). The software is still working as expected. |\n",
    "| `ERROR`    | Due to a more serious problem, the software has not been able to perform some function. |\n",
    "| `CRITICAL` | A serious error, indicating that the program itself may be unable to continue running. |"
   ]
  },
  {
   "cell_type": "markdown",
   "id": "7c3b0a93-51c1-4f4c-af59-a9e7872252f4",
   "metadata": {},
   "source": [
    "> \"Notice that the debug() and info() messages didn’t get logged. This is because, by default, the logging module logs the messages with a severity level of WARNING or above. You can change that by configuring the logging module to log events of all levels if you want. You can also define your own severity levels by changing configurations, but it is generally not recommended as it can cause confusion with logs of some third-party libraries that you might be using.\" -- https://realpython.com/python-logging/"
   ]
  },
  {
   "cell_type": "markdown",
   "id": "3411b2a5-715e-4325-9c74-bca2acd5fcc0",
   "metadata": {},
   "source": [
    "`--log=INFO`: set the logging level from a command-line option"
   ]
  },
  {
   "cell_type": "code",
   "execution_count": 1,
   "id": "03925d94-532c-4475-8ee4-4cd6dcc6dcab",
   "metadata": {},
   "outputs": [],
   "source": [
    "import logging"
   ]
  },
  {
   "cell_type": "code",
   "execution_count": 2,
   "id": "a17dbeac-fab8-47d8-a56d-7f376d729839",
   "metadata": {},
   "outputs": [],
   "source": [
    "log_format = '[%(asctime)s][%(name)s][%(levelname)s] %(message)s'"
   ]
  },
  {
   "cell_type": "code",
   "execution_count": 3,
   "id": "c3a8170b-4bbb-41aa-848a-96a3ced57c54",
   "metadata": {},
   "outputs": [
    {
     "data": {
      "text/plain": [
       "(10, 20, 30, 40, 50)"
      ]
     },
     "execution_count": 3,
     "metadata": {},
     "output_type": "execute_result"
    }
   ],
   "source": [
    "(logging.DEBUG, \n",
    "logging.INFO, \n",
    "logging.WARNING, \n",
    "logging.ERROR, \n",
    "logging.CRITICAL)"
   ]
  },
  {
   "cell_type": "code",
   "execution_count": 4,
   "id": "dcd1cb29-f5e7-4a81-9161-ced60ab729a9",
   "metadata": {},
   "outputs": [
    {
     "data": {
      "text/plain": [
       "0"
      ]
     },
     "execution_count": 4,
     "metadata": {},
     "output_type": "execute_result"
    }
   ],
   "source": [
    "logging.NOTSET"
   ]
  },
  {
   "cell_type": "markdown",
   "id": "d0b2c18f-ff93-494c-9f37-e69799e213ff",
   "metadata": {},
   "source": [
    "# Root Logger"
   ]
  },
  {
   "cell_type": "code",
   "execution_count": 6,
   "id": "a44ec02f-c48f-4d9d-bd5f-bac578d1836d",
   "metadata": {},
   "outputs": [],
   "source": [
    "logging.basicConfig(format=log_format, \n",
    "                    datefmt=\"%Y-%m-%dT%H:%M:%S%z\", # ISO format\n",
    "                    level=logging.DEBUG, \n",
    "                    \n",
    "                    # filename='log', \n",
    "                    # encoding='utf-8', \n",
    "                    # filemode='w'\n",
    "                    )"
   ]
  },
  {
   "cell_type": "code",
   "execution_count": 7,
   "id": "5c929810-007a-47e9-bb57-7b10fea76b6a",
   "metadata": {},
   "outputs": [
    {
     "data": {
      "text/plain": [
       "10"
      ]
     },
     "execution_count": 7,
     "metadata": {},
     "output_type": "execute_result"
    }
   ],
   "source": [
    "loglevel = 'DEBUG'\n",
    "getattr(logging, loglevel.upper())"
   ]
  },
  {
   "cell_type": "code",
   "execution_count": 8,
   "id": "a24b3aaa-7283-4d25-a3bd-0adb027f9662",
   "metadata": {},
   "outputs": [
    {
     "name": "stderr",
     "output_type": "stream",
     "text": [
      "[2022-03-15T09:44:44+0000][root][DEBUG] debug\n",
      "[2022-03-15T09:44:44+0000][root][INFO] info\n",
      "[2022-03-15T09:44:44+0000][root][WARNING] warning\n",
      "[2022-03-15T09:44:44+0000][root][ERROR] error\n",
      "[2022-03-15T09:44:44+0000][root][CRITICAL] critical\n"
     ]
    }
   ],
   "source": [
    "logging.debug('debug')\n",
    "logging.info('info')\n",
    "logging.warning('warning')\n",
    "logging.error('error')\n",
    "logging.critical('critical')"
   ]
  },
  {
   "cell_type": "markdown",
   "id": "f4b6ab67-e682-4b94-b453-64042d2877ac",
   "metadata": {},
   "source": [
    "# Custom Logger"
   ]
  },
  {
   "cell_type": "markdown",
   "id": "54d58a5b-d477-44cf-af1e-de78f2ca7364",
   "metadata": {},
   "source": [
    "https://docs.python.org/3/howto/logging-cookbook.html"
   ]
  },
  {
   "cell_type": "code",
   "execution_count": null,
   "id": "8dfe06cd-1f9c-4479-bf8c-a823218b5a44",
   "metadata": {},
   "outputs": [],
   "source": [
    "# name = __name__\n",
    "name = 'logger_00'\n",
    "logger = logging.getLogger(name)\n",
    "\n",
    "logger.setLevel(logging.DEBUG)\n",
    "# logger.setFormatter('[%(asctime)s][%(levelname)s] %(message)s')"
   ]
  },
  {
   "cell_type": "code",
   "execution_count": null,
   "id": "da382fe3-9b83-4b6e-86c6-824e66771794",
   "metadata": {},
   "outputs": [],
   "source": [
    "# create file handler\n",
    "fh = logging.FileHandler(filename='log', \n",
    "                         encoding='utf-8', \n",
    "                         mode='w')\n",
    "fh.setLevel(logging.DEBUG) # The logger's level filters every message before it can reach its handlers\n",
    "\n",
    "# create console handler\n",
    "ch = logging.StreamHandler()\n",
    "ch.setLevel(logging.DEBUG)\n",
    "\n",
    "# create formatter and add it to the handlers\n",
    "formatter = logging.Formatter(log_format)\n",
    "fh.setFormatter(formatter)\n",
    "ch.setFormatter(formatter)\n",
    "\n",
    "# add the handlers to the logger\n",
    "logger.addHandler(fh)\n",
    "logger.addHandler(ch)"
   ]
  },
  {
   "cell_type": "code",
   "execution_count": null,
   "id": "01c9d4a0-9d9f-4356-8fbd-9cfa1a3ab1e6",
   "metadata": {},
   "outputs": [],
   "source": [
    "logger.debug('debug')\n",
    "logger.info('info')\n",
    "logger.warning('warning')\n",
    "logger.error('error')\n",
    "logger.critical('critical')"
   ]
  },
  {
   "cell_type": "markdown",
   "id": "7e6f7d89-06cb-4f2f-a3f4-a108384ffb5e",
   "metadata": {},
   "source": [
    "# LoggerAdapter()"
   ]
  },
  {
   "cell_type": "code",
   "execution_count": null,
   "id": "b2ab1314-a154-4f26-8a70-41959ee5ed92",
   "metadata": {},
   "outputs": [],
   "source": [
    "# https://stackoverflow.com/questions/17558552/how-do-i-add-custom-field-to-python-log-format-string\n",
    "\n",
    "logger = logging.getLogger(__name__)\n",
    "syslog = logging.StreamHandler()\n",
    "formatter = logging.Formatter('[%(asctime)s][%(app_name)s] %(message)s')\n",
    "syslog.setFormatter(formatter)\n",
    "logger.setLevel(logging.INFO)\n",
    "logger.addHandler(syslog)\n",
    "\n",
    "# class extra_(object):\n",
    "#     def __init__(self):\n",
    "#         self.items = { 'app_name': 'App Name' }\n",
    "#     def __getitem__(self, key):\n",
    "#         return self.items[key]\n",
    "#     def __setitem__(self, key, value):\n",
    "#         self.items[key] = value\n",
    "# extra = extra_()\n",
    "# extra['app_name'] = 'App Name2'\n",
    "extra = { 'app_name': 'App Name' }\n",
    "logger = logging.LoggerAdapter(logger, extra)\n",
    "logger.info('info')\n",
    "\n",
    "# extra = { 'app_name': 'New Name' }\n",
    "# logger.info('info')"
   ]
  },
  {
   "cell_type": "markdown",
   "id": "e6be22ed-3993-424b-b3c8-21ba89688955",
   "metadata": {},
   "source": [
    "# AppFilter()"
   ]
  },
  {
   "cell_type": "code",
   "execution_count": 3,
   "id": "b0a67e59-8f4c-4f58-b585-1bca2cbc08ce",
   "metadata": {},
   "outputs": [
    {
     "name": "stderr",
     "output_type": "stream",
     "text": [
      "[2022-03-14 15:00:20,034][App Name][-1] info\n",
      "[2022-03-14 15:00:20,034][App Name][-1] info\n",
      "[2022-03-14 15:00:20,036][New Name][99] info\n",
      "[2022-03-14 15:00:20,036][New Name][99] info\n"
     ]
    }
   ],
   "source": [
    "# https://stackoverflow.com/questions/17558552/how-do-i-add-custom-field-to-python-log-format-string\n",
    "\n",
    "class FilterClass(logging.Filter):\n",
    "    def __init__(self):\n",
    "        self.app_name = 'App Name'\n",
    "        self.value    = -1\n",
    "    def filter(self, record):\n",
    "        record.app_name = self.app_name\n",
    "        record.value = self.value\n",
    "        return True\n",
    "\n",
    "logger = logging.getLogger(__name__)\n",
    "\n",
    "app_filter = FilterClass()\n",
    "logger.addFilter(app_filter)\n",
    "\n",
    "syslog = logging.StreamHandler()\n",
    "\n",
    "formatter = logging.Formatter('[%(asctime)s][%(app_name)s][%(value)s] %(message)s')\n",
    "syslog.setFormatter(formatter)\n",
    "\n",
    "logger.setLevel(logging.INFO)\n",
    "logger.addHandler(syslog)\n",
    "\n",
    "logger.info('info')\n",
    "\n",
    "app_filter.app_name = 'New Name'\n",
    "app_filter.value = 99\n",
    "logger.info('info')"
   ]
  },
  {
   "cell_type": "code",
   "execution_count": null,
   "id": "0c02356f-3afb-44e3-8282-0a8eb1f505a6",
   "metadata": {},
   "outputs": [],
   "source": []
  }
 ],
 "metadata": {
  "kernelspec": {
   "display_name": "Python 3 (ipykernel)",
   "language": "python",
   "name": "python3"
  },
  "language_info": {
   "codemirror_mode": {
    "name": "ipython",
    "version": 3
   },
   "file_extension": ".py",
   "mimetype": "text/x-python",
   "name": "python",
   "nbconvert_exporter": "python",
   "pygments_lexer": "ipython3",
   "version": "3.9.7"
  }
 },
 "nbformat": 4,
 "nbformat_minor": 5
}
