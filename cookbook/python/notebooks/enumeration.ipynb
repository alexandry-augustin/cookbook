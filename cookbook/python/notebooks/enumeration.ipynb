{
 "cells": [
  {
   "cell_type": "code",
   "execution_count": 1,
   "id": "ad4078ca-aaad-4af6-84a2-673d7dafe364",
   "metadata": {},
   "outputs": [],
   "source": [
    "from enum import Enum, unique"
   ]
  },
  {
   "cell_type": "code",
   "execution_count": 6,
   "id": "1b541cd0-8c52-4b15-8cec-61ce712843cc",
   "metadata": {},
   "outputs": [],
   "source": [
    "@unique\n",
    "class color(Enum):\n",
    "        \n",
    "    RED   = 0\n",
    "    GREEN = 1\n",
    "    BLUE  = 2\n",
    "    \n",
    "    def __str__(self):\n",
    "        return str(self.value)"
   ]
  },
  {
   "cell_type": "code",
   "execution_count": 7,
   "id": "af802008-e907-437d-8589-23940f4d6187",
   "metadata": {},
   "outputs": [
    {
     "data": {
      "text/plain": [
       "<color.RED: 0>"
      ]
     },
     "execution_count": 7,
     "metadata": {},
     "output_type": "execute_result"
    }
   ],
   "source": [
    "color.RED"
   ]
  },
  {
   "cell_type": "code",
   "execution_count": 8,
   "id": "235a144b-77c7-4654-8077-06c249babcc5",
   "metadata": {},
   "outputs": [
    {
     "data": {
      "text/plain": [
       "True"
      ]
     },
     "execution_count": 8,
     "metadata": {},
     "output_type": "execute_result"
    }
   ],
   "source": [
    "color.RED is color.RED"
   ]
  },
  {
   "cell_type": "code",
   "execution_count": 9,
   "id": "feb83519-debc-4c0f-82a1-4a89d744c226",
   "metadata": {},
   "outputs": [],
   "source": [
    "c = color"
   ]
  },
  {
   "cell_type": "code",
   "execution_count": 13,
   "id": "425c6184-9b30-49c5-8c59-4da7fb9bc473",
   "metadata": {},
   "outputs": [],
   "source": [
    "# class ITEM_ACTION(object):\n",
    "#     def __init__(self):\n",
    "#         self.INVALID   = 0\n",
    "#         self.CHECK_IN  = 1\n",
    "#         self.CHECK_OUT = 2"
   ]
  },
  {
   "cell_type": "code",
   "execution_count": 14,
   "id": "9aa81724-a291-4497-8faf-bc792ad78e96",
   "metadata": {},
   "outputs": [],
   "source": [
    "# ITEM_ACTION.INVALID"
   ]
  },
  {
   "cell_type": "code",
   "execution_count": null,
   "id": "d202bbea-4b16-42d8-be86-64380c3bd8dd",
   "metadata": {},
   "outputs": [],
   "source": []
  }
 ],
 "metadata": {
  "kernelspec": {
   "display_name": "Python 3 (ipykernel)",
   "language": "python",
   "name": "python3"
  },
  "language_info": {
   "codemirror_mode": {
    "name": "ipython",
    "version": 3
   },
   "file_extension": ".py",
   "mimetype": "text/x-python",
   "name": "python",
   "nbconvert_exporter": "python",
   "pygments_lexer": "ipython3",
   "version": "3.9.7"
  }
 },
 "nbformat": 4,
 "nbformat_minor": 5
}
