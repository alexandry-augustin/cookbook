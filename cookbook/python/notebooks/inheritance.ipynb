{
 "cells": [
  {
   "cell_type": "code",
   "execution_count": 6,
   "id": "ace73ee1-5acf-4d59-a86f-98e19454d5e9",
   "metadata": {},
   "outputs": [],
   "source": [
    "class base(object):\n",
    "    \n",
    "    def __init__(self, id_):\n",
    "        \n",
    "        self.id              = id_\n",
    "        \n",
    "    def get_id(self):\n",
    "        \n",
    "        return self.id"
   ]
  },
  {
   "cell_type": "code",
   "execution_count": 10,
   "id": "e3113a48-66ea-4183-bdb4-32e75633998b",
   "metadata": {},
   "outputs": [],
   "source": [
    "class sub(base):\n",
    "    \n",
    "    def __init__(self):\n",
    "        \n",
    "        base.__init__(self, 9)\n",
    "        \n",
    "    def f(self):\n",
    "        return self.id"
   ]
  },
  {
   "cell_type": "code",
   "execution_count": 11,
   "id": "ec27d0af-01c1-4533-a114-8e3aa8f352ce",
   "metadata": {},
   "outputs": [],
   "source": [
    "s = sub()"
   ]
  },
  {
   "cell_type": "code",
   "execution_count": 12,
   "id": "dadeba89-dc06-48f4-a596-13e66bfc64e6",
   "metadata": {},
   "outputs": [
    {
     "data": {
      "text/plain": [
       "9"
      ]
     },
     "execution_count": 12,
     "metadata": {},
     "output_type": "execute_result"
    }
   ],
   "source": [
    "s.get_id()"
   ]
  },
  {
   "cell_type": "code",
   "execution_count": 13,
   "id": "8384ebb1-f633-429e-b3e3-cdd9cd1d0c73",
   "metadata": {},
   "outputs": [
    {
     "data": {
      "text/plain": [
       "9"
      ]
     },
     "execution_count": 13,
     "metadata": {},
     "output_type": "execute_result"
    }
   ],
   "source": [
    "s.f()"
   ]
  },
  {
   "cell_type": "code",
   "execution_count": null,
   "id": "9982f09c-9d37-49ae-bb31-d4e2e2f3295c",
   "metadata": {},
   "outputs": [],
   "source": []
  }
 ],
 "metadata": {
  "kernelspec": {
   "display_name": "Python 3 (ipykernel)",
   "language": "python",
   "name": "python3"
  },
  "language_info": {
   "codemirror_mode": {
    "name": "ipython",
    "version": 3
   },
   "file_extension": ".py",
   "mimetype": "text/x-python",
   "name": "python",
   "nbconvert_exporter": "python",
   "pygments_lexer": "ipython3",
   "version": "3.9.7"
  }
 },
 "nbformat": 4,
 "nbformat_minor": 5
}
