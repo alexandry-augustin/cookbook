{
 "cells": [
  {
   "cell_type": "markdown",
   "id": "cf4c70c1-005b-416b-87d3-e1e2775cbbc3",
   "metadata": {},
   "source": [
    "# Generators  \n",
    "\n",
    "- When called, it returns an object (iterator) but does not start execution immediately.\n",
    "- Once the function yields, the function is paused and the control is transferred to the caller.\n",
    "- Local variables and their states are remembered between successive calls.\n",
    "- When the function terminates, StopIteration is raised automatically on further calls.\n",
    "- a generator object can be iterated only once. To restart the process we need to create another generator object\n",
    "- > \"In Python 3 `return value` inside a generator is actually a syntactic sugar for raise `StopIteration(value)`, which is also supported by the `yield from` clause\" -- https://stackoverflow.com/questions/28806583/is-it-good-practice-to-mix-yield-and-return-statements-in-python"
   ]
  },
  {
   "cell_type": "code",
   "execution_count": 1,
   "id": "37cf2967-40eb-4f39-8aa7-795cdc86b501",
   "metadata": {},
   "outputs": [],
   "source": [
    "def f():\n",
    "    \"\"\"\n",
    "        even numbers\n",
    "    \"\"\"\n",
    "    n = 0\n",
    "    while True:\n",
    "        yield n\n",
    "        n += 2"
   ]
  },
  {
   "cell_type": "code",
   "execution_count": 18,
   "id": "4bf3b4cf-e9be-4735-8bde-1b106b6bc3d7",
   "metadata": {},
   "outputs": [],
   "source": [
    "def f():\n",
    "\n",
    "    n = yield 10 # return value"
   ]
  },
  {
   "cell_type": "code",
   "execution_count": 2,
   "id": "f6bea618-fc85-4eb2-aedf-47643a0f6671",
   "metadata": {},
   "outputs": [],
   "source": [
    "def f():\n",
    "    \n",
    "    n=0\n",
    "    yield n\n",
    "    \n",
    "    n+=1"
   ]
  },
  {
   "cell_type": "code",
   "execution_count": 3,
   "id": "36ed719e-7511-4205-ba59-f71225bb1650",
   "metadata": {},
   "outputs": [],
   "source": [
    "def f():\n",
    "    \n",
    "    print('first')\n",
    "    yield 0\n",
    "    \n",
    "    print('second')\n",
    "    yield 1"
   ]
  },
  {
   "cell_type": "code",
   "execution_count": 4,
   "id": "2665b757-6f76-4648-b117-d2fcb472cad1",
   "metadata": {},
   "outputs": [],
   "source": [
    "def f():\n",
    "    \n",
    "    n = 1\n",
    "    print('First')\n",
    "    yield n\n",
    "\n",
    "    n += 1\n",
    "    print('Second')\n",
    "    yield n\n",
    "\n",
    "    n += 1\n",
    "    print('Last')\n",
    "    yield n"
   ]
  },
  {
   "cell_type": "code",
   "execution_count": 75,
   "id": "32106db1-f1c2-4832-b752-a5495f6a0b55",
   "metadata": {},
   "outputs": [],
   "source": [
    "def f():\n",
    "    \"\"\"\n",
    "        https://stackoverflow.com/questions/10695456/what-is-the-result-of-a-yield-expression-in-python\n",
    "    \"\"\"\n",
    "    \n",
    "    i=0\n",
    "    while True:\n",
    "        x = yield i\n",
    "        print('received: {}'.format(x))\n",
    "        i+=1"
   ]
  },
  {
   "cell_type": "markdown",
   "id": "aa2fa1c1-bf41-4e14-845b-c351ece845b6",
   "metadata": {},
   "source": [
    "# Generators"
   ]
  },
  {
   "cell_type": "code",
   "execution_count": 73,
   "id": "9d8a22c3-6ec8-425d-a214-e2d0d7c60438",
   "metadata": {},
   "outputs": [],
   "source": [
    "generator = f()"
   ]
  },
  {
   "cell_type": "code",
   "execution_count": 74,
   "id": "9d762f76-93eb-4076-88d2-2cd58550b064",
   "metadata": {},
   "outputs": [
    {
     "data": {
      "text/plain": [
       "0"
      ]
     },
     "execution_count": 74,
     "metadata": {},
     "output_type": "execute_result"
    }
   ],
   "source": [
    "# generator.__next__()\n",
    "# or\n",
    "next(generator)\n",
    "\n",
    "# generator.send('test')\n",
    "# generator.send(5)"
   ]
  },
  {
   "cell_type": "code",
   "execution_count": 50,
   "id": "c87577f4-0709-43d4-a94d-e2d2a1a33e3f",
   "metadata": {},
   "outputs": [
    {
     "name": "stdout",
     "output_type": "stream",
     "text": [
      "First\n",
      "Second\n",
      "Last\n"
     ]
    }
   ],
   "source": [
    "b = []\n",
    "\n",
    "# b.append(next(g))\n",
    "# b.append(next(g))\n",
    "# b.append(next(g))\n",
    "# next(g)\n",
    "\n",
    "for e in f():\n",
    "    b.append(e)"
   ]
  },
  {
   "cell_type": "markdown",
   "id": "3cb4f6d1-1d04-456e-a2ad-15e2ce78db36",
   "metadata": {},
   "source": [
    "# Generator Expression\n",
    "\n",
    "- Similar to the lambda functions which create anonymous functions, generator expressions create anonymous generator functions.\n",
    "- The syntax for generator expression is similar to that of a list comprehension in Python. But the square brackets are replaced with round parentheses."
   ]
  },
  {
   "cell_type": "code",
   "execution_count": 57,
   "id": "fcbc101d-cb11-4ab0-a158-002948f87b5a",
   "metadata": {},
   "outputs": [],
   "source": [
    "a = [1, 3, 6, 10]\n",
    "generator = (e**2 for e in a)"
   ]
  },
  {
   "cell_type": "code",
   "execution_count": 58,
   "id": "78d606a5-7513-4da2-b62f-81fba8be641e",
   "metadata": {},
   "outputs": [
    {
     "data": {
      "text/plain": [
       "<generator object <genexpr> at 0x7f75c4613040>"
      ]
     },
     "execution_count": 58,
     "metadata": {},
     "output_type": "execute_result"
    }
   ],
   "source": [
    "generator"
   ]
  },
  {
   "cell_type": "code",
   "execution_count": null,
   "id": "4a27f279-b78c-4890-ae79-345677126c15",
   "metadata": {},
   "outputs": [],
   "source": []
  }
 ],
 "metadata": {
  "kernelspec": {
   "display_name": "Python 3 (ipykernel)",
   "language": "python",
   "name": "python3"
  },
  "language_info": {
   "codemirror_mode": {
    "name": "ipython",
    "version": 3
   },
   "file_extension": ".py",
   "mimetype": "text/x-python",
   "name": "python",
   "nbconvert_exporter": "python",
   "pygments_lexer": "ipython3",
   "version": "3.9.7"
  }
 },
 "nbformat": 4,
 "nbformat_minor": 5
}
