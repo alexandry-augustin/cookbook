{
 "cells": [
  {
   "cell_type": "code",
   "execution_count": 7,
   "metadata": {},
   "outputs": [],
   "source": [
    "import matplotlib\n",
    "import matplotlib.pyplot as plt\n",
    "# import matplotlib.patches as patches"
   ]
  },
  {
   "cell_type": "code",
   "execution_count": 8,
   "metadata": {},
   "outputs": [],
   "source": [
    "%matplotlib inline"
   ]
  },
  {
   "cell_type": "code",
   "execution_count": 2,
   "metadata": {},
   "outputs": [
    {
     "data": {
      "text/plain": [
       "<matplotlib.legend.Legend at 0x7f8b1807b340>"
      ]
     },
     "execution_count": 2,
     "metadata": {},
     "output_type": "execute_result"
    },
    {
     "data": {
      "image/png": "[encoded data removed]",
      "text/plain": [
       "<Figure size 432x288 with 1 Axes>"
      ]
     },
     "metadata": {
      "needs_background": "light"
     },
     "output_type": "display_data"
    }
   ],
   "source": [
    "legend_elements = [ \n",
    "                    matplotlib.lines.Line2D([0], [0], color='b', lw=4, label='Line'),\n",
    "                    matplotlib.lines.Line2D([0], [0], marker='o', color='w', label='Scatter', markerfacecolor='g', markersize=15),\n",
    "                    matplotlib.patches.Patch(facecolor='orange', edgecolor='r', label='Color Patch')\n",
    "                  ]\n",
    "\n",
    "fig, ax = plt.subplots()\n",
    "ax.legend(handles=legend_elements, loc='center')"
   ]
  },
  {
   "cell_type": "code",
   "execution_count": 4,
   "metadata": {},
   "outputs": [
    {
     "data": {
      "image/png": "[encoded data removed]",
      "text/plain": [
       "<Figure size 288x288 with 1 Axes>"
      ]
     },
     "metadata": {
      "needs_background": "light"
     },
     "output_type": "display_data"
    }
   ],
   "source": [
    "# https://stackoverflow.com/questions/31908982/python-matplotlib-multi-color-legend-entry\n",
    "\n",
    "plt.close('all')\n",
    "\n",
    "#---- Generate a Figure ----\n",
    "\n",
    "fig = plt.figure(figsize=(4, 4))\n",
    "ax = fig.add_axes([0.15, 0.15, 0.75, 0.75])\n",
    "ax.axis([0, 1, 0, 1])\n",
    "\n",
    "#---- Define First Legend Entry ----\n",
    "\n",
    "m1, = ax.plot([], [], c='red' , marker='s', markersize=20,\n",
    "              fillstyle='left', linestyle='none')\n",
    "\n",
    "m2, = ax.plot([], [], c='blue' , marker='s', markersize=20,\n",
    "              fillstyle='right', linestyle='none')\n",
    "\n",
    "#---- Define Second Legend Entry ----\n",
    "\n",
    "m3, = ax.plot([], [], c='cyan' , marker='s', markersize=20,\n",
    "              fillstyle='left', linestyle='none')\n",
    "\n",
    "m4, = ax.plot([], [], c='magenta' , marker='s', markersize=20,\n",
    "              fillstyle='right', linestyle='none')\n",
    "\n",
    "#---- Plot Legend ----\n",
    "\n",
    "ax.legend(((m2, m1), (m3, m4)), ('Foo', 'Foo2'), numpoints=1, labelspacing=2,\n",
    "          loc='center', fontsize=16)\n",
    "\n",
    "plt.show(block=False)"
   ]
  },
  {
   "cell_type": "code",
   "execution_count": 6,
   "metadata": {},
   "outputs": [
    {
     "data": {
      "image/png": "[encoded data removed]",
      "text/plain": [
       "<Figure size 432x288 with 1 Axes>"
      ]
     },
     "metadata": {
      "needs_background": "light"
     },
     "output_type": "display_data"
    }
   ],
   "source": [
    "# https://stackoverflow.com/questions/31908982/python-matplotlib-multi-color-legend-entry\n",
    "\n",
    "# from matplotlib.patches import Patch\n",
    "# import matplotlib.pyplot as plt\n",
    "\n",
    "fig, ax = plt.subplots()\n",
    "\n",
    "pa1 = Patch(facecolor='red', edgecolor='black')\n",
    "pa2 = Patch(facecolor='blue', edgecolor='black')\n",
    "pa3 = Patch(facecolor='green', edgecolor='black')\n",
    "#\n",
    "pb1 = Patch(facecolor='pink', edgecolor='black')\n",
    "pb2 = Patch(facecolor='orange', edgecolor='black')\n",
    "pb3 = Patch(facecolor='purple', edgecolor='black')\n",
    "\n",
    "ax.legend(handles=[pa1, pb1, pa2, pb2, pa3, pb3],\n",
    "          labels=['', '', '', '', 'First', 'Second'],\n",
    "          ncol=3, \n",
    "          handletextpad=0.5, \n",
    "          handlelength=1.0, \n",
    "          columnspacing=-0.5,\n",
    "          loc='center', \n",
    "          fontsize=16)\n",
    "\n",
    "plt.show()\n"
   ]
  },
  {
   "cell_type": "code",
   "execution_count": 10,
   "metadata": {},
   "outputs": [
    {
     "data": {
      "image/png": "[encoded data removed]",
      "text/plain": [
       "<Figure size 432x288 with 1 Axes>"
      ]
     },
     "metadata": {
      "needs_background": "light"
     },
     "output_type": "display_data"
    }
   ],
   "source": [
    "# https://stackoverflow.com/questions/47391702/matplotlib-making-a-colored-markers-legend-from-scratch\n",
    "\n",
    "import matplotlib.lines as mlines\n",
    "import matplotlib.pyplot as plt\n",
    "\n",
    "blue_star = mlines.Line2D([], [], color='blue', marker='*', linestyle='None',\n",
    "                          markersize=10, label='Blue stars')\n",
    "red_square = mlines.Line2D([], [], color='red', marker='s', linestyle='None',\n",
    "                          markersize=10, label='Red squares')\n",
    "purple_triangle = mlines.Line2D([], [], color='purple', marker='^', linestyle='None',\n",
    "                          markersize=10, label='Purple triangles')\n",
    "\n",
    "plt.legend(handles=[blue_star, red_square, purple_triangle])\n",
    "\n",
    "plt.show()"
   ]
  },
  {
   "cell_type": "code",
   "execution_count": null,
   "metadata": {},
   "outputs": [],
   "source": []
  }
 ],
 "metadata": {
  "kernelspec": {
   "display_name": "Python 3",
   "language": "python",
   "name": "python3"
  },
  "language_info": {
   "codemirror_mode": {
    "name": "ipython",
    "version": 3
   },
   "file_extension": ".py",
   "mimetype": "text/x-python",
   "name": "python",
   "nbconvert_exporter": "python",
   "pygments_lexer": "ipython3",
   "version": "3.8.5"
  }
 },
 "nbformat": 4,
 "nbformat_minor": 4
}
