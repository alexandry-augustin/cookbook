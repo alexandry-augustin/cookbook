{
 "cells": [
  {
   "cell_type": "code",
   "execution_count": 1,
   "metadata": {},
   "outputs": [],
   "source": [
    "import numpy as np\n",
    "import matplotlib.pyplot as plt"
   ]
  },
  {
   "cell_type": "code",
   "execution_count": 2,
   "metadata": {},
   "outputs": [
    {
     "data": {
      "text/plain": [
       "<ErrorbarContainer object of 3 artists>"
      ]
     },
     "execution_count": 2,
     "metadata": {},
     "output_type": "execute_result"
    },
    {
     "data": {
      "image/png": "[encoded data removed]",
      "text/plain": [
       "<Figure size 432x288 with 1 Axes>"
      ]
     },
     "metadata": {
      "needs_background": "light"
     },
     "output_type": "display_data"
    }
   ],
   "source": [
    "data=np.random.normal(loc=0, scale=np.sqrt(1), size=(10,10))\n",
    "mean=data.mean(1)\n",
    "std=data.std(1)\n",
    "\n",
    "#\tplt.errorbar(np.arange(data.shape[0]), mean, std, fmt='o', color=\"#000000\")\n",
    "plt.errorbar(np.arange(data.shape[0]), mean, std, marker='s', color=\"#000000\") #s o\n",
    "#or\n",
    "#\tplt.plot(np.arange(data.shape[0]), mean, yerr=std) # only in pandas ????"
   ]
  },
  {
   "cell_type": "code",
   "execution_count": 3,
   "metadata": {},
   "outputs": [
    {
     "data": {
      "text/plain": [
       "<ErrorbarContainer object of 3 artists>"
      ]
     },
     "execution_count": 3,
     "metadata": {},
     "output_type": "execute_result"
    },
    {
     "data": {
      "image/png": "[encoded data removed]",
      "text/plain": [
       "<Figure size 432x288 with 1 Axes>"
      ]
     },
     "metadata": {
      "needs_background": "light"
     },
     "output_type": "display_data"
    }
   ],
   "source": [
    "x = np.arange(0.1, 4, 0.5)\n",
    "y = np.exp(-x)\n",
    "\n",
    "yerr = 0.1 + 0.2*np.sqrt(x)\n",
    "plt.errorbar(x, y, yerr=0.4, fmt='-o', capsize=5)"
   ]
  },
  {
   "cell_type": "code",
   "execution_count": 15,
   "metadata": {},
   "outputs": [
    {
     "name": "stderr",
     "output_type": "stream",
     "text": [
      "<ipython-input-15-36d7363f9573>:50: MatplotlibDeprecationWarning: Adding an axes using the same arguments as a previous axes currently reuses the earlier instance.  In a future version, a new instance will always be created and returned.  Meanwhile, this warning can be suppressed, and the future behavior ensured, by passing a unique label to each axes instance.\n",
      "  ax = plt.axes()\n"
     ]
    },
    {
     "data": {
      "image/png": "[encoded data removed]",
      "text/plain": [
       "<Figure size 432x288 with 1 Axes>"
      ]
     },
     "metadata": {
      "needs_background": "light"
     },
     "output_type": "display_data"
    }
   ],
   "source": [
    "# https://telliott99.blogspot.com/2010/02/confidence-intervals-in-matplotlib.html\n",
    "\n",
    "data1 = [53,38,29]\n",
    "data2 = [16,29,32,34,40,44,49,51,52,53]\n",
    "data3 = np.random.normal(loc=39,scale=10,size=30)\n",
    "data = [data1,np.abs(data2),data3]\n",
    "\n",
    "def do_error_bar(x,e,lw=2,w=2):\n",
    "    plt.errorbar(x, w, yerr=e, fmt='o', capsize=5)\n",
    "\n",
    "#layout from 1 to 100\n",
    "N = len(data)\n",
    "total = 100\n",
    "margin = 5\n",
    "space = 15\n",
    "fig_width = total - margin*2\n",
    "all_spaces = (N-1)*space\n",
    "total_group_width = fig_width - all_spaces\n",
    "group_width = total_group_width * 1.0 / N\n",
    "\n",
    "dx = group_width/3.0    # 4 elements per group\n",
    "x = margin              # start\n",
    "tD = {3:3.182, 10:2.228, 30:2.042}\n",
    "S = 50                  # large circle size\n",
    "s = 10                  # small circle size\n",
    "y = 17                  # y pos for text\n",
    "\n",
    "for group in data:\n",
    "        \n",
    "    x += dx\n",
    "    n = len(group)\n",
    "    m = np.mean(group)\n",
    "    sd = np.std(group)\n",
    "    do_error_bar(x,sd)\n",
    "#     plt.text(x-1.5,y,'std')\n",
    "#     plt.text(x,y-5,'n = ' + str(n))\n",
    "    \n",
    "    x += dx\n",
    "    se = sd/np.sqrt(n)\n",
    "    t = tD[n]\n",
    "    ci = t * se\n",
    "    do_error_bar(x,ci)\n",
    "#     plt.text(x-1.5,y,'CI')\n",
    "    \n",
    "    x += dx\n",
    "    do_error_bar(x,se)\n",
    "#     plt.text(x-1.5,y,'se')\n",
    "    x += space\n",
    "\n",
    "ax = plt.axes()\n",
    "ax.xaxis.set_visible(False)"
   ]
  },
  {
   "cell_type": "code",
   "execution_count": null,
   "metadata": {},
   "outputs": [],
   "source": []
  }
 ],
 "metadata": {
  "kernelspec": {
   "display_name": "Python 3 (ipykernel)",
   "language": "python",
   "name": "python3"
  },
  "language_info": {
   "codemirror_mode": {
    "name": "ipython",
    "version": 3
   },
   "file_extension": ".py",
   "mimetype": "text/x-python",
   "name": "python",
   "nbconvert_exporter": "python",
   "pygments_lexer": "ipython3",
   "version": "3.8.5"
  }
 },
 "nbformat": 4,
 "nbformat_minor": 4
}
