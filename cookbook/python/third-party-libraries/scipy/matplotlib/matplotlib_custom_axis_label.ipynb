{
 "cells": [
  {
   "cell_type": "code",
   "execution_count": 3,
   "metadata": {},
   "outputs": [],
   "source": [
    "import numpy as np\n",
    "import matplotlib.pyplot as plt\n",
    "%matplotlib inline"
   ]
  },
  {
   "cell_type": "code",
   "execution_count": 25,
   "metadata": {},
   "outputs": [
    {
     "data": {
      "text/plain": [
       "[<matplotlib.axis.YTick at 0x7f2351b14fd0>,\n",
       " <matplotlib.axis.YTick at 0x7f2351b14710>,\n",
       " <matplotlib.axis.YTick at 0x7f2351b08a90>,\n",
       " <matplotlib.axis.YTick at 0x7f2351ac04d0>]"
      ]
     },
     "execution_count": 25,
     "metadata": {},
     "output_type": "execute_result"
    },
    {
     "data": {
      "image/png": "[encoded data removed]",
      "text/plain": [
       "<Figure size 432x288 with 1 Axes>"
      ]
     },
     "metadata": {
      "needs_background": "light"
     },
     "output_type": "display_data"
    }
   ],
   "source": [
    "x = np.array([0,5,9,10,15])\n",
    "y = np.array([0,1,2,3,4])\n",
    "\n",
    "xticks = np.arange(x.min(), x.max()+1, 1.0)\n",
    "yticks = np.arange(2, 4, .5)\n",
    "\n",
    "fig, ax = plt.subplots()\n",
    "\n",
    "ax.plot(x,y)\n",
    "\n",
    "ax.set_xlim(left=xticks.min())\n",
    "ax.set_xlim(right=xticks.max())\n",
    "ax.set_ylim(top=yticks.max())\n",
    "ax.set_ylim(bottom=yticks.min())\n",
    "\n",
    "ax.set_xticks(xticks)\n",
    "ax.set_yticks(yticks)"
   ]
  },
  {
   "cell_type": "code",
   "execution_count": null,
   "metadata": {},
   "outputs": [],
   "source": []
  }
 ],
 "metadata": {
  "kernelspec": {
   "display_name": "Python 3",
   "language": "python",
   "name": "python3"
  },
  "language_info": {
   "codemirror_mode": {
    "name": "ipython",
    "version": 3
   },
   "file_extension": ".py",
   "mimetype": "text/x-python",
   "name": "python",
   "nbconvert_exporter": "python",
   "pygments_lexer": "ipython3",
   "version": "3.7.6"
  }
 },
 "nbformat": 4,
 "nbformat_minor": 4
}
