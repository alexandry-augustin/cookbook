{
 "cells": [
  {
   "cell_type": "markdown",
   "id": "42d29468",
   "metadata": {},
   "source": [
    "https://pandas.pydata.org/pandas-docs/stable/user_guide/timeseries.html  \n",
    "\n",
    "| Concept      | Scalar Class | Array Class    | pandas Data Type                     | Primary Creation Method         |\n",
    "| ------------ | ------------ | -------------- | ------------------------------------ | ------------------------------- |\n",
    "| Date times   | Timestamp    | DatetimeIndex  | datetime64[ns] or datetime64[ns, tz] | to_datetime or date_range       |\n",
    "| Time deltas  | Timedelta    | TimedeltaIndex | timedelta64[ns]                      | to_timedelta or timedelta_range |\n",
    "| Time spans   | Period       | PeriodIndex    | period[freq]                         | Period or period_range          |\n",
    "| Date offsets | DateOffset   | None           | None                                 | DateOffset                      |"
   ]
  },
  {
   "cell_type": "code",
   "execution_count": 1,
   "id": "13b13a50",
   "metadata": {},
   "outputs": [],
   "source": [
    "import datetime\n",
    "import numpy as np\n",
    "import pandas as pd"
   ]
  },
  {
   "cell_type": "code",
   "execution_count": 2,
   "id": "c535dd3f-eaae-4d11-b0d6-7d964e773418",
   "metadata": {},
   "outputs": [],
   "source": [
    "pd.set_option('display.max_columns', None)\n",
    "pd.set_option('display.max_rows', None)"
   ]
  },
  {
   "cell_type": "code",
   "execution_count": 3,
   "id": "2240b4a9",
   "metadata": {},
   "outputs": [],
   "source": [
    "def random_datetimes_or_dates(start, end, out_format='datetime', size=10): \n",
    "    '''   \n",
    "    https://stackoverflow.com/questions/50559078/generating-random-dates-within-a-given-range-in-pandas\n",
    "    \n",
    "    unix timestamp is in ns by default. \n",
    "    I divide the unix time value by 10**9 to make it seconds (or 24*60*60*10**9 to make it days).\n",
    "    The corresponding unit variable is passed to the pd.to_datetime function. \n",
    "    Values for the (divide_by, unit) pair to select is defined by the out_format parameter.\n",
    "    for 1 -> out_format='datetime'\n",
    "    for 2 -> out_format=anything else\n",
    "    '''\n",
    "    (divide_by, unit) = (10**9, 's') if out_format=='datetime' else (24*60*60*10**9, 'D')\n",
    "\n",
    "    start_u = start.value//divide_by\n",
    "    end_u = end.value//divide_by\n",
    "\n",
    "    return pd.to_datetime(np.random.randint(start_u, end_u, size), unit=unit) "
   ]
  },
  {
   "cell_type": "markdown",
   "id": "4d30ef8d",
   "metadata": {},
   "source": [
    "# Time"
   ]
  },
  {
   "cell_type": "code",
   "execution_count": 4,
   "id": "03f1d9e2-281e-44b3-8fc6-108bdc44f356",
   "metadata": {},
   "outputs": [],
   "source": [
    "today = pd.to_datetime('today')\n",
    "now   = pd.to_datetime('now')"
   ]
  },
  {
   "cell_type": "code",
   "execution_count": 5,
   "id": "6b153c89",
   "metadata": {},
   "outputs": [
    {
     "data": {
      "text/plain": [
       "Timestamp('2017-01-01 12:00:00')"
      ]
     },
     "execution_count": 5,
     "metadata": {},
     "output_type": "execute_result"
    }
   ],
   "source": [
    "pd.Timestamp(year=2017, month=1, day=1, hour=12)"
   ]
  },
  {
   "cell_type": "code",
   "execution_count": 6,
   "id": "4da89a54-7ef0-4296-9620-1fb1da1cad12",
   "metadata": {},
   "outputs": [
    {
     "data": {
      "text/plain": [
       "Timestamp('1970-01-01 09:00:00')"
      ]
     },
     "execution_count": 6,
     "metadata": {},
     "output_type": "execute_result"
    }
   ],
   "source": [
    "pd.to_datetime(32400, unit='s')"
   ]
  },
  {
   "cell_type": "code",
   "execution_count": 7,
   "id": "09df096d",
   "metadata": {},
   "outputs": [],
   "source": [
    "timestamp = pd.to_datetime('1970-01-01 09:00')\n",
    "# timestamp = timestamp + pd.Timedelta(\"1 day\")\n",
    "# timestamp = timestamp + pd.Timedelta(hours=24)\n",
    "# timestamp = timestamp + pd.Timedelta(hours=1, minutes=1)"
   ]
  },
  {
   "cell_type": "code",
   "execution_count": 8,
   "id": "81e85cb0",
   "metadata": {},
   "outputs": [
    {
     "data": {
      "text/plain": [
       "Timestamp('1970-01-01 09:00:00')"
      ]
     },
     "execution_count": 8,
     "metadata": {},
     "output_type": "execute_result"
    }
   ],
   "source": [
    "timestamp"
   ]
  },
  {
   "cell_type": "code",
   "execution_count": 9,
   "id": "668b4c8f-2d07-4e67-a2d2-ab2f5096404e",
   "metadata": {},
   "outputs": [
    {
     "data": {
      "text/plain": [
       "'1970-01-01 09:00:00'"
      ]
     },
     "execution_count": 9,
     "metadata": {},
     "output_type": "execute_result"
    }
   ],
   "source": [
    "timestamp.strftime('%Y-%m-%d %H:%M:%S')"
   ]
  },
  {
   "cell_type": "code",
   "execution_count": 10,
   "id": "e39f5aeb",
   "metadata": {},
   "outputs": [
    {
     "data": {
      "text/plain": [
       "(1970, 1, 1, 9, 0, 0)"
      ]
     },
     "execution_count": 10,
     "metadata": {},
     "output_type": "execute_result"
    }
   ],
   "source": [
    "(timestamp.year, \n",
    "timestamp.month, \n",
    "timestamp.day, \n",
    "timestamp.hour, \n",
    "timestamp.minute, \n",
    "timestamp.second)"
   ]
  },
  {
   "cell_type": "code",
   "execution_count": 11,
   "id": "0e021980-5af2-4206-b6ed-3be5238b5c7e",
   "metadata": {},
   "outputs": [
    {
     "data": {
      "text/plain": [
       "32400.0"
      ]
     },
     "execution_count": 11,
     "metadata": {},
     "output_type": "execute_result"
    }
   ],
   "source": [
    "timestamp.timestamp()"
   ]
  },
  {
   "cell_type": "code",
   "execution_count": 12,
   "id": "e356d3f9-9005-467a-9661-a00bc1ed29fc",
   "metadata": {},
   "outputs": [
    {
     "data": {
      "text/plain": [
       "datetime.date(1970, 1, 1)"
      ]
     },
     "execution_count": 12,
     "metadata": {},
     "output_type": "execute_result"
    }
   ],
   "source": [
    "timestamp.date()"
   ]
  },
  {
   "cell_type": "code",
   "execution_count": 13,
   "id": "7ade3c0c",
   "metadata": {},
   "outputs": [
    {
     "data": {
      "text/plain": [
       "datetime.time(9, 0)"
      ]
     },
     "execution_count": 13,
     "metadata": {},
     "output_type": "execute_result"
    }
   ],
   "source": [
    "timestamp.time()"
   ]
  },
  {
   "cell_type": "code",
   "execution_count": 14,
   "id": "2a47aa5a-fe56-45cc-a733-39281efa41c6",
   "metadata": {},
   "outputs": [
    {
     "data": {
      "text/plain": [
       "Timestamp('2022-10-02 01:09:07')"
      ]
     },
     "execution_count": 14,
     "metadata": {},
     "output_type": "execute_result"
    }
   ],
   "source": [
    "timestamp.replace(day=2, \n",
    "                  month=10, \n",
    "                  year=2022,\n",
    "                  \n",
    "                  hour=1,\n",
    "                  minute=9,\n",
    "                  second=7)"
   ]
  },
  {
   "cell_type": "code",
   "execution_count": 15,
   "id": "07852836-b8eb-4038-b8ab-aa6011ca5eaa",
   "metadata": {},
   "outputs": [
    {
     "data": {
      "text/plain": [
       "Timestamp('2021-12-13 00:00:00')"
      ]
     },
     "execution_count": 15,
     "metadata": {},
     "output_type": "execute_result"
    }
   ],
   "source": [
    "# datetime.datetime.strptime('Jun 1 2005  1:33PM', '%b %d %Y %I:%M%p')\n",
    "# datetime.datetime.strptime('20211213', '%Y%m%d')\n",
    "pd.to_datetime('20211213', format='%Y%m%d')"
   ]
  },
  {
   "cell_type": "code",
   "execution_count": 16,
   "id": "de85eb2c-f924-40eb-869c-26ad1eb0e253",
   "metadata": {},
   "outputs": [
    {
     "data": {
      "text/plain": [
       "'1970-01-01 09:00:00'"
      ]
     },
     "execution_count": 16,
     "metadata": {},
     "output_type": "execute_result"
    }
   ],
   "source": [
    "str(timestamp)"
   ]
  },
  {
   "cell_type": "code",
   "execution_count": 18,
   "id": "c1f76142-3ab2-419e-b927-d02266015791",
   "metadata": {},
   "outputs": [
    {
     "data": {
      "text/plain": [
       "'1970-01-11T00:00:00'"
      ]
     },
     "execution_count": 18,
     "metadata": {},
     "output_type": "execute_result"
    }
   ],
   "source": [
    "pd.to_datetime(10, unit='D').isoformat()"
   ]
  },
  {
   "cell_type": "markdown",
   "id": "4b8db26f-08dc-4167-87da-b160e71ce823",
   "metadata": {},
   "source": [
    "# Time Zone"
   ]
  },
  {
   "cell_type": "code",
   "execution_count": 19,
   "id": "cfeaf250-bdf8-4e83-862e-6240c26b64e6",
   "metadata": {},
   "outputs": [
    {
     "data": {
      "text/plain": [
       "'2020-03-14T15:32:52.192548651+01:00'"
      ]
     },
     "execution_count": 19,
     "metadata": {},
     "output_type": "execute_result"
    }
   ],
   "source": [
    "ts = pd.Timestamp('2020-03-14T15:32:52.192548651')\n",
    "ts.tz_localize(tz='Europe/Stockholm')\n",
    "pd.Timestamp('2020-03-14 15:32:52.192548651+0100', tz='Europe/Stockholm').isoformat()"
   ]
  },
  {
   "cell_type": "markdown",
   "id": "4631a7a2-4291-4068-9971-1199fe4da579",
   "metadata": {},
   "source": [
    "# Rounding"
   ]
  },
  {
   "cell_type": "code",
   "execution_count": 13,
   "id": "1df10856-7912-4198-86b1-55cc85ee93f2",
   "metadata": {},
   "outputs": [],
   "source": [
    "timestamp = pd.to_datetime('1907-01-01 09:32')\n",
    "timestamp = timestamp.round('H')"
   ]
  },
  {
   "cell_type": "markdown",
   "id": "3d927474",
   "metadata": {
    "tags": []
   },
   "source": [
    "# Timedelta\n",
    "\n",
    "https://stackoverflow.com/questions/8906926/formatting-timedelta-objects/8907269#8907269"
   ]
  },
  {
   "cell_type": "code",
   "execution_count": 19,
   "id": "5e99867b",
   "metadata": {},
   "outputs": [],
   "source": [
    "nb_mins = np.random.normal(60, 10)\n",
    "timedelta = pd.Timedelta(days=0, hours=1, minutes=nb_mins)"
   ]
  },
  {
   "cell_type": "code",
   "execution_count": 20,
   "id": "e883c6f0",
   "metadata": {},
   "outputs": [
    {
     "data": {
      "text/plain": [
       "59.2558260884738"
      ]
     },
     "execution_count": 20,
     "metadata": {},
     "output_type": "execute_result"
    }
   ],
   "source": [
    "nb_mins"
   ]
  },
  {
   "cell_type": "code",
   "execution_count": 21,
   "id": "72f934b2",
   "metadata": {},
   "outputs": [
    {
     "data": {
      "text/plain": [
       "7155"
      ]
     },
     "execution_count": 21,
     "metadata": {},
     "output_type": "execute_result"
    }
   ],
   "source": [
    "timedelta.seconds"
   ]
  },
  {
   "cell_type": "code",
   "execution_count": 22,
   "id": "408297b1-6414-48c7-a4f1-130a6186a040",
   "metadata": {},
   "outputs": [
    {
     "data": {
      "text/plain": [
       "'1:59:15'"
      ]
     },
     "execution_count": 22,
     "metadata": {},
     "output_type": "execute_result"
    }
   ],
   "source": [
    "str(datetime.timedelta(seconds=timedelta.seconds))"
   ]
  },
  {
   "cell_type": "code",
   "execution_count": 23,
   "id": "0ee17870-150f-445e-ba5f-1dad340ed056",
   "metadata": {},
   "outputs": [],
   "source": [
    "# duration.length"
   ]
  },
  {
   "cell_type": "markdown",
   "id": "fb33ccc4-b8fc-40e9-8912-b2466a8f918f",
   "metadata": {},
   "source": [
    "# Series"
   ]
  },
  {
   "cell_type": "code",
   "execution_count": 30,
   "id": "97111f6f-c0cf-453d-bad8-73c63ddb3419",
   "metadata": {},
   "outputs": [],
   "source": [
    "# ts.between_time('0:15', '0:45')"
   ]
  },
  {
   "cell_type": "markdown",
   "id": "eb7b1119-d52f-40ec-a06d-07b16d9c4d53",
   "metadata": {},
   "source": [
    "# Interval"
   ]
  },
  {
   "cell_type": "code",
   "execution_count": 18,
   "id": "f42c4b70-6eae-4711-b5a2-944f367a1a3e",
   "metadata": {},
   "outputs": [],
   "source": [
    "interval = pd.Interval(pd.to_datetime('1970-01-01 09:00'), \n",
    "                       pd.to_datetime('1970-01-01 10:00'), \n",
    "                       closed='left')"
   ]
  },
  {
   "cell_type": "code",
   "execution_count": 19,
   "id": "f62cbaf4-003b-452d-b732-a406f95bf0f5",
   "metadata": {},
   "outputs": [
    {
     "data": {
      "text/plain": [
       "Interval('1970-01-01 09:00:00', '1970-01-01 10:00:00', closed='left')"
      ]
     },
     "execution_count": 19,
     "metadata": {},
     "output_type": "execute_result"
    }
   ],
   "source": [
    "interval"
   ]
  },
  {
   "cell_type": "markdown",
   "id": "e012af76",
   "metadata": {},
   "source": [
    "# Dataframe"
   ]
  },
  {
   "cell_type": "code",
   "execution_count": 29,
   "id": "9cb7ed6e",
   "metadata": {},
   "outputs": [],
   "source": [
    "data = pd.DataFrame()\n",
    "data['datetime'] = random_datetimes_or_dates(start=pd.to_datetime('2021-10-01 09:00'), \n",
    "                                             end=pd.to_datetime('2021-10-01 18:00'), \n",
    "                                             size=10)\n",
    "# data['datetime'] = data['datetime'].apply(lambda x: x.time())"
   ]
  },
  {
   "cell_type": "code",
   "execution_count": 12,
   "id": "01ee67f6",
   "metadata": {},
   "outputs": [
    {
     "data": {
      "text/html": [
       "<div>\n",
       "<style scoped>\n",
       "    .dataframe tbody tr th:only-of-type {\n",
       "        vertical-align: middle;\n",
       "    }\n",
       "\n",
       "    .dataframe tbody tr th {\n",
       "        vertical-align: top;\n",
       "    }\n",
       "\n",
       "    .dataframe thead th {\n",
       "        text-align: right;\n",
       "    }\n",
       "</style>\n",
       "<table border=\"1\" class=\"dataframe\">\n",
       "  <thead>\n",
       "    <tr style=\"text-align: right;\">\n",
       "      <th></th>\n",
       "      <th>datetime</th>\n",
       "    </tr>\n",
       "  </thead>\n",
       "  <tbody>\n",
       "    <tr>\n",
       "      <th>0</th>\n",
       "      <td>2021-10-01 10:46:35</td>\n",
       "    </tr>\n",
       "    <tr>\n",
       "      <th>1</th>\n",
       "      <td>2021-10-01 12:54:44</td>\n",
       "    </tr>\n",
       "    <tr>\n",
       "      <th>2</th>\n",
       "      <td>2021-10-01 13:35:00</td>\n",
       "    </tr>\n",
       "    <tr>\n",
       "      <th>3</th>\n",
       "      <td>2021-10-01 17:12:19</td>\n",
       "    </tr>\n",
       "    <tr>\n",
       "      <th>4</th>\n",
       "      <td>2021-10-01 14:09:06</td>\n",
       "    </tr>\n",
       "    <tr>\n",
       "      <th>5</th>\n",
       "      <td>2021-10-01 11:21:47</td>\n",
       "    </tr>\n",
       "    <tr>\n",
       "      <th>6</th>\n",
       "      <td>2021-10-01 11:03:41</td>\n",
       "    </tr>\n",
       "    <tr>\n",
       "      <th>7</th>\n",
       "      <td>2021-10-01 13:12:13</td>\n",
       "    </tr>\n",
       "    <tr>\n",
       "      <th>8</th>\n",
       "      <td>2021-10-01 13:43:50</td>\n",
       "    </tr>\n",
       "    <tr>\n",
       "      <th>9</th>\n",
       "      <td>2021-10-01 15:03:32</td>\n",
       "    </tr>\n",
       "  </tbody>\n",
       "</table>\n",
       "</div>"
      ],
      "text/plain": [
       "             datetime\n",
       "0 2021-10-01 10:46:35\n",
       "1 2021-10-01 12:54:44\n",
       "2 2021-10-01 13:35:00\n",
       "3 2021-10-01 17:12:19\n",
       "4 2021-10-01 14:09:06\n",
       "5 2021-10-01 11:21:47\n",
       "6 2021-10-01 11:03:41\n",
       "7 2021-10-01 13:12:13\n",
       "8 2021-10-01 13:43:50\n",
       "9 2021-10-01 15:03:32"
      ]
     },
     "execution_count": 12,
     "metadata": {},
     "output_type": "execute_result"
    }
   ],
   "source": [
    "data"
   ]
  },
  {
   "cell_type": "code",
   "execution_count": 13,
   "id": "fc4220e4",
   "metadata": {},
   "outputs": [
    {
     "data": {
      "text/html": [
       "<div>\n",
       "<style scoped>\n",
       "    .dataframe tbody tr th:only-of-type {\n",
       "        vertical-align: middle;\n",
       "    }\n",
       "\n",
       "    .dataframe tbody tr th {\n",
       "        vertical-align: top;\n",
       "    }\n",
       "\n",
       "    .dataframe thead th {\n",
       "        text-align: right;\n",
       "    }\n",
       "</style>\n",
       "<table border=\"1\" class=\"dataframe\">\n",
       "  <thead>\n",
       "    <tr style=\"text-align: right;\">\n",
       "      <th></th>\n",
       "      <th>datetime</th>\n",
       "    </tr>\n",
       "  </thead>\n",
       "  <tbody>\n",
       "    <tr>\n",
       "      <th>0</th>\n",
       "      <td>2021-10-01 10:46:35</td>\n",
       "    </tr>\n",
       "  </tbody>\n",
       "</table>\n",
       "</div>"
      ],
      "text/plain": [
       "             datetime\n",
       "0 2021-10-01 10:46:35"
      ]
     },
     "metadata": {},
     "output_type": "display_data"
    },
    {
     "data": {
      "text/html": [
       "<div>\n",
       "<style scoped>\n",
       "    .dataframe tbody tr th:only-of-type {\n",
       "        vertical-align: middle;\n",
       "    }\n",
       "\n",
       "    .dataframe tbody tr th {\n",
       "        vertical-align: top;\n",
       "    }\n",
       "\n",
       "    .dataframe thead th {\n",
       "        text-align: right;\n",
       "    }\n",
       "</style>\n",
       "<table border=\"1\" class=\"dataframe\">\n",
       "  <thead>\n",
       "    <tr style=\"text-align: right;\">\n",
       "      <th></th>\n",
       "      <th>datetime</th>\n",
       "    </tr>\n",
       "  </thead>\n",
       "  <tbody>\n",
       "    <tr>\n",
       "      <th>6</th>\n",
       "      <td>2021-10-01 11:03:41</td>\n",
       "    </tr>\n",
       "    <tr>\n",
       "      <th>5</th>\n",
       "      <td>2021-10-01 11:21:47</td>\n",
       "    </tr>\n",
       "  </tbody>\n",
       "</table>\n",
       "</div>"
      ],
      "text/plain": [
       "             datetime\n",
       "6 2021-10-01 11:03:41\n",
       "5 2021-10-01 11:21:47"
      ]
     },
     "metadata": {},
     "output_type": "display_data"
    },
    {
     "data": {
      "text/html": [
       "<div>\n",
       "<style scoped>\n",
       "    .dataframe tbody tr th:only-of-type {\n",
       "        vertical-align: middle;\n",
       "    }\n",
       "\n",
       "    .dataframe tbody tr th {\n",
       "        vertical-align: top;\n",
       "    }\n",
       "\n",
       "    .dataframe thead th {\n",
       "        text-align: right;\n",
       "    }\n",
       "</style>\n",
       "<table border=\"1\" class=\"dataframe\">\n",
       "  <thead>\n",
       "    <tr style=\"text-align: right;\">\n",
       "      <th></th>\n",
       "      <th>datetime</th>\n",
       "    </tr>\n",
       "  </thead>\n",
       "  <tbody>\n",
       "    <tr>\n",
       "      <th>1</th>\n",
       "      <td>2021-10-01 12:54:44</td>\n",
       "    </tr>\n",
       "  </tbody>\n",
       "</table>\n",
       "</div>"
      ],
      "text/plain": [
       "             datetime\n",
       "1 2021-10-01 12:54:44"
      ]
     },
     "metadata": {},
     "output_type": "display_data"
    },
    {
     "data": {
      "text/html": [
       "<div>\n",
       "<style scoped>\n",
       "    .dataframe tbody tr th:only-of-type {\n",
       "        vertical-align: middle;\n",
       "    }\n",
       "\n",
       "    .dataframe tbody tr th {\n",
       "        vertical-align: top;\n",
       "    }\n",
       "\n",
       "    .dataframe thead th {\n",
       "        text-align: right;\n",
       "    }\n",
       "</style>\n",
       "<table border=\"1\" class=\"dataframe\">\n",
       "  <thead>\n",
       "    <tr style=\"text-align: right;\">\n",
       "      <th></th>\n",
       "      <th>datetime</th>\n",
       "    </tr>\n",
       "  </thead>\n",
       "  <tbody>\n",
       "    <tr>\n",
       "      <th>7</th>\n",
       "      <td>2021-10-01 13:12:13</td>\n",
       "    </tr>\n",
       "    <tr>\n",
       "      <th>2</th>\n",
       "      <td>2021-10-01 13:35:00</td>\n",
       "    </tr>\n",
       "    <tr>\n",
       "      <th>8</th>\n",
       "      <td>2021-10-01 13:43:50</td>\n",
       "    </tr>\n",
       "  </tbody>\n",
       "</table>\n",
       "</div>"
      ],
      "text/plain": [
       "             datetime\n",
       "7 2021-10-01 13:12:13\n",
       "2 2021-10-01 13:35:00\n",
       "8 2021-10-01 13:43:50"
      ]
     },
     "metadata": {},
     "output_type": "display_data"
    },
    {
     "data": {
      "text/html": [
       "<div>\n",
       "<style scoped>\n",
       "    .dataframe tbody tr th:only-of-type {\n",
       "        vertical-align: middle;\n",
       "    }\n",
       "\n",
       "    .dataframe tbody tr th {\n",
       "        vertical-align: top;\n",
       "    }\n",
       "\n",
       "    .dataframe thead th {\n",
       "        text-align: right;\n",
       "    }\n",
       "</style>\n",
       "<table border=\"1\" class=\"dataframe\">\n",
       "  <thead>\n",
       "    <tr style=\"text-align: right;\">\n",
       "      <th></th>\n",
       "      <th>datetime</th>\n",
       "    </tr>\n",
       "  </thead>\n",
       "  <tbody>\n",
       "    <tr>\n",
       "      <th>4</th>\n",
       "      <td>2021-10-01 14:09:06</td>\n",
       "    </tr>\n",
       "  </tbody>\n",
       "</table>\n",
       "</div>"
      ],
      "text/plain": [
       "             datetime\n",
       "4 2021-10-01 14:09:06"
      ]
     },
     "metadata": {},
     "output_type": "display_data"
    },
    {
     "data": {
      "text/html": [
       "<div>\n",
       "<style scoped>\n",
       "    .dataframe tbody tr th:only-of-type {\n",
       "        vertical-align: middle;\n",
       "    }\n",
       "\n",
       "    .dataframe tbody tr th {\n",
       "        vertical-align: top;\n",
       "    }\n",
       "\n",
       "    .dataframe thead th {\n",
       "        text-align: right;\n",
       "    }\n",
       "</style>\n",
       "<table border=\"1\" class=\"dataframe\">\n",
       "  <thead>\n",
       "    <tr style=\"text-align: right;\">\n",
       "      <th></th>\n",
       "      <th>datetime</th>\n",
       "    </tr>\n",
       "  </thead>\n",
       "  <tbody>\n",
       "    <tr>\n",
       "      <th>9</th>\n",
       "      <td>2021-10-01 15:03:32</td>\n",
       "    </tr>\n",
       "  </tbody>\n",
       "</table>\n",
       "</div>"
      ],
      "text/plain": [
       "             datetime\n",
       "9 2021-10-01 15:03:32"
      ]
     },
     "metadata": {},
     "output_type": "display_data"
    },
    {
     "data": {
      "text/html": [
       "<div>\n",
       "<style scoped>\n",
       "    .dataframe tbody tr th:only-of-type {\n",
       "        vertical-align: middle;\n",
       "    }\n",
       "\n",
       "    .dataframe tbody tr th {\n",
       "        vertical-align: top;\n",
       "    }\n",
       "\n",
       "    .dataframe thead th {\n",
       "        text-align: right;\n",
       "    }\n",
       "</style>\n",
       "<table border=\"1\" class=\"dataframe\">\n",
       "  <thead>\n",
       "    <tr style=\"text-align: right;\">\n",
       "      <th></th>\n",
       "      <th>datetime</th>\n",
       "    </tr>\n",
       "  </thead>\n",
       "  <tbody>\n",
       "  </tbody>\n",
       "</table>\n",
       "</div>"
      ],
      "text/plain": [
       "Empty DataFrame\n",
       "Columns: [datetime]\n",
       "Index: []"
      ]
     },
     "metadata": {},
     "output_type": "display_data"
    },
    {
     "data": {
      "text/html": [
       "<div>\n",
       "<style scoped>\n",
       "    .dataframe tbody tr th:only-of-type {\n",
       "        vertical-align: middle;\n",
       "    }\n",
       "\n",
       "    .dataframe tbody tr th {\n",
       "        vertical-align: top;\n",
       "    }\n",
       "\n",
       "    .dataframe thead th {\n",
       "        text-align: right;\n",
       "    }\n",
       "</style>\n",
       "<table border=\"1\" class=\"dataframe\">\n",
       "  <thead>\n",
       "    <tr style=\"text-align: right;\">\n",
       "      <th></th>\n",
       "      <th>datetime</th>\n",
       "    </tr>\n",
       "  </thead>\n",
       "  <tbody>\n",
       "    <tr>\n",
       "      <th>3</th>\n",
       "      <td>2021-10-01 17:12:19</td>\n",
       "    </tr>\n",
       "  </tbody>\n",
       "</table>\n",
       "</div>"
      ],
      "text/plain": [
       "             datetime\n",
       "3 2021-10-01 17:12:19"
      ]
     },
     "metadata": {},
     "output_type": "display_data"
    }
   ],
   "source": [
    "for _,df in data.groupby(pd.Grouper(key='datetime', freq='60Min')):\n",
    "    display(df)"
   ]
  },
  {
   "cell_type": "markdown",
   "id": "b56512db",
   "metadata": {},
   "source": [
    "# Interval"
   ]
  },
  {
   "cell_type": "code",
   "execution_count": 33,
   "id": "0699db1a",
   "metadata": {},
   "outputs": [],
   "source": [
    "interval_00 = pd.Interval(pd.to_datetime('1970-01-01 09:00'), \n",
    "                       pd.to_datetime('1970-01-01 10:00'), \n",
    "                       closed='left')\n",
    "\n",
    "interval_01 = pd.Interval(pd.to_datetime('1970-01-01 09:30'), \n",
    "                       pd.to_datetime('1970-01-01 10:30'), \n",
    "                       closed='left')"
   ]
  },
  {
   "cell_type": "code",
   "execution_count": 34,
   "id": "ec54ea6c",
   "metadata": {},
   "outputs": [
    {
     "data": {
      "text/plain": [
       "Interval('1970-01-01 09:00:00', '1970-01-01 10:00:00', closed='left')"
      ]
     },
     "execution_count": 34,
     "metadata": {},
     "output_type": "execute_result"
    }
   ],
   "source": [
    "interval_00"
   ]
  },
  {
   "cell_type": "code",
   "execution_count": 36,
   "id": "4da3132c",
   "metadata": {},
   "outputs": [
    {
     "data": {
      "text/plain": [
       "True"
      ]
     },
     "execution_count": 36,
     "metadata": {},
     "output_type": "execute_result"
    }
   ],
   "source": [
    "pd.Timestamp('1970-01-01 09:30') in interval_00"
   ]
  },
  {
   "cell_type": "code",
   "execution_count": 38,
   "id": "a4cba8e0-dff2-460c-9222-1bb7def75950",
   "metadata": {},
   "outputs": [
    {
     "data": {
      "text/plain": [
       "True"
      ]
     },
     "execution_count": 38,
     "metadata": {},
     "output_type": "execute_result"
    }
   ],
   "source": [
    "interval_00.overlaps(interval_01)"
   ]
  },
  {
   "cell_type": "markdown",
   "id": "d4710f63",
   "metadata": {},
   "source": [
    "# Date / Time Range  \n",
    "\n",
    "https://pandas.pydata.org/docs/user_guide/timeseries.html#timeseries-offset-aliases"
   ]
  },
  {
   "cell_type": "code",
   "execution_count": 4,
   "id": "ccb0f64b",
   "metadata": {},
   "outputs": [
    {
     "data": {
      "text/plain": [
       "DatetimeIndex(['2022-02-16 09:00:00', '2022-02-16 10:00:00',\n",
       "               '2022-02-16 11:00:00', '2022-02-16 12:00:00'],\n",
       "              dtype='datetime64[ns]', freq='H')"
      ]
     },
     "execution_count": 4,
     "metadata": {},
     "output_type": "execute_result"
    }
   ],
   "source": [
    "pd.date_range(start='09:00:00', \n",
    "              end='12:00:00',\n",
    "              freq='H')"
   ]
  },
  {
   "cell_type": "code",
   "execution_count": 6,
   "id": "8f6ada0c-a95a-463d-9956-8d0ab9a9ceb2",
   "metadata": {},
   "outputs": [
    {
     "data": {
      "text/plain": [
       "DatetimeIndex(['2022-02-16 09:00:00', '2022-02-16 10:00:00',\n",
       "               '2022-02-16 11:00:00', '2022-02-16 12:00:00'],\n",
       "              dtype='datetime64[ns]', freq='H')"
      ]
     },
     "execution_count": 6,
     "metadata": {},
     "output_type": "execute_result"
    }
   ],
   "source": [
    "pd.date_range(start='09:00:00', \n",
    "              freq='H', \n",
    "              periods=4)"
   ]
  },
  {
   "cell_type": "code",
   "execution_count": 18,
   "id": "61486c98",
   "metadata": {},
   "outputs": [
    {
     "data": {
      "text/plain": [
       "DatetimeIndex(['2018-01-01', '2018-01-02', '2018-01-03', '2018-01-04',\n",
       "               '2018-01-05', '2018-01-06', '2018-01-07', '2018-01-08'],\n",
       "              dtype='datetime64[ns]', freq='D')"
      ]
     },
     "execution_count": 18,
     "metadata": {},
     "output_type": "execute_result"
    }
   ],
   "source": [
    "pd.date_range(start='1/1/2018', \n",
    "              end='1/08/2018',\n",
    "              freq='D')"
   ]
  },
  {
   "cell_type": "code",
   "execution_count": 19,
   "id": "9074a14e",
   "metadata": {},
   "outputs": [
    {
     "data": {
      "text/plain": [
       "DatetimeIndex(['2018-01-01', '2018-01-02', '2018-01-03', '2018-01-04',\n",
       "               '2018-01-05', '2018-01-06', '2018-01-07', '2018-01-08'],\n",
       "              dtype='datetime64[ns]', freq='D')"
      ]
     },
     "execution_count": 19,
     "metadata": {},
     "output_type": "execute_result"
    }
   ],
   "source": [
    "pd.date_range(start='1/1/2018', \n",
    "              periods=8)"
   ]
  },
  {
   "cell_type": "code",
   "execution_count": 20,
   "id": "ec9a4c6f",
   "metadata": {},
   "outputs": [
    {
     "data": {
      "text/plain": [
       "DatetimeIndex(['2018-04-24 00:00:00', '2018-04-25 12:00:00',\n",
       "               '2018-04-27 00:00:00'],\n",
       "              dtype='datetime64[ns]', freq=None)"
      ]
     },
     "execution_count": 20,
     "metadata": {},
     "output_type": "execute_result"
    }
   ],
   "source": [
    "pd.date_range(start='2018-04-24', \n",
    "              end='2018-04-27', \n",
    "              periods=3)"
   ]
  },
  {
   "cell_type": "markdown",
   "id": "3261aa10",
   "metadata": {},
   "source": [
    "# Resampling"
   ]
  },
  {
   "cell_type": "code",
   "execution_count": 4,
   "id": "f1fc8c21",
   "metadata": {},
   "outputs": [],
   "source": [
    "# index = pd.date_range('1/1/1970', periods=9, freq='2T')\n",
    "\n",
    "index = random_datetimes_or_dates(start=pd.to_datetime('1970-01-01 09:00'), \n",
    "                                        end=pd.to_datetime('1970-01-01 09:30'), \n",
    "                                        size=9)\n",
    "\n",
    "series = pd.Series(range(9), index=index)\n",
    "series = series.sort_index()"
   ]
  },
  {
   "cell_type": "code",
   "execution_count": 5,
   "id": "931e9732",
   "metadata": {},
   "outputs": [
    {
     "data": {
      "text/plain": [
       "1970-01-01 09:05:10    3\n",
       "1970-01-01 09:05:38    7\n",
       "1970-01-01 09:09:13    2\n",
       "1970-01-01 09:12:38    5\n",
       "1970-01-01 09:13:40    6\n",
       "1970-01-01 09:19:30    8\n",
       "1970-01-01 09:21:52    0\n",
       "1970-01-01 09:24:55    4\n",
       "1970-01-01 09:26:47    1\n",
       "dtype: int64"
      ]
     },
     "execution_count": 5,
     "metadata": {},
     "output_type": "execute_result"
    }
   ],
   "source": [
    "series"
   ]
  },
  {
   "cell_type": "code",
   "execution_count": 55,
   "id": "693dd979",
   "metadata": {},
   "outputs": [
    {
     "data": {
      "text/plain": [
       "1970-01-01 09:03:00    14\n",
       "1970-01-01 09:04:00     3\n",
       "1970-01-01 09:05:00     0\n",
       "1970-01-01 09:06:00     0\n",
       "1970-01-01 09:07:00     2\n",
       "1970-01-01 09:08:00     0\n",
       "1970-01-01 09:09:00     0\n",
       "1970-01-01 09:10:00     0\n",
       "1970-01-01 09:11:00     0\n",
       "1970-01-01 09:12:00     0\n",
       "1970-01-01 09:13:00     0\n",
       "1970-01-01 09:14:00     0\n",
       "1970-01-01 09:15:00     4\n",
       "1970-01-01 09:16:00     0\n",
       "1970-01-01 09:17:00     5\n",
       "1970-01-01 09:18:00     0\n",
       "1970-01-01 09:19:00     1\n",
       "1970-01-01 09:20:00     0\n",
       "1970-01-01 09:21:00     0\n",
       "1970-01-01 09:22:00     0\n",
       "1970-01-01 09:23:00     7\n",
       "Freq: T, dtype: int64"
      ]
     },
     "execution_count": 55,
     "metadata": {},
     "output_type": "execute_result"
    }
   ],
   "source": [
    "series.resample('T').sum() #.head()"
   ]
  },
  {
   "cell_type": "code",
   "execution_count": 47,
   "id": "cc203fbd",
   "metadata": {},
   "outputs": [
    {
     "data": {
      "text/plain": [
       "2000-01-01 00:00:00     1\n",
       "2000-01-01 00:04:00     5\n",
       "2000-01-01 00:08:00     9\n",
       "2000-01-01 00:12:00    13\n",
       "2000-01-01 00:16:00     8\n",
       "Freq: 4T, dtype: int64"
      ]
     },
     "execution_count": 47,
     "metadata": {},
     "output_type": "execute_result"
    }
   ],
   "source": [
    "series.resample('4T').sum().head()"
   ]
  },
  {
   "cell_type": "markdown",
   "id": "7de7a1c7-d10e-45ff-99ac-6ddd5d4dcbe7",
   "metadata": {},
   "source": [
    "method 2"
   ]
  },
  {
   "cell_type": "code",
   "execution_count": 26,
   "id": "99360565-2e30-46d9-84ea-c7a73df169d7",
   "metadata": {},
   "outputs": [],
   "source": [
    "index = pd.date_range('1/1/1970', periods=9, freq='T')\n",
    "series = pd.Series(range(9), index=index, name='datetime')\n",
    "\n",
    "data = pd.DataFrame()\n",
    "data['timestamp'] = random_datetimes_or_dates(start=pd.to_datetime('1970-01-01 09:00'), \n",
    "                                              end=pd.to_datetime('1970-01-01 11:00'), \n",
    "                                              size=10)\n",
    "data['value']    = np.random.randint(low=0, high=100+1, size=len(data))"
   ]
  },
  {
   "cell_type": "code",
   "execution_count": 31,
   "id": "61f7b0ac-a8ea-42db-ab2d-9de36e098f67",
   "metadata": {},
   "outputs": [],
   "source": [
    "# series"
   ]
  },
  {
   "cell_type": "code",
   "execution_count": 32,
   "id": "d04f32ef-23bc-479e-8730-34151e3371b3",
   "metadata": {},
   "outputs": [],
   "source": [
    "# data"
   ]
  },
  {
   "cell_type": "code",
   "execution_count": 30,
   "id": "c4298f03-c539-473a-ab13-21b8cf06f7dc",
   "metadata": {},
   "outputs": [
    {
     "data": {
      "text/html": [
       "<div>\n",
       "<style scoped>\n",
       "    .dataframe tbody tr th:only-of-type {\n",
       "        vertical-align: middle;\n",
       "    }\n",
       "\n",
       "    .dataframe tbody tr th {\n",
       "        vertical-align: top;\n",
       "    }\n",
       "\n",
       "    .dataframe thead th {\n",
       "        text-align: right;\n",
       "    }\n",
       "</style>\n",
       "<table border=\"1\" class=\"dataframe\">\n",
       "  <thead>\n",
       "    <tr style=\"text-align: right;\">\n",
       "      <th></th>\n",
       "      <th>timestamp</th>\n",
       "      <th>value</th>\n",
       "      <th>datetime</th>\n",
       "    </tr>\n",
       "  </thead>\n",
       "  <tbody>\n",
       "    <tr>\n",
       "      <th>NaN</th>\n",
       "      <td>1970-01-01 00:00:00</td>\n",
       "      <td>NaN</td>\n",
       "      <td>0.0</td>\n",
       "    </tr>\n",
       "    <tr>\n",
       "      <th>NaN</th>\n",
       "      <td>1970-01-01 00:01:00</td>\n",
       "      <td>NaN</td>\n",
       "      <td>1.0</td>\n",
       "    </tr>\n",
       "    <tr>\n",
       "      <th>NaN</th>\n",
       "      <td>1970-01-01 00:02:00</td>\n",
       "      <td>NaN</td>\n",
       "      <td>2.0</td>\n",
       "    </tr>\n",
       "    <tr>\n",
       "      <th>NaN</th>\n",
       "      <td>1970-01-01 00:03:00</td>\n",
       "      <td>NaN</td>\n",
       "      <td>3.0</td>\n",
       "    </tr>\n",
       "    <tr>\n",
       "      <th>NaN</th>\n",
       "      <td>1970-01-01 00:04:00</td>\n",
       "      <td>NaN</td>\n",
       "      <td>4.0</td>\n",
       "    </tr>\n",
       "    <tr>\n",
       "      <th>NaN</th>\n",
       "      <td>1970-01-01 00:05:00</td>\n",
       "      <td>NaN</td>\n",
       "      <td>5.0</td>\n",
       "    </tr>\n",
       "    <tr>\n",
       "      <th>NaN</th>\n",
       "      <td>1970-01-01 00:06:00</td>\n",
       "      <td>NaN</td>\n",
       "      <td>6.0</td>\n",
       "    </tr>\n",
       "    <tr>\n",
       "      <th>NaN</th>\n",
       "      <td>1970-01-01 00:07:00</td>\n",
       "      <td>NaN</td>\n",
       "      <td>7.0</td>\n",
       "    </tr>\n",
       "    <tr>\n",
       "      <th>NaN</th>\n",
       "      <td>1970-01-01 00:08:00</td>\n",
       "      <td>NaN</td>\n",
       "      <td>8.0</td>\n",
       "    </tr>\n",
       "    <tr>\n",
       "      <th>8.0</th>\n",
       "      <td>1970-01-01 09:19:05</td>\n",
       "      <td>10.0</td>\n",
       "      <td>NaN</td>\n",
       "    </tr>\n",
       "    <tr>\n",
       "      <th>4.0</th>\n",
       "      <td>1970-01-01 09:23:06</td>\n",
       "      <td>61.0</td>\n",
       "      <td>NaN</td>\n",
       "    </tr>\n",
       "    <tr>\n",
       "      <th>6.0</th>\n",
       "      <td>1970-01-01 09:33:48</td>\n",
       "      <td>53.0</td>\n",
       "      <td>NaN</td>\n",
       "    </tr>\n",
       "    <tr>\n",
       "      <th>5.0</th>\n",
       "      <td>1970-01-01 09:43:02</td>\n",
       "      <td>84.0</td>\n",
       "      <td>NaN</td>\n",
       "    </tr>\n",
       "    <tr>\n",
       "      <th>2.0</th>\n",
       "      <td>1970-01-01 09:54:27</td>\n",
       "      <td>42.0</td>\n",
       "      <td>NaN</td>\n",
       "    </tr>\n",
       "    <tr>\n",
       "      <th>9.0</th>\n",
       "      <td>1970-01-01 10:08:35</td>\n",
       "      <td>67.0</td>\n",
       "      <td>NaN</td>\n",
       "    </tr>\n",
       "    <tr>\n",
       "      <th>0.0</th>\n",
       "      <td>1970-01-01 10:24:51</td>\n",
       "      <td>94.0</td>\n",
       "      <td>NaN</td>\n",
       "    </tr>\n",
       "    <tr>\n",
       "      <th>1.0</th>\n",
       "      <td>1970-01-01 10:27:52</td>\n",
       "      <td>45.0</td>\n",
       "      <td>NaN</td>\n",
       "    </tr>\n",
       "    <tr>\n",
       "      <th>7.0</th>\n",
       "      <td>1970-01-01 10:31:36</td>\n",
       "      <td>33.0</td>\n",
       "      <td>NaN</td>\n",
       "    </tr>\n",
       "    <tr>\n",
       "      <th>3.0</th>\n",
       "      <td>1970-01-01 10:33:08</td>\n",
       "      <td>7.0</td>\n",
       "      <td>NaN</td>\n",
       "    </tr>\n",
       "  </tbody>\n",
       "</table>\n",
       "</div>"
      ],
      "text/plain": [
       "              timestamp  value  datetime\n",
       "NaN 1970-01-01 00:00:00    NaN       0.0\n",
       "NaN 1970-01-01 00:01:00    NaN       1.0\n",
       "NaN 1970-01-01 00:02:00    NaN       2.0\n",
       "NaN 1970-01-01 00:03:00    NaN       3.0\n",
       "NaN 1970-01-01 00:04:00    NaN       4.0\n",
       "NaN 1970-01-01 00:05:00    NaN       5.0\n",
       "NaN 1970-01-01 00:06:00    NaN       6.0\n",
       "NaN 1970-01-01 00:07:00    NaN       7.0\n",
       "NaN 1970-01-01 00:08:00    NaN       8.0\n",
       "8.0 1970-01-01 09:19:05   10.0       NaN\n",
       "4.0 1970-01-01 09:23:06   61.0       NaN\n",
       "6.0 1970-01-01 09:33:48   53.0       NaN\n",
       "5.0 1970-01-01 09:43:02   84.0       NaN\n",
       "2.0 1970-01-01 09:54:27   42.0       NaN\n",
       "9.0 1970-01-01 10:08:35   67.0       NaN\n",
       "0.0 1970-01-01 10:24:51   94.0       NaN\n",
       "1.0 1970-01-01 10:27:52   45.0       NaN\n",
       "7.0 1970-01-01 10:31:36   33.0       NaN\n",
       "3.0 1970-01-01 10:33:08    7.0       NaN"
      ]
     },
     "execution_count": 30,
     "metadata": {},
     "output_type": "execute_result"
    }
   ],
   "source": [
    "data.merge(series, how='outer', left_on='timestamp', right_index=True).sort_values('timestamp')"
   ]
  },
  {
   "cell_type": "markdown",
   "id": "6197a11d-7077-4c28-bf8b-5bf3b2f40d99",
   "metadata": {},
   "source": [
    "# Overlaps"
   ]
  },
  {
   "cell_type": "markdown",
   "id": "545773ec-37ac-434e-9537-2769a86e40f6",
   "metadata": {},
   "source": [
    "https://stackoverflow.com/questions/66661492/identifying-overlapping-events-datetime-records-in-a-pandas-dataframe"
   ]
  },
  {
   "cell_type": "code",
   "execution_count": 60,
   "id": "62919f36-7be0-45d5-b155-b8b097da53af",
   "metadata": {},
   "outputs": [],
   "source": [
    "def overlap(df, flag=True):\n",
    "    \n",
    "    if flag:\n",
    "        s, e = df[['start_datetime', 'end_datetime']].to_numpy().T\n",
    "    else:\n",
    "        s, e = np.array([data['interval'].map(lambda x: x.left), \n",
    "                         data['interval'].map(lambda x: x.right)])\n",
    "    \n",
    "    m1 = (s[:, None] > s) & (s[:, None] < e) # Check if start time overlap\n",
    "    m2 = (e[:, None] < e) & (e[:, None] > s) # Check if ending time overlap\n",
    "\n",
    "    return (m1 | m2).any(1)"
   ]
  },
  {
   "cell_type": "code",
   "execution_count": 61,
   "id": "ae47210b-e298-49b3-8ad9-f20e92e86f3f",
   "metadata": {},
   "outputs": [],
   "source": [
    "data = pd.DataFrame()\n",
    "\n",
    "data['start_datetime'] = [ '02:00:00', \n",
    "                           '04:00:00', \n",
    "                           '06:00:00', \n",
    "                           '08:00:00', \n",
    "                           '10:00:00', ]\n",
    "data['end_datetime'] = [ '04:00:00', \n",
    "                         '08:00:00', \n",
    "                         '10:00:00', \n",
    "                         '11:00:00', \n",
    "                         '12:00:00', ]\n",
    "\n",
    "# data['start_datetime'] = [ '2000-01-01 02:23:49', \n",
    "#                          '1997-12-20 07:22:10', \n",
    "#                          '2000-01-05 03:42:29', \n",
    "#                          '2002-02-25 17:20:09', \n",
    "#                          '1999-06-30 03:33:20' ]\n",
    "# data['end_datetime'] = [ '2000-01-06 04:50:20', \n",
    "#                        '1998-12-20 01:24:12', \n",
    "#                        '2000-03-01 11:01:11', \n",
    "#                        '2003-02-25 22:05:02', \n",
    "#                        '2000-01-01 02:50:30' ]\n",
    "\n",
    "data['start_datetime'] = pd.to_datetime(data['start_datetime'])\n",
    "data['end_datetime'] = pd.to_datetime(data['end_datetime'])\n",
    "\n",
    "data['interval'] = data.apply(lambda x: pd.Interval(x['start_datetime'], x['end_datetime'], closed='left'), axis=1)\n",
    "\n",
    "data = data.sort_values('start_datetime')"
   ]
  },
  {
   "cell_type": "code",
   "execution_count": 62,
   "id": "f553dbd8-f614-4c9a-a8bd-c741fb93fa40",
   "metadata": {},
   "outputs": [],
   "source": [
    "data['overlap']  = overlap(data, flag=True)\n",
    "data['overlap_'] = overlap(data, flag=False)"
   ]
  },
  {
   "cell_type": "code",
   "execution_count": 63,
   "id": "60aff1f0-9620-4ace-b627-b6fbd0720ab9",
   "metadata": {},
   "outputs": [
    {
     "data": {
      "text/html": [
       "<div>\n",
       "<style scoped>\n",
       "    .dataframe tbody tr th:only-of-type {\n",
       "        vertical-align: middle;\n",
       "    }\n",
       "\n",
       "    .dataframe tbody tr th {\n",
       "        vertical-align: top;\n",
       "    }\n",
       "\n",
       "    .dataframe thead th {\n",
       "        text-align: right;\n",
       "    }\n",
       "</style>\n",
       "<table border=\"1\" class=\"dataframe\">\n",
       "  <thead>\n",
       "    <tr style=\"text-align: right;\">\n",
       "      <th></th>\n",
       "      <th>start_datetime</th>\n",
       "      <th>end_datetime</th>\n",
       "      <th>interval</th>\n",
       "      <th>overlap</th>\n",
       "      <th>overlap_</th>\n",
       "    </tr>\n",
       "  </thead>\n",
       "  <tbody>\n",
       "    <tr>\n",
       "      <th>0</th>\n",
       "      <td>2021-11-16 02:00:00</td>\n",
       "      <td>2021-11-16 04:00:00</td>\n",
       "      <td>[2021-11-16 02:00:00, 2021-11-16 04:00:00)</td>\n",
       "      <td>False</td>\n",
       "      <td>False</td>\n",
       "    </tr>\n",
       "    <tr>\n",
       "      <th>1</th>\n",
       "      <td>2021-11-16 04:00:00</td>\n",
       "      <td>2021-11-16 08:00:00</td>\n",
       "      <td>[2021-11-16 04:00:00, 2021-11-16 08:00:00)</td>\n",
       "      <td>True</td>\n",
       "      <td>True</td>\n",
       "    </tr>\n",
       "    <tr>\n",
       "      <th>2</th>\n",
       "      <td>2021-11-16 06:00:00</td>\n",
       "      <td>2021-11-16 10:00:00</td>\n",
       "      <td>[2021-11-16 06:00:00, 2021-11-16 10:00:00)</td>\n",
       "      <td>True</td>\n",
       "      <td>True</td>\n",
       "    </tr>\n",
       "    <tr>\n",
       "      <th>3</th>\n",
       "      <td>2021-11-16 08:00:00</td>\n",
       "      <td>2021-11-16 11:00:00</td>\n",
       "      <td>[2021-11-16 08:00:00, 2021-11-16 11:00:00)</td>\n",
       "      <td>True</td>\n",
       "      <td>True</td>\n",
       "    </tr>\n",
       "    <tr>\n",
       "      <th>4</th>\n",
       "      <td>2021-11-16 10:00:00</td>\n",
       "      <td>2021-11-16 12:00:00</td>\n",
       "      <td>[2021-11-16 10:00:00, 2021-11-16 12:00:00)</td>\n",
       "      <td>True</td>\n",
       "      <td>True</td>\n",
       "    </tr>\n",
       "  </tbody>\n",
       "</table>\n",
       "</div>"
      ],
      "text/plain": [
       "       start_datetime        end_datetime  \\\n",
       "0 2021-11-16 02:00:00 2021-11-16 04:00:00   \n",
       "1 2021-11-16 04:00:00 2021-11-16 08:00:00   \n",
       "2 2021-11-16 06:00:00 2021-11-16 10:00:00   \n",
       "3 2021-11-16 08:00:00 2021-11-16 11:00:00   \n",
       "4 2021-11-16 10:00:00 2021-11-16 12:00:00   \n",
       "\n",
       "                                     interval  overlap  overlap_  \n",
       "0  [2021-11-16 02:00:00, 2021-11-16 04:00:00)    False     False  \n",
       "1  [2021-11-16 04:00:00, 2021-11-16 08:00:00)     True      True  \n",
       "2  [2021-11-16 06:00:00, 2021-11-16 10:00:00)     True      True  \n",
       "3  [2021-11-16 08:00:00, 2021-11-16 11:00:00)     True      True  \n",
       "4  [2021-11-16 10:00:00, 2021-11-16 12:00:00)     True      True  "
      ]
     },
     "execution_count": 63,
     "metadata": {},
     "output_type": "execute_result"
    }
   ],
   "source": [
    "data"
   ]
  },
  {
   "cell_type": "code",
   "execution_count": null,
   "id": "a2256f46-8d03-4178-ab53-0cbb769a6a88",
   "metadata": {},
   "outputs": [],
   "source": []
  }
 ],
 "metadata": {
  "kernelspec": {
   "display_name": "Python 3 (ipykernel)",
   "language": "python",
   "name": "python3"
  },
  "language_info": {
   "codemirror_mode": {
    "name": "ipython",
    "version": 3
   },
   "file_extension": ".py",
   "mimetype": "text/x-python",
   "name": "python",
   "nbconvert_exporter": "python",
   "pygments_lexer": "ipython3",
   "version": "3.9.7"
  }
 },
 "nbformat": 4,
 "nbformat_minor": 5
}
