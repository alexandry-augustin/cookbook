{
 "cells": [
  {
   "cell_type": "code",
   "execution_count": 1,
   "metadata": {
    "collapsed": true,
    "jupyter": {
     "outputs_hidden": true
    }
   },
   "outputs": [],
   "source": [
    "import pandas as pd\n",
    "import itertools\n",
    "import numpy as np"
   ]
  },
  {
   "cell_type": "markdown",
   "metadata": {},
   "source": [
    "# Multi-index Index"
   ]
  },
  {
   "cell_type": "code",
   "execution_count": 2,
   "metadata": {
    "collapsed": false,
    "jupyter": {
     "outputs_hidden": false
    }
   },
   "outputs": [
    {
     "name": "stdout",
     "output_type": "stream",
     "text": [
      "   first  second  value\n",
      "0      0       0      0\n",
      "1      0       1      1\n",
      "2      1       0      2\n",
      "3      1       1      3\n"
     ]
    }
   ],
   "source": [
    "data = {\"first\": [0,0,1,1], \"second\": [0,1,0,1], \"value\":range(4)}\n",
    "df=pd.DataFrame(data)\n",
    "print df\n",
    "\n",
    "tuples=zip(df[\"first\"].as_matrix(), df[\"second\"].as_matrix())\n",
    "index=pd.MultiIndex.from_tuples(tuples, names=['first', 'second'])\n",
    "\n",
    "s=pd.Series(df[\"value\"].as_matrix(), index=index)\n"
   ]
  },
  {
   "cell_type": "code",
   "execution_count": 3,
   "metadata": {
    "collapsed": false,
    "jupyter": {
     "outputs_hidden": false
    }
   },
   "outputs": [
    {
     "data": {
      "text/html": [
       "<div>\n",
       "<style scoped>\n",
       "    .dataframe tbody tr th:only-of-type {\n",
       "        vertical-align: middle;\n",
       "    }\n",
       "\n",
       "    .dataframe tbody tr th {\n",
       "        vertical-align: top;\n",
       "    }\n",
       "\n",
       "    .dataframe thead th {\n",
       "        text-align: right;\n",
       "    }\n",
       "</style>\n",
       "<table border=\"1\" class=\"dataframe\">\n",
       "  <thead>\n",
       "    <tr style=\"text-align: right;\">\n",
       "      <th></th>\n",
       "      <th></th>\n",
       "      <th>0</th>\n",
       "    </tr>\n",
       "    <tr>\n",
       "      <th>first</th>\n",
       "      <th>second</th>\n",
       "      <th></th>\n",
       "    </tr>\n",
       "  </thead>\n",
       "  <tbody>\n",
       "    <tr>\n",
       "      <th rowspan=\"2\" valign=\"top\">0</th>\n",
       "      <th>0</th>\n",
       "      <td>0</td>\n",
       "    </tr>\n",
       "    <tr>\n",
       "      <th>1</th>\n",
       "      <td>1</td>\n",
       "    </tr>\n",
       "    <tr>\n",
       "      <th rowspan=\"2\" valign=\"top\">1</th>\n",
       "      <th>0</th>\n",
       "      <td>2</td>\n",
       "    </tr>\n",
       "    <tr>\n",
       "      <th>1</th>\n",
       "      <td>3</td>\n",
       "    </tr>\n",
       "  </tbody>\n",
       "</table>\n",
       "</div>"
      ],
      "text/plain": [
       "              0\n",
       "first second   \n",
       "0     0       0\n",
       "      1       1\n",
       "1     0       2\n",
       "      1       3"
      ]
     },
     "execution_count": 3,
     "metadata": {},
     "output_type": "execute_result"
    }
   ],
   "source": [
    "s.to_frame()"
   ]
  },
  {
   "cell_type": "code",
   "execution_count": 4,
   "metadata": {
    "collapsed": false,
    "jupyter": {
     "outputs_hidden": false
    }
   },
   "outputs": [
    {
     "data": {
      "text/plain": [
       "1"
      ]
     },
     "execution_count": 4,
     "metadata": {},
     "output_type": "execute_result"
    }
   ],
   "source": [
    "s[0,1]"
   ]
  },
  {
   "cell_type": "markdown",
   "metadata": {},
   "source": [
    "# Multi-index Columns"
   ]
  },
  {
   "cell_type": "markdown",
   "metadata": {},
   "source": [
    "## Example 1"
   ]
  },
  {
   "cell_type": "code",
   "execution_count": 5,
   "metadata": {
    "collapsed": true,
    "jupyter": {
     "outputs_hidden": true
    }
   },
   "outputs": [],
   "source": [
    "data = pd.DataFrame(np.random.randn(10, 5), columns=('0_n', '1_n', '0_p', '1_p', 'x'))"
   ]
  },
  {
   "cell_type": "code",
   "execution_count": 6,
   "metadata": {
    "collapsed": false,
    "jupyter": {
     "outputs_hidden": false
    }
   },
   "outputs": [
    {
     "data": {
      "text/html": [
       "<div>\n",
       "<style scoped>\n",
       "    .dataframe tbody tr th:only-of-type {\n",
       "        vertical-align: middle;\n",
       "    }\n",
       "\n",
       "    .dataframe tbody tr th {\n",
       "        vertical-align: top;\n",
       "    }\n",
       "\n",
       "    .dataframe thead th {\n",
       "        text-align: right;\n",
       "    }\n",
       "</style>\n",
       "<table border=\"1\" class=\"dataframe\">\n",
       "  <thead>\n",
       "    <tr style=\"text-align: right;\">\n",
       "      <th></th>\n",
       "      <th>0_n</th>\n",
       "      <th>1_n</th>\n",
       "      <th>0_p</th>\n",
       "      <th>1_p</th>\n",
       "      <th>x</th>\n",
       "    </tr>\n",
       "  </thead>\n",
       "  <tbody>\n",
       "    <tr>\n",
       "      <th>0</th>\n",
       "      <td>-0.682256</td>\n",
       "      <td>0.339352</td>\n",
       "      <td>0.444529</td>\n",
       "      <td>1.639585</td>\n",
       "      <td>0.162968</td>\n",
       "    </tr>\n",
       "    <tr>\n",
       "      <th>1</th>\n",
       "      <td>0.684657</td>\n",
       "      <td>0.345660</td>\n",
       "      <td>-0.249783</td>\n",
       "      <td>-1.108155</td>\n",
       "      <td>0.000840</td>\n",
       "    </tr>\n",
       "    <tr>\n",
       "      <th>2</th>\n",
       "      <td>0.236351</td>\n",
       "      <td>1.039465</td>\n",
       "      <td>0.447159</td>\n",
       "      <td>0.657030</td>\n",
       "      <td>0.451423</td>\n",
       "    </tr>\n",
       "    <tr>\n",
       "      <th>3</th>\n",
       "      <td>-0.561547</td>\n",
       "      <td>-1.462654</td>\n",
       "      <td>0.919912</td>\n",
       "      <td>-0.687168</td>\n",
       "      <td>-0.106188</td>\n",
       "    </tr>\n",
       "    <tr>\n",
       "      <th>4</th>\n",
       "      <td>2.281549</td>\n",
       "      <td>0.040817</td>\n",
       "      <td>2.069136</td>\n",
       "      <td>1.131469</td>\n",
       "      <td>-0.502376</td>\n",
       "    </tr>\n",
       "    <tr>\n",
       "      <th>5</th>\n",
       "      <td>1.080127</td>\n",
       "      <td>-0.818928</td>\n",
       "      <td>0.366485</td>\n",
       "      <td>-0.148223</td>\n",
       "      <td>-0.004676</td>\n",
       "    </tr>\n",
       "    <tr>\n",
       "      <th>6</th>\n",
       "      <td>0.492118</td>\n",
       "      <td>0.154489</td>\n",
       "      <td>0.234686</td>\n",
       "      <td>-0.056173</td>\n",
       "      <td>0.442780</td>\n",
       "    </tr>\n",
       "    <tr>\n",
       "      <th>7</th>\n",
       "      <td>0.823507</td>\n",
       "      <td>0.090587</td>\n",
       "      <td>-0.690999</td>\n",
       "      <td>1.244924</td>\n",
       "      <td>-1.034858</td>\n",
       "    </tr>\n",
       "    <tr>\n",
       "      <th>8</th>\n",
       "      <td>0.100048</td>\n",
       "      <td>0.492473</td>\n",
       "      <td>0.322140</td>\n",
       "      <td>-0.482251</td>\n",
       "      <td>0.471794</td>\n",
       "    </tr>\n",
       "    <tr>\n",
       "      <th>9</th>\n",
       "      <td>1.100691</td>\n",
       "      <td>-0.446378</td>\n",
       "      <td>0.165224</td>\n",
       "      <td>0.232284</td>\n",
       "      <td>-0.269126</td>\n",
       "    </tr>\n",
       "  </tbody>\n",
       "</table>\n",
       "</div>"
      ],
      "text/plain": [
       "        0_n       1_n       0_p       1_p         x\n",
       "0 -0.682256  0.339352  0.444529  1.639585  0.162968\n",
       "1  0.684657  0.345660 -0.249783 -1.108155  0.000840\n",
       "2  0.236351  1.039465  0.447159  0.657030  0.451423\n",
       "3 -0.561547 -1.462654  0.919912 -0.687168 -0.106188\n",
       "4  2.281549  0.040817  2.069136  1.131469 -0.502376\n",
       "5  1.080127 -0.818928  0.366485 -0.148223 -0.004676\n",
       "6  0.492118  0.154489  0.234686 -0.056173  0.442780\n",
       "7  0.823507  0.090587 -0.690999  1.244924 -1.034858\n",
       "8  0.100048  0.492473  0.322140 -0.482251  0.471794\n",
       "9  1.100691 -0.446378  0.165224  0.232284 -0.269126"
      ]
     },
     "execution_count": 6,
     "metadata": {},
     "output_type": "execute_result"
    }
   ],
   "source": [
    "data"
   ]
  },
  {
   "cell_type": "code",
   "execution_count": 16,
   "metadata": {
    "collapsed": false,
    "jupyter": {
     "outputs_hidden": false
    }
   },
   "outputs": [
    {
     "name": "stdout",
     "output_type": "stream",
     "text": [
      "('p', 0)\n",
      "('p', 1)\n",
      "('n', 0)\n",
      "('n', 1)\n"
     ]
    }
   ],
   "source": [
    "indices, groups, others = set(), set(), set()\n",
    "for col_name in data.columns:\n",
    "    if '_' in col_name:\n",
    "        (lvl0_name, lvl1_name) = col_name.split('_')\n",
    "#         index = pd.MultiIndex.from_tuples((lvl0_name, lvl1_name),)\n",
    "        indices.add(int(lvl0_name))\n",
    "        groups.add(lvl1_name)\n",
    "    else:\n",
    "        others.add(col_name)\n",
    "assert(indices == set({0, 1}))\n",
    "assert(groups == set({'n', 'p'}))\n",
    "assert(others == set({'x'}))\n",
    "        \n",
    "columns = list(itertools.product(groups, indices))\n",
    "columns = pd.MultiIndex.from_tuples(columns)\n",
    "ret = pd.DataFrame(columns=columns)\n",
    "\n",
    "for c in columns:\n",
    "    ret[c] = data['%d_%s' % (int(c[1]), c[0])]\n",
    "for c in others:\n",
    "    ret[c] = data['%s' % c]\n",
    "ret.rename(columns={'total': 'total_indices'}, inplace=True)"
   ]
  },
  {
   "cell_type": "code",
   "execution_count": 9,
   "metadata": {
    "collapsed": false,
    "jupyter": {
     "outputs_hidden": false
    }
   },
   "outputs": [
    {
     "data": {
      "text/html": [
       "<div>\n",
       "<style scoped>\n",
       "    .dataframe tbody tr th:only-of-type {\n",
       "        vertical-align: middle;\n",
       "    }\n",
       "\n",
       "    .dataframe tbody tr th {\n",
       "        vertical-align: top;\n",
       "    }\n",
       "\n",
       "    .dataframe thead tr th {\n",
       "        text-align: left;\n",
       "    }\n",
       "</style>\n",
       "<table border=\"1\" class=\"dataframe\">\n",
       "  <thead>\n",
       "    <tr>\n",
       "      <th></th>\n",
       "      <th colspan=\"2\" halign=\"left\">p</th>\n",
       "      <th colspan=\"2\" halign=\"left\">n</th>\n",
       "      <th>x</th>\n",
       "    </tr>\n",
       "    <tr>\n",
       "      <th></th>\n",
       "      <th>0</th>\n",
       "      <th>1</th>\n",
       "      <th>0</th>\n",
       "      <th>1</th>\n",
       "      <th></th>\n",
       "    </tr>\n",
       "  </thead>\n",
       "  <tbody>\n",
       "    <tr>\n",
       "      <th>0</th>\n",
       "      <td>0.444529</td>\n",
       "      <td>1.639585</td>\n",
       "      <td>-0.682256</td>\n",
       "      <td>0.339352</td>\n",
       "      <td>0.162968</td>\n",
       "    </tr>\n",
       "    <tr>\n",
       "      <th>1</th>\n",
       "      <td>-0.249783</td>\n",
       "      <td>-1.108155</td>\n",
       "      <td>0.684657</td>\n",
       "      <td>0.345660</td>\n",
       "      <td>0.000840</td>\n",
       "    </tr>\n",
       "    <tr>\n",
       "      <th>2</th>\n",
       "      <td>0.447159</td>\n",
       "      <td>0.657030</td>\n",
       "      <td>0.236351</td>\n",
       "      <td>1.039465</td>\n",
       "      <td>0.451423</td>\n",
       "    </tr>\n",
       "    <tr>\n",
       "      <th>3</th>\n",
       "      <td>0.919912</td>\n",
       "      <td>-0.687168</td>\n",
       "      <td>-0.561547</td>\n",
       "      <td>-1.462654</td>\n",
       "      <td>-0.106188</td>\n",
       "    </tr>\n",
       "    <tr>\n",
       "      <th>4</th>\n",
       "      <td>2.069136</td>\n",
       "      <td>1.131469</td>\n",
       "      <td>2.281549</td>\n",
       "      <td>0.040817</td>\n",
       "      <td>-0.502376</td>\n",
       "    </tr>\n",
       "    <tr>\n",
       "      <th>5</th>\n",
       "      <td>0.366485</td>\n",
       "      <td>-0.148223</td>\n",
       "      <td>1.080127</td>\n",
       "      <td>-0.818928</td>\n",
       "      <td>-0.004676</td>\n",
       "    </tr>\n",
       "    <tr>\n",
       "      <th>6</th>\n",
       "      <td>0.234686</td>\n",
       "      <td>-0.056173</td>\n",
       "      <td>0.492118</td>\n",
       "      <td>0.154489</td>\n",
       "      <td>0.442780</td>\n",
       "    </tr>\n",
       "    <tr>\n",
       "      <th>7</th>\n",
       "      <td>-0.690999</td>\n",
       "      <td>1.244924</td>\n",
       "      <td>0.823507</td>\n",
       "      <td>0.090587</td>\n",
       "      <td>-1.034858</td>\n",
       "    </tr>\n",
       "    <tr>\n",
       "      <th>8</th>\n",
       "      <td>0.322140</td>\n",
       "      <td>-0.482251</td>\n",
       "      <td>0.100048</td>\n",
       "      <td>0.492473</td>\n",
       "      <td>0.471794</td>\n",
       "    </tr>\n",
       "    <tr>\n",
       "      <th>9</th>\n",
       "      <td>0.165224</td>\n",
       "      <td>0.232284</td>\n",
       "      <td>1.100691</td>\n",
       "      <td>-0.446378</td>\n",
       "      <td>-0.269126</td>\n",
       "    </tr>\n",
       "  </tbody>\n",
       "</table>\n",
       "</div>"
      ],
      "text/plain": [
       "          p                   n                   x\n",
       "          0         1         0         1          \n",
       "0  0.444529  1.639585 -0.682256  0.339352  0.162968\n",
       "1 -0.249783 -1.108155  0.684657  0.345660  0.000840\n",
       "2  0.447159  0.657030  0.236351  1.039465  0.451423\n",
       "3  0.919912 -0.687168 -0.561547 -1.462654 -0.106188\n",
       "4  2.069136  1.131469  2.281549  0.040817 -0.502376\n",
       "5  0.366485 -0.148223  1.080127 -0.818928 -0.004676\n",
       "6  0.234686 -0.056173  0.492118  0.154489  0.442780\n",
       "7 -0.690999  1.244924  0.823507  0.090587 -1.034858\n",
       "8  0.322140 -0.482251  0.100048  0.492473  0.471794\n",
       "9  0.165224  0.232284  1.100691 -0.446378 -0.269126"
      ]
     },
     "execution_count": 9,
     "metadata": {},
     "output_type": "execute_result"
    }
   ],
   "source": [
    "ret"
   ]
  },
  {
   "cell_type": "markdown",
   "metadata": {},
   "source": [
    "## Example 2"
   ]
  },
  {
   "cell_type": "code",
   "execution_count": 17,
   "metadata": {
    "collapsed": true,
    "jupyter": {
     "outputs_hidden": true
    }
   },
   "outputs": [],
   "source": [
    "data = pd.DataFrame(np.random.randn(10, 5), columns=('0_n', '1_n', '0_p', '1_p', 'x'))"
   ]
  },
  {
   "cell_type": "code",
   "execution_count": 18,
   "metadata": {
    "collapsed": false,
    "jupyter": {
     "outputs_hidden": false
    }
   },
   "outputs": [
    {
     "data": {
      "text/html": [
       "<div>\n",
       "<style scoped>\n",
       "    .dataframe tbody tr th:only-of-type {\n",
       "        vertical-align: middle;\n",
       "    }\n",
       "\n",
       "    .dataframe tbody tr th {\n",
       "        vertical-align: top;\n",
       "    }\n",
       "\n",
       "    .dataframe thead th {\n",
       "        text-align: right;\n",
       "    }\n",
       "</style>\n",
       "<table border=\"1\" class=\"dataframe\">\n",
       "  <thead>\n",
       "    <tr style=\"text-align: right;\">\n",
       "      <th></th>\n",
       "      <th>0_n</th>\n",
       "      <th>1_n</th>\n",
       "      <th>0_p</th>\n",
       "      <th>1_p</th>\n",
       "      <th>x</th>\n",
       "    </tr>\n",
       "  </thead>\n",
       "  <tbody>\n",
       "    <tr>\n",
       "      <th>0</th>\n",
       "      <td>0.510305</td>\n",
       "      <td>0.540592</td>\n",
       "      <td>-0.399434</td>\n",
       "      <td>-0.226679</td>\n",
       "      <td>0.136374</td>\n",
       "    </tr>\n",
       "    <tr>\n",
       "      <th>1</th>\n",
       "      <td>-1.686223</td>\n",
       "      <td>0.305553</td>\n",
       "      <td>-0.271202</td>\n",
       "      <td>-0.420788</td>\n",
       "      <td>0.023815</td>\n",
       "    </tr>\n",
       "    <tr>\n",
       "      <th>2</th>\n",
       "      <td>0.918915</td>\n",
       "      <td>-0.912638</td>\n",
       "      <td>0.599102</td>\n",
       "      <td>0.230952</td>\n",
       "      <td>0.448617</td>\n",
       "    </tr>\n",
       "    <tr>\n",
       "      <th>3</th>\n",
       "      <td>-0.062494</td>\n",
       "      <td>1.128747</td>\n",
       "      <td>-0.158436</td>\n",
       "      <td>-1.901391</td>\n",
       "      <td>-0.083625</td>\n",
       "    </tr>\n",
       "    <tr>\n",
       "      <th>4</th>\n",
       "      <td>1.586500</td>\n",
       "      <td>-0.195746</td>\n",
       "      <td>0.990040</td>\n",
       "      <td>-0.131220</td>\n",
       "      <td>-1.545867</td>\n",
       "    </tr>\n",
       "    <tr>\n",
       "      <th>5</th>\n",
       "      <td>-0.191243</td>\n",
       "      <td>0.243064</td>\n",
       "      <td>-0.428167</td>\n",
       "      <td>1.872334</td>\n",
       "      <td>1.204189</td>\n",
       "    </tr>\n",
       "    <tr>\n",
       "      <th>6</th>\n",
       "      <td>-0.960025</td>\n",
       "      <td>-2.627379</td>\n",
       "      <td>0.547084</td>\n",
       "      <td>0.869504</td>\n",
       "      <td>0.682220</td>\n",
       "    </tr>\n",
       "    <tr>\n",
       "      <th>7</th>\n",
       "      <td>1.964313</td>\n",
       "      <td>-0.042387</td>\n",
       "      <td>0.661663</td>\n",
       "      <td>1.011448</td>\n",
       "      <td>0.479025</td>\n",
       "    </tr>\n",
       "    <tr>\n",
       "      <th>8</th>\n",
       "      <td>-0.082247</td>\n",
       "      <td>-0.893074</td>\n",
       "      <td>0.413745</td>\n",
       "      <td>0.535620</td>\n",
       "      <td>-0.375204</td>\n",
       "    </tr>\n",
       "    <tr>\n",
       "      <th>9</th>\n",
       "      <td>0.040863</td>\n",
       "      <td>0.699765</td>\n",
       "      <td>-0.926453</td>\n",
       "      <td>0.264235</td>\n",
       "      <td>0.725608</td>\n",
       "    </tr>\n",
       "  </tbody>\n",
       "</table>\n",
       "</div>"
      ],
      "text/plain": [
       "        0_n       1_n       0_p       1_p         x\n",
       "0  0.510305  0.540592 -0.399434 -0.226679  0.136374\n",
       "1 -1.686223  0.305553 -0.271202 -0.420788  0.023815\n",
       "2  0.918915 -0.912638  0.599102  0.230952  0.448617\n",
       "3 -0.062494  1.128747 -0.158436 -1.901391 -0.083625\n",
       "4  1.586500 -0.195746  0.990040 -0.131220 -1.545867\n",
       "5 -0.191243  0.243064 -0.428167  1.872334  1.204189\n",
       "6 -0.960025 -2.627379  0.547084  0.869504  0.682220\n",
       "7  1.964313 -0.042387  0.661663  1.011448  0.479025\n",
       "8 -0.082247 -0.893074  0.413745  0.535620 -0.375204\n",
       "9  0.040863  0.699765 -0.926453  0.264235  0.725608"
      ]
     },
     "execution_count": 18,
     "metadata": {},
     "output_type": "execute_result"
    }
   ],
   "source": [
    "data"
   ]
  },
  {
   "cell_type": "code",
   "execution_count": 42,
   "metadata": {
    "collapsed": false,
    "jupyter": {
     "outputs_hidden": false
    }
   },
   "outputs": [],
   "source": [
    "columns = [('n', '0'), ('n', '1'), ('p', '0'), ('p', '1'), ('x')]\n",
    "columns = pd.MultiIndex.from_tuples(columns)\n",
    "ret = pd.DataFrame(columns=columns)\n",
    "\n",
    "ret[('n', '0')] = data['0_n']\n",
    "ret[('n', '1')] = data['1_n']\n",
    "ret[('p', '0')] = data['0_p']\n",
    "ret[('p', '1')] = data['1_p']\n",
    "ret[('x')]      = data['x']"
   ]
  },
  {
   "cell_type": "code",
   "execution_count": 43,
   "metadata": {
    "collapsed": false,
    "jupyter": {
     "outputs_hidden": false
    }
   },
   "outputs": [
    {
     "data": {
      "text/html": [
       "<div>\n",
       "<style scoped>\n",
       "    .dataframe tbody tr th:only-of-type {\n",
       "        vertical-align: middle;\n",
       "    }\n",
       "\n",
       "    .dataframe tbody tr th {\n",
       "        vertical-align: top;\n",
       "    }\n",
       "\n",
       "    .dataframe thead tr th {\n",
       "        text-align: left;\n",
       "    }\n",
       "</style>\n",
       "<table border=\"1\" class=\"dataframe\">\n",
       "  <thead>\n",
       "    <tr>\n",
       "      <th></th>\n",
       "      <th colspan=\"2\" halign=\"left\">n</th>\n",
       "      <th colspan=\"2\" halign=\"left\">p</th>\n",
       "      <th>x</th>\n",
       "    </tr>\n",
       "    <tr>\n",
       "      <th></th>\n",
       "      <th>0</th>\n",
       "      <th>1</th>\n",
       "      <th>0</th>\n",
       "      <th>1</th>\n",
       "      <th>NaN</th>\n",
       "    </tr>\n",
       "  </thead>\n",
       "  <tbody>\n",
       "    <tr>\n",
       "      <th>0</th>\n",
       "      <td>0.510305</td>\n",
       "      <td>0.540592</td>\n",
       "      <td>-0.399434</td>\n",
       "      <td>-0.226679</td>\n",
       "      <td>0.136374</td>\n",
       "    </tr>\n",
       "    <tr>\n",
       "      <th>1</th>\n",
       "      <td>-1.686223</td>\n",
       "      <td>0.305553</td>\n",
       "      <td>-0.271202</td>\n",
       "      <td>-0.420788</td>\n",
       "      <td>0.023815</td>\n",
       "    </tr>\n",
       "    <tr>\n",
       "      <th>2</th>\n",
       "      <td>0.918915</td>\n",
       "      <td>-0.912638</td>\n",
       "      <td>0.599102</td>\n",
       "      <td>0.230952</td>\n",
       "      <td>0.448617</td>\n",
       "    </tr>\n",
       "    <tr>\n",
       "      <th>3</th>\n",
       "      <td>-0.062494</td>\n",
       "      <td>1.128747</td>\n",
       "      <td>-0.158436</td>\n",
       "      <td>-1.901391</td>\n",
       "      <td>-0.083625</td>\n",
       "    </tr>\n",
       "    <tr>\n",
       "      <th>4</th>\n",
       "      <td>1.586500</td>\n",
       "      <td>-0.195746</td>\n",
       "      <td>0.990040</td>\n",
       "      <td>-0.131220</td>\n",
       "      <td>-1.545867</td>\n",
       "    </tr>\n",
       "    <tr>\n",
       "      <th>5</th>\n",
       "      <td>-0.191243</td>\n",
       "      <td>0.243064</td>\n",
       "      <td>-0.428167</td>\n",
       "      <td>1.872334</td>\n",
       "      <td>1.204189</td>\n",
       "    </tr>\n",
       "    <tr>\n",
       "      <th>6</th>\n",
       "      <td>-0.960025</td>\n",
       "      <td>-2.627379</td>\n",
       "      <td>0.547084</td>\n",
       "      <td>0.869504</td>\n",
       "      <td>0.682220</td>\n",
       "    </tr>\n",
       "    <tr>\n",
       "      <th>7</th>\n",
       "      <td>1.964313</td>\n",
       "      <td>-0.042387</td>\n",
       "      <td>0.661663</td>\n",
       "      <td>1.011448</td>\n",
       "      <td>0.479025</td>\n",
       "    </tr>\n",
       "    <tr>\n",
       "      <th>8</th>\n",
       "      <td>-0.082247</td>\n",
       "      <td>-0.893074</td>\n",
       "      <td>0.413745</td>\n",
       "      <td>0.535620</td>\n",
       "      <td>-0.375204</td>\n",
       "    </tr>\n",
       "    <tr>\n",
       "      <th>9</th>\n",
       "      <td>0.040863</td>\n",
       "      <td>0.699765</td>\n",
       "      <td>-0.926453</td>\n",
       "      <td>0.264235</td>\n",
       "      <td>0.725608</td>\n",
       "    </tr>\n",
       "  </tbody>\n",
       "</table>\n",
       "</div>"
      ],
      "text/plain": [
       "          n                   p                   x\n",
       "          0         1         0         1       NaN\n",
       "0  0.510305  0.540592 -0.399434 -0.226679  0.136374\n",
       "1 -1.686223  0.305553 -0.271202 -0.420788  0.023815\n",
       "2  0.918915 -0.912638  0.599102  0.230952  0.448617\n",
       "3 -0.062494  1.128747 -0.158436 -1.901391 -0.083625\n",
       "4  1.586500 -0.195746  0.990040 -0.131220 -1.545867\n",
       "5 -0.191243  0.243064 -0.428167  1.872334  1.204189\n",
       "6 -0.960025 -2.627379  0.547084  0.869504  0.682220\n",
       "7  1.964313 -0.042387  0.661663  1.011448  0.479025\n",
       "8 -0.082247 -0.893074  0.413745  0.535620 -0.375204\n",
       "9  0.040863  0.699765 -0.926453  0.264235  0.725608"
      ]
     },
     "execution_count": 43,
     "metadata": {},
     "output_type": "execute_result"
    }
   ],
   "source": [
    "ret"
   ]
  },
  {
   "cell_type": "markdown",
   "metadata": {},
   "source": [
    "# Misc"
   ]
  },
  {
   "cell_type": "code",
   "execution_count": 7,
   "metadata": {},
   "outputs": [],
   "source": [
    "# columns = pd.MultiIndex.from_tuples([('a',0), ('a', 1)])\n",
    "# df = pd.DataFrame(columns=columns)\n",
    "\n",
    "# df[('a', 0)]=range(3,6)\n",
    "# df[('a', 1)]=['a', 'b', 'c']\n",
    "# df[('ts', '')]=range(3)\n",
    "\n",
    "# l = [0,1,0]"
   ]
  },
  {
   "cell_type": "code",
   "execution_count": 8,
   "metadata": {},
   "outputs": [],
   "source": [
    "# df.apply(lambda x: x[('a', l[x[('ts', '')]])], axis='columns')"
   ]
  },
  {
   "cell_type": "code",
   "execution_count": null,
   "metadata": {},
   "outputs": [],
   "source": []
  }
 ],
 "metadata": {
  "kernelspec": {
   "display_name": "Python 3",
   "language": "python",
   "name": "python3"
  },
  "language_info": {
   "codemirror_mode": {
    "name": "ipython",
    "version": 3
   },
   "file_extension": ".py",
   "mimetype": "text/x-python",
   "name": "python",
   "nbconvert_exporter": "python",
   "pygments_lexer": "ipython3",
   "version": "3.7.4"
  }
 },
 "nbformat": 4,
 "nbformat_minor": 4
}
