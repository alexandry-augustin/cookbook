{
 "cells": [
  {
   "cell_type": "code",
   "execution_count": 1,
   "metadata": {},
   "outputs": [],
   "source": [
    "import os\n",
    "import time\n",
    "import random\n",
    "import multiprocessing as mp\n",
    "import logging"
   ]
  },
  {
   "cell_type": "code",
   "execution_count": 2,
   "metadata": {},
   "outputs": [],
   "source": [
    "logging.basicConfig(level=logging.DEBUG)"
   ]
  },
  {
   "cell_type": "markdown",
   "metadata": {},
   "source": [
    "get the number of CPU cores"
   ]
  },
  {
   "cell_type": "code",
   "execution_count": 4,
   "metadata": {},
   "outputs": [],
   "source": [
    "nb_cores = mp.cpu_count()"
   ]
  },
  {
   "cell_type": "code",
   "execution_count": 5,
   "metadata": {},
   "outputs": [
    {
     "name": "stdout",
     "output_type": "stream",
     "text": [
      "8 cores\n"
     ]
    }
   ],
   "source": [
    "print(nb_cores, 'cores')"
   ]
  },
  {
   "cell_type": "markdown",
   "metadata": {},
   "source": [
    "helpers"
   ]
  },
  {
   "cell_type": "code",
   "execution_count": 6,
   "metadata": {},
   "outputs": [],
   "source": [
    "def f(n):\n",
    "    print('n={}'.format(n))\n",
    "    return n"
   ]
  },
  {
   "cell_type": "code",
   "execution_count": 7,
   "metadata": {},
   "outputs": [],
   "source": [
    "def square(x):\n",
    "    return x*x"
   ]
  },
  {
   "cell_type": "markdown",
   "metadata": {},
   "source": [
    "# `Process()`"
   ]
  },
  {
   "cell_type": "code",
   "execution_count": 8,
   "metadata": {},
   "outputs": [
    {
     "name": "stdout",
     "output_type": "stream",
     "text": [
      "n=0\n"
     ]
    }
   ],
   "source": [
    "process = mp.Process(target=f, \n",
    "                     args=(0,))\n",
    "process.start()\n",
    "process.join()"
   ]
  },
  {
   "cell_type": "markdown",
   "metadata": {},
   "source": [
    "# `Pool()`  \n",
    "\n",
    "> \"The Pool can take the number of processes as a parameter. [...] If we do not provide any value, then the number returned by os.cpu_count is used.\" -- https://zetcode.com/python/multiprocessing/"
   ]
  },
  {
   "cell_type": "code",
   "execution_count": 11,
   "metadata": {},
   "outputs": [
    {
     "name": "stdout",
     "output_type": "stream",
     "text": [
      "[1, 4, 9, 16]\n"
     ]
    }
   ],
   "source": [
    "pool = mp.Pool(nb_cores)\n",
    "data = pool.map(square, range(1, 5))\n",
    "pool.close()\n",
    "pool.join()\n",
    "print(data)"
   ]
  },
  {
   "cell_type": "code",
   "execution_count": 13,
   "metadata": {},
   "outputs": [
    {
     "name": "stdout",
     "output_type": "stream",
     "text": [
      "[1, 4, 9, 16]\n"
     ]
    }
   ],
   "source": [
    "with mp.Pool(5) as pool:\n",
    "    data = pool.map(square, range(1, 5))\n",
    "print(data)"
   ]
  },
  {
   "cell_type": "code",
   "execution_count": null,
   "metadata": {},
   "outputs": [],
   "source": []
  },
  {
   "cell_type": "markdown",
   "metadata": {},
   "source": [
    "# `Queue()`  \n",
    "\n",
    "> \"Queue objects are a FIFO data structure that are thread and process safe which make them perfect for passing data between different processes without potentially corrupting data.\" -- https://tutorialedge.net/python/python-multiprocessing-tutorial/"
   ]
  },
  {
   "cell_type": "code",
   "execution_count": 19,
   "metadata": {},
   "outputs": [
    {
     "name": "stdout",
     "output_type": "stream",
     "text": [
      "[0, 1, 2, 3]\n"
     ]
    }
   ],
   "source": [
    "queue = mp.Queue()\n",
    "[ queue.put(n) for n in range(4) ]\n",
    "state = [ queue.get() for n in range(4) ]\n",
    "print(state)"
   ]
  },
  {
   "cell_type": "code",
   "execution_count": 21,
   "metadata": {},
   "outputs": [],
   "source": [
    "def put(queue, n):\n",
    "    queue.put(n)\n",
    "    print('put {}'.format(n))"
   ]
  },
  {
   "cell_type": "code",
   "execution_count": 22,
   "metadata": {},
   "outputs": [],
   "source": [
    "def get(queue):\n",
    "    n = queue.get()\n",
    "    print('got {}'.format(n))\n",
    "    return n"
   ]
  },
  {
   "cell_type": "code",
   "execution_count": 6,
   "metadata": {},
   "outputs": [
    {
     "name": "stdout",
     "output_type": "stream",
     "text": [
      "9\n"
     ]
    }
   ],
   "source": [
    "queue = mp.Queue()\n",
    "\n",
    "process = mp.Process(target=put, \n",
    "                     args=(queue, 9))\n",
    "process.start()\n",
    "\n",
    "print(queue.get())\n",
    "process.join()"
   ]
  },
  {
   "cell_type": "code",
   "execution_count": 7,
   "metadata": {},
   "outputs": [
    {
     "name": "stdout",
     "output_type": "stream",
     "text": [
      "got 6\n"
     ]
    }
   ],
   "source": [
    "queue = mp.Queue()\n",
    "queue.put(6)\n",
    "\n",
    "process = mp.Process(target=get, \n",
    "                     args=(queue,))\n",
    "process.start()\n",
    "process.join()"
   ]
  },
  {
   "cell_type": "code",
   "execution_count": 15,
   "metadata": {},
   "outputs": [
    {
     "name": "stdout",
     "output_type": "stream",
     "text": [
      "[0, 1, 2, 3]\n"
     ]
    }
   ],
   "source": [
    "queue = mp.Queue()\n",
    "\n",
    "processes = {}\n",
    "\n",
    "nb_producers = 4\n",
    "processes['producers'] = [ mp.Process(target=put, args=(queue, n)) \n",
    "                           for n in range(nb_processes) ]\n",
    "\n",
    "[ process.start() for process in processes['producers'] ]\n",
    "[ process.join() for process in processes['producers'] ]\n",
    "results = [ queue.get() for process in processes['producers'] ]\n",
    "\n",
    "print(results)"
   ]
  },
  {
   "cell_type": "code",
   "execution_count": 23,
   "metadata": {},
   "outputs": [
    {
     "name": "stdout",
     "output_type": "stream",
     "text": [
      "got 0\n",
      "got 1\n",
      "got 2\n",
      "got 3\n",
      "finished\n"
     ]
    }
   ],
   "source": [
    "queue = mp.Queue()\n",
    "[ queue.put(n) for n in range(4) ]\n",
    "\n",
    "processes = {}\n",
    "\n",
    "nb_consumers = 4\n",
    "processes['consumers'] = [ mp.Process(target=get, args=(queue, )) \n",
    "                           for n in range(nb_processes) ]\n",
    "\n",
    "[ process.start() for process in processes['consumers'] ]\n",
    "[ process.join() for process in processes['consumers'] ]"
   ]
  },
  {
   "cell_type": "code",
   "execution_count": 31,
   "metadata": {},
   "outputs": [
    {
     "name": "stdout",
     "output_type": "stream",
     "text": [
      "put 0\n",
      "put 1\n",
      "put 2\n",
      "got 0\n",
      "got 1\n"
     ]
    },
    {
     "data": {
      "text/plain": [
       "[None, None]"
      ]
     },
     "execution_count": 31,
     "metadata": {},
     "output_type": "execute_result"
    }
   ],
   "source": [
    "queue = mp.Queue()\n",
    "\n",
    "processes = {}\n",
    "\n",
    "nb_producers = 3\n",
    "processes['producers'] = [ mp.Process(target=put, args=(queue, n)) \n",
    "                           for n in range(nb_producers) ]\n",
    "\n",
    "nb_consumers = 2\n",
    "processes['consumers'] = [ mp.Process(target=get, args=(queue, )) \n",
    "                           for n in range(nb_consumers) ]\n",
    "\n",
    "[ process.start() for process in processes['producers'] ]\n",
    "[ process.join() for process in processes['producers'] ]\n",
    "\n",
    "[ process.start() for process in processes['consumers'] ]\n",
    "[ process.join() for process in processes['consumers'] ]"
   ]
  },
  {
   "cell_type": "code",
   "execution_count": null,
   "metadata": {},
   "outputs": [],
   "source": [
    "queue = mp.Queue()\n",
    "\n",
    "processes = {}\n",
    "\n",
    "nb_producers = 3\n",
    "processes['producers'] = [ mp.Process(target=put, args=(queue, n)) \n",
    "                           for n in range(nb_producers) ]\n",
    "\n",
    "nb_consumers = 2\n",
    "processes['consumers'] = [ mp.Process(target=get, args=(queue, )) \n",
    "                           for n in range(nb_consumers) ]\n",
    "\n",
    "[ process.start() for process in processes['producers'] ]\n",
    "[ process.join() for process in processes['producers'] ]\n",
    "\n",
    "[ process.start() for process in processes['consumers'] ]\n",
    "[ process.join() for process in processes['consumers'] ]"
   ]
  },
  {
   "cell_type": "code",
   "execution_count": null,
   "metadata": {},
   "outputs": [],
   "source": [
    "# class process(object):\n",
    "    \n",
    "#     def __init__(self):\n",
    "    \n",
    "#         self.max = 4\n",
    "#         self.queue  = mp.Queue()\n",
    "#         self.pool      = mp.Pool(self.max)\n",
    "        \n",
    "#     def put(self, n):\n",
    "#         self.queue.put(n)\n",
    "#         print('put {}'.format(n))\n",
    "\n",
    "#     def get(self):\n",
    "#         n = self.queue.get()\n",
    "#         print('got {}'.format(n))\n",
    "#         return n\n",
    "    \n",
    "# # class consumer(object):\n",
    "\n",
    "# #     def get(self):\n",
    "# #         n = self.queue.get()\n",
    "# #         print('got {}'.format(n))\n",
    "# #         return n\n",
    "    \n",
    "# # class producer(object):\n",
    "        \n",
    "# #     def put(self, n):\n",
    "# #         self.queue.put(n)\n",
    "# #         print('put {}'.format(n))"
   ]
  },
  {
   "cell_type": "code",
   "execution_count": 52,
   "metadata": {},
   "outputs": [
    {
     "name": "stderr",
     "output_type": "stream",
     "text": [
      "DEBUG:root:38534 is ready\n",
      "DEBUG:root:38535 is ready\n",
      "DEBUG:root:38538 is ready\n",
      "DEBUG:root:inserting 0\n",
      "DEBUG:root:inserting 1\n",
      "DEBUG:root:inserting 2\n",
      "DEBUG:root:inserting 3\n",
      "DEBUG:root:inserting 4\n",
      "DEBUG:root:38549 got 0\n",
      "DEBUG:root:38549 got 1\n",
      "DEBUG:root:38549 got 3\n",
      "DEBUG:root:38549 got 2\n",
      "DEBUG:root:38549 got 4\n"
     ]
    }
   ],
   "source": [
    "# https://stackoverflow.com/questions/17241663/filling-a-queue-and-managing-multiprocessing-in-python\n",
    "# \n",
    "# This will spawn 3 processes (in addition of the parent process). Each child executes the worker_main function. It is a simple loop getting a new item from the queue on each iteration. Workers will block if nothing is ready to process.\n",
    "# \n",
    "# At startup all 3 process will sleep until the queue is fed with some data. When a data is available one of the waiting workers get that item and starts to process it. After that, it tries to get an other item from the queue, waiting again if nothing is available...\n",
    "\n",
    "\n",
    "def consume(queue_in, queue_out):\n",
    "    pid = os.getpid()\n",
    "    logging.debug(\"{} is ready\".format(pid))\n",
    "    while True:\n",
    "        item = queue_in.get(block=True)\n",
    "        # logging.debug(\"{} got {}\".format(pid, item))\n",
    "        queue_out.put(item)\n",
    "\n",
    "queue_in = mp.Queue()\n",
    "queue_out = mp.Queue()\n",
    "\n",
    "nb_consumers = 3\n",
    "pool = mp.Pool(nb_consumers, consume, (queue_in, queue_out))\n",
    "\n",
    "# time.sleep(3)\n",
    "\n",
    "nb_items = 5\n",
    "for item in range(nb_items):\n",
    "    logging.debug(\"inserting {}\".format(item))\n",
    "    queue_in.put(item)\n",
    "    \n",
    "# pool.close()\n",
    "# pool.join()\n",
    "\n",
    "\n",
    "\n",
    "def read(queue):\n",
    "    pid = os.getpid()\n",
    "    # logging.debug(\"{} waiting for an item\".format(pid))\n",
    "    while True:\n",
    "        item = queue.get(block=True)\n",
    "        logging.debug(\"{} got {}\".format(pid, item))\n",
    "\n",
    "process = mp.Process(target=read, \n",
    "                     args=(queue_out,))\n",
    "process.start()\n",
    "# process.join()"
   ]
  },
  {
   "cell_type": "code",
   "execution_count": 8,
   "metadata": {},
   "outputs": [
    {
     "name": "stderr",
     "output_type": "stream",
     "text": [
      "DEBUG:root:inserting 0\n",
      "DEBUG:root:inserting 1\n",
      "DEBUG:root:inserting 2\n",
      "DEBUG:root:inserting 3\n",
      "DEBUG:root:inserting 4\n",
      "DEBUG:root:51941 is ready\n",
      "DEBUG:root:51944 is ready\n",
      "DEBUG:root:51948 is ready\n",
      "DEBUG:root:51951 is ready\n",
      "DEBUG:root:51957 got 0\n",
      "DEBUG:root:51957 got 1\n",
      "DEBUG:root:51957 got 2\n",
      "DEBUG:root:51957 got 3\n",
      "DEBUG:root:51957 got 4\n"
     ]
    }
   ],
   "source": [
    "class example(object):\n",
    "    \n",
    "    def __init__(self):\n",
    "    \n",
    "        self.max = 4\n",
    "        self.queue_in  = mp.Queue()\n",
    "        self.queue_out = mp.Queue()\n",
    "        self.pool      = None # mp.Pool(processes=self.max)\n",
    "        self.process   = mp.Process(target=self.read)\n",
    "        \n",
    "    def start(self):\n",
    "        \n",
    "        # self.pool.map(self.consume)\n",
    "        self.pool = mp.Pool(processes=self.max, initializer=self.consume)\n",
    "        self.process.start()\n",
    "        \n",
    "    def fill(self, nb_items):\n",
    "        \n",
    "        for item in range(nb_items):\n",
    "            logging.debug(\"inserting {}\".format(item))\n",
    "            self.queue_in.put(item)\n",
    "        \n",
    "    def consume(self):\n",
    "        pid = os.getpid()\n",
    "        logging.debug(\"{} is ready\".format(pid))\n",
    "        while True:\n",
    "            item = self.queue_in.get(block=True)\n",
    "            # logging.debug(\"{} got {}\".format(pid, item))\n",
    "            self.queue_out.put(item)\n",
    "            \n",
    "    def read(self):\n",
    "        pid = os.getpid()\n",
    "        # logging.debug(\"{} waiting for an item\".format(pid))\n",
    "        while True:\n",
    "            item = self.queue_out.get(block=True)\n",
    "            logging.debug(\"{} got {}\".format(pid, item))\n",
    "            \n",
    "\n",
    "e = example()\n",
    "e.fill(nb_items=5)\n",
    "e.start()"
   ]
  },
  {
   "cell_type": "markdown",
   "metadata": {},
   "source": [
    "# `Manager()`"
   ]
  },
  {
   "cell_type": "markdown",
   "metadata": {},
   "source": [
    "https://pymotw.com/2/multiprocessing/communication.html"
   ]
  },
  {
   "cell_type": "code",
   "execution_count": null,
   "metadata": {},
   "outputs": [],
   "source": [
    "def worker(d, key, value):\n",
    "    d[key] = value\n",
    "\n",
    "\n",
    "mgr = mp.Manager()\n",
    "d = mgr.dict()\n",
    "num_processes = 4\n",
    "processes = [ mp.Process(target=worker, \n",
    "                         args=(d, i, i*2))\n",
    "              for i in range(num_processes)\n",
    "            ]\n",
    "for process in processes:\n",
    "    process.start()\n",
    "    \n",
    "for process in processes:\n",
    "    process.join()\n",
    "\n",
    "print(d)"
   ]
  },
  {
   "cell_type": "code",
   "execution_count": null,
   "metadata": {},
   "outputs": [],
   "source": []
  }
 ],
 "metadata": {
  "kernelspec": {
   "display_name": "Python 3 (ipykernel)",
   "language": "python",
   "name": "python3"
  },
  "language_info": {
   "codemirror_mode": {
    "name": "ipython",
    "version": 3
   },
   "file_extension": ".py",
   "mimetype": "text/x-python",
   "name": "python",
   "nbconvert_exporter": "python",
   "pygments_lexer": "ipython3",
   "version": "3.9.7"
  }
 },
 "nbformat": 4,
 "nbformat_minor": 4
}
