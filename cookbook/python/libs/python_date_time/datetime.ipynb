{
 "cells": [
  {
   "cell_type": "code",
   "execution_count": 1,
   "id": "c49b5467-6825-4b05-acd4-25bda62b0c04",
   "metadata": {},
   "outputs": [],
   "source": [
    "from datetime import datetime\n",
    "from pytz import timezone"
   ]
  },
  {
   "cell_type": "code",
   "execution_count": 2,
   "id": "505a99d5-2bc9-435f-b2aa-9611534b8a84",
   "metadata": {},
   "outputs": [
    {
     "data": {
      "text/plain": [
       "'2022-03-08T17:00:49.982956+01:00'"
      ]
     },
     "execution_count": 2,
     "metadata": {},
     "output_type": "execute_result"
    }
   ],
   "source": [
    "time_zone = timezone('Europe/Stockholm')\n",
    "datetime.now(time_zone).isoformat()"
   ]
  },
  {
   "cell_type": "code",
   "execution_count": null,
   "id": "156df44f-44f8-4ac8-8c40-09c9f40dd995",
   "metadata": {},
   "outputs": [],
   "source": []
  }
 ],
 "metadata": {
  "kernelspec": {
   "display_name": "Python 3 (ipykernel)",
   "language": "python",
   "name": "python3"
  },
  "language_info": {
   "codemirror_mode": {
    "name": "ipython",
    "version": 3
   },
   "file_extension": ".py",
   "mimetype": "text/x-python",
   "name": "python",
   "nbconvert_exporter": "python",
   "pygments_lexer": "ipython3",
   "version": "3.9.7"
  }
 },
 "nbformat": 4,
 "nbformat_minor": 5
}
