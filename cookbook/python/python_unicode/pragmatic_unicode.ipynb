{
 "cells": [
  {
   "cell_type": "markdown",
   "metadata": {},
   "source": [
    "usefull link to help deal with unicode characters in python: https://nedbatchelder.com/text/unipain.html"
   ]
  },
  {
   "cell_type": "code",
   "execution_count": 2,
   "metadata": {
    "collapsed": false
   },
   "outputs": [
    {
     "data": {
      "image/jpeg": "[encoded data removed]",
      "text/html": [
       "\n",
       "        <iframe\n",
       "            width=\"400\"\n",
       "            height=\"300\"\n",
       "            src=\"https://www.youtube.com/embed/sgHbC6udIqc\"\n",
       "            frameborder=\"0\"\n",
       "            allowfullscreen\n",
       "        ></iframe>\n",
       "        "
      ],
      "text/plain": [
       "<IPython.lib.display.YouTubeVideo at 0x7fe5789711d0>"
      ]
     },
     "execution_count": 2,
     "metadata": {},
     "output_type": "execute_result"
    }
   ],
   "source": [
    "from IPython.display import YouTubeVideo\n",
    "YouTubeVideo(\"sgHbC6udIqc\")"
   ]
  },
  {
   "cell_type": "markdown",
   "metadata": {},
   "source": [
    "# Python 2"
   ]
  },
  {
   "cell_type": "markdown",
   "metadata": {},
   "source": [
    "# String Datatypes"
   ]
  },
  {
   "cell_type": "code",
   "execution_count": 23,
   "metadata": {
    "collapsed": false
   },
   "outputs": [
    {
     "name": "stdout",
     "output_type": "stream",
     "text": [
      "<type 'str'>\n",
      "3\n",
      "abc\n"
     ]
    },
    {
     "data": {
      "text/plain": [
       "'abc'"
      ]
     },
     "execution_count": 23,
     "metadata": {},
     "output_type": "execute_result"
    }
   ],
   "source": [
    "my_string = \"abc\"\n",
    "\n",
    "assert(isinstance(my_string, str))\n",
    "print type(my_string)\n",
    "print len(my_string)\n",
    "print(my_string)\n",
    "my_string"
   ]
  },
  {
   "cell_type": "code",
   "execution_count": 24,
   "metadata": {
    "collapsed": false
   },
   "outputs": [
    {
     "name": "stdout",
     "output_type": "stream",
     "text": [
      "<type 'unicode'>\n",
      "10\n",
      "abc ℙƴ☂ℌøἤ\n"
     ]
    },
    {
     "data": {
      "text/plain": [
       "u'abc \\u2119\\u01b4\\u2602\\u210c\\xf8\\u1f24'"
      ]
     },
     "execution_count": 24,
     "metadata": {},
     "output_type": "execute_result"
    }
   ],
   "source": [
    "my_unicode = u\"abc \\u2119\\u01b4\\u2602\\u210c\\xf8\\u1f24\" # code points\n",
    "\n",
    "assert(isinstance(my_unicode, unicode))\n",
    "print type(my_unicode)\n",
    "print len(my_unicode)\n",
    "print(my_unicode)\n",
    "my_unicode"
   ]
  },
  {
   "cell_type": "markdown",
   "metadata": {},
   "source": [
    "# Convertions"
   ]
  },
  {
   "cell_type": "markdown",
   "metadata": {},
   "source": [
    "encode"
   ]
  },
  {
   "cell_type": "code",
   "execution_count": 19,
   "metadata": {
    "collapsed": false
   },
   "outputs": [
    {
     "name": "stdout",
     "output_type": "stream",
     "text": [
      "20\n",
      "abc ℙƴ☂ℌøἤ\n"
     ]
    },
    {
     "data": {
      "text/plain": [
       "'abc \\xe2\\x84\\x99\\xc6\\xb4\\xe2\\x98\\x82\\xe2\\x84\\x8c\\xc3\\xb8\\xe1\\xbc\\xa4'"
      ]
     },
     "execution_count": 19,
     "metadata": {},
     "output_type": "execute_result"
    }
   ],
   "source": [
    "my_utf8 = my_unicode.encode(\"utf-8\") #('unicode_escape')\n",
    "print len(my_utf8)\n",
    "print(my_utf8)\n",
    "my_utf8"
   ]
  },
  {
   "cell_type": "markdown",
   "metadata": {},
   "source": [
    "decode"
   ]
  },
  {
   "cell_type": "code",
   "execution_count": 25,
   "metadata": {
    "collapsed": false
   },
   "outputs": [
    {
     "name": "stdout",
     "output_type": "stream",
     "text": [
      "abc ℙƴ☂ℌøἤ\n"
     ]
    },
    {
     "data": {
      "text/plain": [
       "u'abc \\u2119\\u01b4\\u2602\\u210c\\xf8\\u1f24'"
      ]
     },
     "execution_count": 25,
     "metadata": {},
     "output_type": "execute_result"
    }
   ],
   "source": [
    "print(my_utf8.decode(\"utf-8\"))\n",
    "my_utf8.decode(\"utf-8\")"
   ]
  },
  {
   "cell_type": "markdown",
   "metadata": {},
   "source": [
    "# Misc"
   ]
  },
  {
   "cell_type": "code",
   "execution_count": null,
   "metadata": {
    "collapsed": true
   },
   "outputs": [],
   "source": [
    "data = open(\"../data/TestData.json\", \"r\").read() #reads as ascii\n",
    "#data = codecs.open(\"../data/TestData.json\", \"r\", \"utf-8\").read() #reads as unicode"
   ]
  },
  {
   "cell_type": "code",
   "execution_count": null,
   "metadata": {
    "collapsed": true
   },
   "outputs": [],
   "source": [
    "input_file  = file(\"../data/TestData.json\", \"r\")\n",
    "\n",
    "# read the file and decode possible UTF-8 signature at the beginning\n",
    "# which can be the case in some files.\n",
    "j = json.loads(input_file.read().decode(\"utf-8\"))\n",
    "j[\"TestData\"][\"TestData_02085\"][\"bodyText\"].decode('unicode_escape')"
   ]
  }
 ],
 "metadata": {
  "kernelspec": {
   "display_name": "Python 2",
   "language": "python",
   "name": "python2"
  },
  "language_info": {
   "codemirror_mode": {
    "name": "ipython",
    "version": 2
   },
   "file_extension": ".py",
   "mimetype": "text/x-python",
   "name": "python",
   "nbconvert_exporter": "python",
   "pygments_lexer": "ipython2",
   "version": "2.7.9"
  }
 },
 "nbformat": 4,
 "nbformat_minor": 0
}
