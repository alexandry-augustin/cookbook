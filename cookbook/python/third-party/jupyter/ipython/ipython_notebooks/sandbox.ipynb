{
 "cells": [
  {
   "cell_type": "code",
   "execution_count": 1,
   "metadata": {
    "collapsed": true
   },
   "outputs": [],
   "source": [
    "import math"
   ]
  },
  {
   "cell_type": "code",
   "execution_count": 17,
   "metadata": {
    "collapsed": false
   },
   "outputs": [
    {
     "name": "stdout",
     "output_type": "stream",
     "text": [
      "7.0\n",
      "6.0\n",
      "7.0\n",
      "6.7\n"
     ]
    }
   ],
   "source": [
    "f=6.69\n",
    "print math.ceil(f)\n",
    "print math.floor(f)\n",
    "print round(f)\n",
    "print \"%.1f\"%f"
   ]
  },
  {
   "cell_type": "code",
   "execution_count": 20,
   "metadata": {
    "collapsed": false
   },
   "outputs": [
    {
     "name": "stdout",
     "output_type": "stream",
     "text": [
      "set(['cd', 'ab', 'bc'])\n",
      "set(['ab', 'bc'])\n",
      "set(['ab', 'bc', 'cd'])\n"
     ]
    }
   ],
   "source": [
    "l=set([\"ab\", \"bc\", \"cd\", \"ab\"])\n",
    "\n",
    "\n",
    "ex=set([\"ab\", \"bc\"])\n",
    "\n",
    "print l\n",
    "print ex\n",
    "\n",
    "print l.difference(set(\"ab\"))\n",
    "\n",
    "#l=[\"ab\", \"bc\", \"cd\", \"ab\"]\n",
    "#ex=set()\n",
    "#ex.update([\"ab\"])\n",
    "#ret=list()\n",
    "#for i in l:\n",
    "#    for j in ex:\n",
    "#        if i!=j:\n",
    "#            ret.append()"
   ]
  },
  {
   "cell_type": "code",
   "execution_count": null,
   "metadata": {
    "collapsed": true
   },
   "outputs": [],
   "source": []
  }
 ],
 "metadata": {
  "kernelspec": {
   "display_name": "Python 2",
   "language": "python",
   "name": "python2"
  },
  "language_info": {
   "codemirror_mode": {
    "name": "ipython",
    "version": 2
   },
   "file_extension": ".py",
   "mimetype": "text/x-python",
   "name": "python",
   "nbconvert_exporter": "python",
   "pygments_lexer": "ipython2",
   "version": "2.7.9"
  }
 },
 "nbformat": 4,
 "nbformat_minor": 0
}
