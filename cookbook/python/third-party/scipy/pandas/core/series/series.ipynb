{
 "cells": [
  {
   "cell_type": "markdown",
   "id": "79b46904-2154-48c5-90d5-79abc80df9fe",
   "metadata": {},
   "source": [
    "# Series"
   ]
  },
  {
   "cell_type": "markdown",
   "id": "2862f1a9-db47-4ff8-9578-0b5233a0e06a",
   "metadata": {},
   "source": [
    "NOTE: Selecting a single column from the DataFrame will return a Series object."
   ]
  },
  {
   "cell_type": "code",
   "execution_count": 1,
   "id": "89a0a664-4b76-408b-a982-e6ff6ac3877f",
   "metadata": {},
   "outputs": [],
   "source": [
    "import pandas as pd"
   ]
  },
  {
   "cell_type": "markdown",
   "id": "1f5d87f7-d5d7-45ae-b678-83afcd20248a",
   "metadata": {},
   "source": [
    "construction"
   ]
  },
  {
   "cell_type": "code",
   "execution_count": 2,
   "id": "e9b7ba9b-1dd1-42bb-bfd3-39f0adc6f606",
   "metadata": {},
   "outputs": [],
   "source": [
    "data = pd.Series([\"Paris\", \"London\", 8630000, 2244000])"
   ]
  },
  {
   "cell_type": "code",
   "execution_count": 3,
   "id": "eea78b58-0644-4575-b6f7-8fc076ff2d25",
   "metadata": {},
   "outputs": [
    {
     "data": {
      "text/plain": [
       "2    8630000\n",
       "3    2244000\n",
       "dtype: object"
      ]
     },
     "execution_count": 3,
     "metadata": {},
     "output_type": "execute_result"
    }
   ],
   "source": [
    "data[2:4]\n",
    "# data[data > 2]"
   ]
  },
  {
   "cell_type": "code",
   "execution_count": 4,
   "id": "7f785a0e-0c33-4f18-9f3c-9d8add33b9ae",
   "metadata": {},
   "outputs": [],
   "source": [
    "dic = {\n",
    "    \"Paris\":2244000, \n",
    "    \"London\":8630000\n",
    "}\n",
    "data = pd.Series(dic)"
   ]
  },
  {
   "cell_type": "code",
   "execution_count": 5,
   "id": "dcf7c153-5b4f-429c-8862-d58a1567eb0d",
   "metadata": {},
   "outputs": [
    {
     "data": {
      "text/plain": [
       "Paris     2244000\n",
       "London    8630000\n",
       "dtype: int64"
      ]
     },
     "execution_count": 5,
     "metadata": {},
     "output_type": "execute_result"
    }
   ],
   "source": [
    "data"
   ]
  },
  {
   "cell_type": "markdown",
   "id": "2e011289-f1dd-4035-b490-7e4b15cdc41d",
   "metadata": {},
   "source": [
    "`shift()`"
   ]
  },
  {
   "cell_type": "code",
   "execution_count": 6,
   "id": "d5c1a71c-6dc1-4568-866a-22a7a0367719",
   "metadata": {},
   "outputs": [],
   "source": [
    "s = pd.Series(data=range(5, 10), dtype=int)"
   ]
  },
  {
   "cell_type": "code",
   "execution_count": 7,
   "id": "a9f027fb-9a28-484d-8dcd-2a777eacee1d",
   "metadata": {},
   "outputs": [
    {
     "data": {
      "text/plain": [
       "0    5\n",
       "1    6\n",
       "2    7\n",
       "3    8\n",
       "4    9\n",
       "dtype: int64"
      ]
     },
     "execution_count": 7,
     "metadata": {},
     "output_type": "execute_result"
    }
   ],
   "source": [
    "s"
   ]
  },
  {
   "cell_type": "code",
   "execution_count": 8,
   "id": "dc0bc0ac-9334-4ce5-a1c7-0a767f0f0d2b",
   "metadata": {},
   "outputs": [
    {
     "data": {
      "text/plain": [
       "0    0\n",
       "1    5\n",
       "2    6\n",
       "3    7\n",
       "4    8\n",
       "dtype: int64"
      ]
     },
     "execution_count": 8,
     "metadata": {},
     "output_type": "execute_result"
    }
   ],
   "source": [
    "s.shift(fill_value=0)"
   ]
  },
  {
   "cell_type": "markdown",
   "id": "aab526fa-278d-4e68-9fd9-6c71ef93cda5",
   "metadata": {},
   "source": [
    "`subtract()`"
   ]
  },
  {
   "cell_type": "code",
   "execution_count": 9,
   "id": "95bea9b9-833a-4af3-ad3d-8b8ce0301f2b",
   "metadata": {},
   "outputs": [],
   "source": [
    "s = pd.Series(index=range(5), data=2)\n",
    "t = pd.Series(index=range(2,4), data=2)"
   ]
  },
  {
   "cell_type": "code",
   "execution_count": 10,
   "id": "3341d839-52bf-4f67-af5b-debfa6196080",
   "metadata": {},
   "outputs": [
    {
     "data": {
      "text/plain": [
       "0    2\n",
       "1    2\n",
       "2    2\n",
       "3    2\n",
       "4    2\n",
       "dtype: int64"
      ]
     },
     "execution_count": 10,
     "metadata": {},
     "output_type": "execute_result"
    }
   ],
   "source": [
    "s"
   ]
  },
  {
   "cell_type": "code",
   "execution_count": 11,
   "id": "1a9b330e-1d67-4ff2-b865-0b681f4cd209",
   "metadata": {},
   "outputs": [
    {
     "data": {
      "text/plain": [
       "2    2\n",
       "3    2\n",
       "dtype: int64"
      ]
     },
     "execution_count": 11,
     "metadata": {},
     "output_type": "execute_result"
    }
   ],
   "source": [
    "t"
   ]
  },
  {
   "cell_type": "code",
   "execution_count": 12,
   "id": "bfe42207-4104-4d28-838e-8293fde307ac",
   "metadata": {},
   "outputs": [
    {
     "data": {
      "text/plain": [
       "0    NaN\n",
       "1    NaN\n",
       "2    0.0\n",
       "3    0.0\n",
       "4    NaN\n",
       "dtype: float64"
      ]
     },
     "execution_count": 12,
     "metadata": {},
     "output_type": "execute_result"
    }
   ],
   "source": [
    "s.subtract(t) #, fill_value=s)"
   ]
  },
  {
   "cell_type": "code",
   "execution_count": 13,
   "id": "56580acf-2f07-462f-b55e-ec75bf1d6a33",
   "metadata": {},
   "outputs": [],
   "source": [
    "# s = pd.Series(index=[2, 4], data=[5,6])\n",
    "# f = pd.Series(index=range(10), data=99)\n",
    "# a = s.add(f)#, fill_value=0)"
   ]
  }
 ],
 "metadata": {
  "kernelspec": {
   "display_name": "Python 3 (ipykernel)",
   "language": "python",
   "name": "python3"
  },
  "language_info": {
   "codemirror_mode": {
    "name": "ipython",
    "version": 3
   },
   "file_extension": ".py",
   "mimetype": "text/x-python",
   "name": "python",
   "nbconvert_exporter": "python",
   "pygments_lexer": "ipython3",
   "version": "3.11.4"
  }
 },
 "nbformat": 4,
 "nbformat_minor": 5
}
