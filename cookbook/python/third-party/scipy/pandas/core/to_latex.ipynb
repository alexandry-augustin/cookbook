{
 "cells": [
  {
   "cell_type": "code",
   "execution_count": 1,
   "id": "acb405e3-edbd-4895-aaa3-4bc0155dd076",
   "metadata": {},
   "outputs": [],
   "source": [
    "import pandas as pd"
   ]
  },
  {
   "cell_type": "code",
   "execution_count": 2,
   "id": "c6d45413-b677-418d-9d73-a77c4569da5c",
   "metadata": {},
   "outputs": [],
   "source": [
    "data=pd.read_csv(\"../../datasets/data.csv\", sep=\",\")"
   ]
  },
  {
   "cell_type": "code",
   "execution_count": 4,
   "id": "252c7279-e3c2-4f51-ada5-7154ebe76a5c",
   "metadata": {},
   "outputs": [],
   "source": [
    "# data.to_latex()"
   ]
  },
  {
   "cell_type": "code",
   "execution_count": 5,
   "id": "2d0fc7ed-b1e0-4213-8630-27473ac1d259",
   "metadata": {},
   "outputs": [
    {
     "data": {
      "text/plain": [
       "1808"
      ]
     },
     "execution_count": 5,
     "metadata": {},
     "output_type": "execute_result"
    }
   ],
   "source": [
    "f=open(\"./tmp/out.tex\", \"w\")\n",
    "f.write(data.to_latex(index=False, longtable=True)) # no row index"
   ]
  }
 ],
 "metadata": {
  "kernelspec": {
   "display_name": "Python 3 (ipykernel)",
   "language": "python",
   "name": "python3"
  },
  "language_info": {
   "codemirror_mode": {
    "name": "ipython",
    "version": 3
   },
   "file_extension": ".py",
   "mimetype": "text/x-python",
   "name": "python",
   "nbconvert_exporter": "python",
   "pygments_lexer": "ipython3",
   "version": "3.11.4"
  }
 },
 "nbformat": 4,
 "nbformat_minor": 5
}
