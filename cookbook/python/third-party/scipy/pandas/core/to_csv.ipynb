{
 "cells": [
  {
   "cell_type": "code",
   "execution_count": 1,
   "id": "1880fa9e-c18c-4c93-b224-6bff0a606334",
   "metadata": {},
   "outputs": [],
   "source": [
    "import pandas as pd"
   ]
  },
  {
   "cell_type": "code",
   "execution_count": 4,
   "id": "691c475e-b02b-477f-af05-248676aaee47",
   "metadata": {},
   "outputs": [],
   "source": [
    "data = pd.read_csv('../../datasets/data.csv', sep=',') #, dtype={'rating': np.float32}"
   ]
  },
  {
   "cell_type": "code",
   "execution_count": 5,
   "id": "8ec10426-44cc-41a0-9804-12be9374e687",
   "metadata": {},
   "outputs": [],
   "source": [
    "data.to_csv('/tmp/out.csv', sep=',', index=False)#, columns=['']) # no write row index/name"
   ]
  },
  {
   "cell_type": "code",
   "execution_count": null,
   "id": "20c387b9-4153-4387-90c8-4ee71939f0e4",
   "metadata": {},
   "outputs": [],
   "source": []
  }
 ],
 "metadata": {
  "kernelspec": {
   "display_name": "Python 3 (ipykernel)",
   "language": "python",
   "name": "python3"
  },
  "language_info": {
   "codemirror_mode": {
    "name": "ipython",
    "version": 3
   },
   "file_extension": ".py",
   "mimetype": "text/x-python",
   "name": "python",
   "nbconvert_exporter": "python",
   "pygments_lexer": "ipython3",
   "version": "3.11.4"
  }
 },
 "nbformat": 4,
 "nbformat_minor": 5
}
