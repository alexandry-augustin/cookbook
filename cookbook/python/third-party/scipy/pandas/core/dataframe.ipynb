{
 "cells": [
  {
   "cell_type": "code",
   "execution_count": 4,
   "id": "82ac836a-e693-4a57-b03d-d60157de7b1f",
   "metadata": {},
   "outputs": [],
   "source": [
    "import pandas as pd\n",
    "import numpy as np"
   ]
  },
  {
   "cell_type": "code",
   "execution_count": 2,
   "id": "3e08e531-ea05-44b3-a279-869033770167",
   "metadata": {},
   "outputs": [
    {
     "name": "stdout",
     "output_type": "stream",
     "text": [
      "['City', 'Inhabitants', 'Union']\n",
      "[2244000 8630000]\n",
      "2\n",
      "     City  Inhabitants\n",
      "0   Paris      2244000\n",
      "1  London      8630000\n",
      "2   Paris      2244000\n"
     ]
    },
    {
     "ename": "AttributeError",
     "evalue": "'DataFrame' object has no attribute 'append'",
     "output_type": "error",
     "traceback": [
      "\u001b[0;31m---------------------------------------------------------------------------\u001b[0m",
      "\u001b[0;31mAttributeError\u001b[0m                            Traceback (most recent call last)",
      "\u001b[0;32m/tmp/ipykernel_145588/1143498288.py\u001b[0m in \u001b[0;36m?\u001b[0;34m()\u001b[0m\n\u001b[1;32m     46\u001b[0m         \u001b[0;31m# append new row\u001b[0m\u001b[0;34m\u001b[0m\u001b[0;34m\u001b[0m\u001b[0m\n\u001b[1;32m     47\u001b[0m         \u001b[0;31m#--------------------------------------------------\u001b[0m\u001b[0;34m\u001b[0m\u001b[0;34m\u001b[0m\u001b[0m\n\u001b[1;32m     48\u001b[0m         \u001b[0mdf\u001b[0m \u001b[0;34m=\u001b[0m \u001b[0mpd\u001b[0m\u001b[0;34m.\u001b[0m\u001b[0mDataFrame\u001b[0m\u001b[0;34m(\u001b[0m\u001b[0;34m[\u001b[0m\u001b[0;34m[\u001b[0m\u001b[0;36m1\u001b[0m\u001b[0;34m,\u001b[0m \u001b[0;36m2\u001b[0m\u001b[0;34m]\u001b[0m\u001b[0;34m,\u001b[0m \u001b[0;34m[\u001b[0m\u001b[0;36m3\u001b[0m\u001b[0;34m,\u001b[0m \u001b[0;36m4\u001b[0m\u001b[0;34m]\u001b[0m\u001b[0;34m]\u001b[0m\u001b[0;34m,\u001b[0m \u001b[0mcolumns\u001b[0m\u001b[0;34m=\u001b[0m\u001b[0;34m[\u001b[0m \u001b[0;34m'A'\u001b[0m\u001b[0;34m,\u001b[0m \u001b[0;34m'B'\u001b[0m \u001b[0;34m]\u001b[0m\u001b[0;34m)\u001b[0m\u001b[0;34m\u001b[0m\u001b[0;34m\u001b[0m\u001b[0m\n\u001b[1;32m     49\u001b[0m         \u001b[0mdf2\u001b[0m \u001b[0;34m=\u001b[0m \u001b[0mpd\u001b[0m\u001b[0;34m.\u001b[0m\u001b[0mDataFrame\u001b[0m\u001b[0;34m(\u001b[0m\u001b[0;34m[\u001b[0m\u001b[0;34m[\u001b[0m\u001b[0;36m5\u001b[0m\u001b[0;34m,\u001b[0m \u001b[0;36m6\u001b[0m\u001b[0;34m]\u001b[0m\u001b[0;34m,\u001b[0m \u001b[0;34m[\u001b[0m\u001b[0;36m7\u001b[0m\u001b[0;34m,\u001b[0m \u001b[0;36m8\u001b[0m\u001b[0;34m]\u001b[0m\u001b[0;34m]\u001b[0m\u001b[0;34m,\u001b[0m \u001b[0mcolumns\u001b[0m\u001b[0;34m=\u001b[0m\u001b[0;34m[\u001b[0m \u001b[0;34m'A'\u001b[0m\u001b[0;34m,\u001b[0m \u001b[0;34m'B'\u001b[0m \u001b[0;34m]\u001b[0m\u001b[0;34m)\u001b[0m\u001b[0;34m\u001b[0m\u001b[0;34m\u001b[0m\u001b[0m\n\u001b[0;32m---> 50\u001b[0;31m         \u001b[0mdf\u001b[0m \u001b[0;34m=\u001b[0m \u001b[0mdf\u001b[0m\u001b[0;34m.\u001b[0m\u001b[0mappend\u001b[0m\u001b[0;34m(\u001b[0m\u001b[0mdf2\u001b[0m\u001b[0;34m)\u001b[0m\u001b[0;34m\u001b[0m\u001b[0;34m\u001b[0m\u001b[0m\n\u001b[0m\u001b[1;32m     51\u001b[0m         \u001b[0;31m#print df\u001b[0m\u001b[0;34m\u001b[0m\u001b[0;34m\u001b[0m\u001b[0m\n\u001b[1;32m     52\u001b[0m         \u001b[0;31m# A  B\u001b[0m\u001b[0;34m\u001b[0m\u001b[0;34m\u001b[0m\u001b[0m\n\u001b[1;32m     53\u001b[0m         \u001b[0;31m# 1  2\u001b[0m\u001b[0;34m\u001b[0m\u001b[0;34m\u001b[0m\u001b[0m\n",
      "\u001b[0;32m~/.venv/global/lib64/python3.11/site-packages/pandas/core/generic.py\u001b[0m in \u001b[0;36m?\u001b[0;34m(self, name)\u001b[0m\n\u001b[1;32m   5985\u001b[0m             \u001b[0;32mand\u001b[0m \u001b[0mname\u001b[0m \u001b[0;32mnot\u001b[0m \u001b[0;32min\u001b[0m \u001b[0mself\u001b[0m\u001b[0;34m.\u001b[0m\u001b[0m_accessors\u001b[0m\u001b[0;34m\u001b[0m\u001b[0;34m\u001b[0m\u001b[0m\n\u001b[1;32m   5986\u001b[0m             \u001b[0;32mand\u001b[0m \u001b[0mself\u001b[0m\u001b[0;34m.\u001b[0m\u001b[0m_info_axis\u001b[0m\u001b[0;34m.\u001b[0m\u001b[0m_can_hold_identifiers_and_holds_name\u001b[0m\u001b[0;34m(\u001b[0m\u001b[0mname\u001b[0m\u001b[0;34m)\u001b[0m\u001b[0;34m\u001b[0m\u001b[0;34m\u001b[0m\u001b[0m\n\u001b[1;32m   5987\u001b[0m         ):\n\u001b[1;32m   5988\u001b[0m             \u001b[0;32mreturn\u001b[0m \u001b[0mself\u001b[0m\u001b[0;34m[\u001b[0m\u001b[0mname\u001b[0m\u001b[0;34m]\u001b[0m\u001b[0;34m\u001b[0m\u001b[0;34m\u001b[0m\u001b[0m\n\u001b[0;32m-> 5989\u001b[0;31m         \u001b[0;32mreturn\u001b[0m \u001b[0mobject\u001b[0m\u001b[0;34m.\u001b[0m\u001b[0m__getattribute__\u001b[0m\u001b[0;34m(\u001b[0m\u001b[0mself\u001b[0m\u001b[0;34m,\u001b[0m \u001b[0mname\u001b[0m\u001b[0;34m)\u001b[0m\u001b[0;34m\u001b[0m\u001b[0;34m\u001b[0m\u001b[0m\n\u001b[0m",
      "\u001b[0;31mAttributeError\u001b[0m: 'DataFrame' object has no attribute 'append'"
     ]
    }
   ],
   "source": [
    "\tdata = pd.read_csv(\"../../datasets/cities.csv\", sep=\";\")\n",
    "\t#--------------------------------------------------\n",
    "\t# get fields' header\n",
    "\t#--------------------------------------------------\n",
    "\tprint(list(data.columns.values))\n",
    "\t#--------------------------------------------------\n",
    "\t# print list(data.columns.values) # get column names\n",
    "\t#--------------------------------------------------\n",
    "\t# unique\n",
    "\t#--------------------------------------------------\n",
    "\tprint(data.Inhabitants.unique()) # array of unique values\n",
    "\tprint(data.Inhabitants.nunique()) # number of unique elements\n",
    "\t#--------------------------------------------------\n",
    "\t# remove constant columns\n",
    "\t#--------------------------------------------------\n",
    "\t# print(data.loc[:, (data!=data.ix[0]).any()]) # FIXME .ix is deprecated https://stackoverflow.com/questions/59991397/attributeerror-dataframe-object-has-no-attribute-ix\n",
    "\tprint(data.loc[:, data.apply(pd.Series.nunique)!=1])\n",
    "\n",
    "#\tprint(data)\n",
    "#\tprint(data[\"City\"])\n",
    "\n",
    "#\tprint(data.mean())\n",
    "#\tprint(data.std() # unbiased: =1/(n-1)*sum())\n",
    "\n",
    "#\tprint(data.City)\n",
    "#\tprint(data.City.value_counts()) #return list of unique element with their frequency\n",
    "#\tprint(np.unique(data.City.values))\n",
    "\t#--------------------------------------------------\n",
    "\t# Apply to each element\n",
    "\t#--------------------------------------------------\n",
    "\tdf = pd.DataFrame({ \"A\": [1, 2] })\n",
    "\tdf[\"A\"] = df[\"A\"].apply(np.sqrt)\n",
    "\n",
    "\tdf = pd.DataFrame({\"A\":[1.398, 2.857]})\n",
    "\tdf[\"A\"] = df[\"A\"].apply(lambda x: float(\"%.1f\"%x))\n",
    "\t#--------------------------------------------------\n",
    "\t# as_matrix()\n",
    "\t#--------------------------------------------------\n",
    "\t# print data.as_matrix()\n",
    "\t#--------------------------------------------------\n",
    "\t# append new row\n",
    "\t#--------------------------------------------------\n",
    "\tdf = pd.DataFrame([[1, 2], [3, 4]], columns=[ 'A', 'B' ])\n",
    "\tdf2 = pd.DataFrame([[5, 6], [7, 8]], columns=[ 'A', 'B' ])\n",
    "\tdf = df.append(df2)\n",
    "\t#print df\n",
    "\t# A  B\n",
    "\t# 1  2\n",
    "\t# 3  4\n",
    "\t# 5  6\n",
    "\t# 7  8\n",
    "\t# pd.concate([df, df2])\n",
    "\t#--------------------------------------------------\n",
    "\t# append new column\n",
    "\t#--------------------------------------------------\n",
    "\tdf = pd.DataFrame([[1, 2], [3, 4]], columns=[ 'A', 'B' ])\n",
    "\tdf[\"A-B\"] = pd.DataFrame(df[\"B\"]-df[\"A\"])\n",
    "\tprint(df)\n",
    "\t# pd.concate([df, df2], axis=1)\n",
    "\t#--------------------------------------------------\n",
    "\t# check if column exist\n",
    "\t#--------------------------------------------------\n",
    "\tif 'A' in df.columns:\n",
    "\t# or\n",
    "\t#if 'A' in df:\n",
    "\t\tpass"
   ]
  },
  {
   "cell_type": "code",
   "execution_count": null,
   "id": "53cc0454-10ef-4e85-b172-bdf0a3ffa015",
   "metadata": {},
   "outputs": [],
   "source": []
  }
 ],
 "metadata": {
  "kernelspec": {
   "display_name": "Python 3 (ipykernel)",
   "language": "python",
   "name": "python3"
  },
  "language_info": {
   "codemirror_mode": {
    "name": "ipython",
    "version": 3
   },
   "file_extension": ".py",
   "mimetype": "text/x-python",
   "name": "python",
   "nbconvert_exporter": "python",
   "pygments_lexer": "ipython3",
   "version": "3.11.4"
  }
 },
 "nbformat": 4,
 "nbformat_minor": 5
}
