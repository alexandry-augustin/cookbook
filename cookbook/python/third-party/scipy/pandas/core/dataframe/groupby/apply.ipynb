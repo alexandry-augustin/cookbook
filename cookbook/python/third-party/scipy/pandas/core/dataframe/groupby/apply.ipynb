{
 "cells": [
  {
   "cell_type": "markdown",
   "id": "06e83417-0a8c-49a3-984b-44ba5863bb33",
   "metadata": {},
   "source": [
    "# `apply()`"
   ]
  },
  {
   "cell_type": "code",
   "execution_count": 8,
   "id": "979f05ce-888e-4e55-be02-02ddf15f9f27",
   "metadata": {},
   "outputs": [],
   "source": [
    "import pandas as pd"
   ]
  },
  {
   "cell_type": "code",
   "execution_count": 9,
   "id": "9518f4ee-eddc-4963-81aa-e4cbfdf2b163",
   "metadata": {},
   "outputs": [],
   "source": [
    "df = pd.DataFrame({\n",
    "    'A': [ 0, 0, 1, 1 ], \n",
    "    'B': range(1, 5), \n",
    "    # 'C': range(5, 9)\n",
    "})"
   ]
  },
  {
   "cell_type": "code",
   "execution_count": 10,
   "id": "98eda06c-eaff-4792-b018-fd20bd5be552",
   "metadata": {},
   "outputs": [],
   "source": [
    "def f(x):\n",
    "    # print(x)\n",
    "    # print(type(x))\n",
    "    return pd.Series([2,5])"
   ]
  },
  {
   "cell_type": "code",
   "execution_count": 11,
   "id": "7200bd5c-705b-44d1-9b94-ceeec3c8e790",
   "metadata": {},
   "outputs": [],
   "source": [
    "df = df.groupby('A').apply(f)"
   ]
  },
  {
   "cell_type": "code",
   "execution_count": 12,
   "id": "bf2df898-b746-4684-94da-39c19d3dfeee",
   "metadata": {},
   "outputs": [
    {
     "data": {
      "text/html": [
       "<div>\n",
       "<style scoped>\n",
       "    .dataframe tbody tr th:only-of-type {\n",
       "        vertical-align: middle;\n",
       "    }\n",
       "\n",
       "    .dataframe tbody tr th {\n",
       "        vertical-align: top;\n",
       "    }\n",
       "\n",
       "    .dataframe thead th {\n",
       "        text-align: right;\n",
       "    }\n",
       "</style>\n",
       "<table border=\"1\" class=\"dataframe\">\n",
       "  <thead>\n",
       "    <tr style=\"text-align: right;\">\n",
       "      <th></th>\n",
       "      <th>0</th>\n",
       "      <th>1</th>\n",
       "    </tr>\n",
       "    <tr>\n",
       "      <th>A</th>\n",
       "      <th></th>\n",
       "      <th></th>\n",
       "    </tr>\n",
       "  </thead>\n",
       "  <tbody>\n",
       "    <tr>\n",
       "      <th>0</th>\n",
       "      <td>2</td>\n",
       "      <td>5</td>\n",
       "    </tr>\n",
       "    <tr>\n",
       "      <th>1</th>\n",
       "      <td>2</td>\n",
       "      <td>5</td>\n",
       "    </tr>\n",
       "  </tbody>\n",
       "</table>\n",
       "</div>"
      ],
      "text/plain": [
       "   0  1\n",
       "A      \n",
       "0  2  5\n",
       "1  2  5"
      ]
     },
     "execution_count": 12,
     "metadata": {},
     "output_type": "execute_result"
    }
   ],
   "source": [
    "df"
   ]
  },
  {
   "cell_type": "code",
   "execution_count": null,
   "id": "54b732a9-a08e-4dca-af68-aaa4dc4151c5",
   "metadata": {},
   "outputs": [],
   "source": []
  }
 ],
 "metadata": {
  "kernelspec": {
   "display_name": "Python 3 (ipykernel)",
   "language": "python",
   "name": "python3"
  },
  "language_info": {
   "codemirror_mode": {
    "name": "ipython",
    "version": 3
   },
   "file_extension": ".py",
   "mimetype": "text/x-python",
   "name": "python",
   "nbconvert_exporter": "python",
   "pygments_lexer": "ipython3",
   "version": "3.11.4"
  }
 },
 "nbformat": 4,
 "nbformat_minor": 5
}
