{
 "cells": [
  {
   "cell_type": "markdown",
   "id": "06e83417-0a8c-49a3-984b-44ba5863bb33",
   "metadata": {},
   "source": [
    "# `apply()`"
   ]
  },
  {
   "cell_type": "code",
   "execution_count": null,
   "id": "979f05ce-888e-4e55-be02-02ddf15f9f27",
   "metadata": {},
   "outputs": [],
   "source": []
  }
 ],
 "metadata": {
  "kernelspec": {
   "display_name": "Python 3 (ipykernel)",
   "language": "python",
   "name": "python3"
  },
  "language_info": {
   "codemirror_mode": {
    "name": "ipython",
    "version": 3
   },
   "file_extension": ".py",
   "mimetype": "text/x-python",
   "name": "python",
   "nbconvert_exporter": "python",
   "pygments_lexer": "ipython3",
   "version": "3.11.4"
  }
 },
 "nbformat": 4,
 "nbformat_minor": 5
}
