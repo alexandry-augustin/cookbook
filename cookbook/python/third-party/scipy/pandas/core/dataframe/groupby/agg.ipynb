{
 "cells": [
  {
   "cell_type": "markdown",
   "id": "05324a59-6519-43e1-9cff-f16b47482005",
   "metadata": {},
   "source": [
    "# `agg()`"
   ]
  },
  {
   "cell_type": "code",
   "execution_count": null,
   "id": "9dfb875c-07f0-4363-8d38-53d1980e8631",
   "metadata": {},
   "outputs": [],
   "source": []
  }
 ],
 "metadata": {
  "kernelspec": {
   "display_name": "Python 3 (ipykernel)",
   "language": "python",
   "name": "python3"
  },
  "language_info": {
   "codemirror_mode": {
    "name": "ipython",
    "version": 3
   },
   "file_extension": ".py",
   "mimetype": "text/x-python",
   "name": "python",
   "nbconvert_exporter": "python",
   "pygments_lexer": "ipython3",
   "version": "3.11.4"
  }
 },
 "nbformat": 4,
 "nbformat_minor": 5
}
