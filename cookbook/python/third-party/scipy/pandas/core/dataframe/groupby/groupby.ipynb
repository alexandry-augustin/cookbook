{
 "cells": [
  {
   "cell_type": "markdown",
   "id": "351791b6-4537-4dda-b16f-a01f474cb99c",
   "metadata": {},
   "source": [
    "# `groupby()`"
   ]
  },
  {
   "cell_type": "code",
   "execution_count": null,
   "id": "9f9d79dd-fced-4340-8805-4a79bf5ec4b5",
   "metadata": {},
   "outputs": [],
   "source": []
  }
 ],
 "metadata": {
  "kernelspec": {
   "display_name": "Python 3 (ipykernel)",
   "language": "python",
   "name": "python3"
  },
  "language_info": {
   "codemirror_mode": {
    "name": "ipython",
    "version": 3
   },
   "file_extension": ".py",
   "mimetype": "text/x-python",
   "name": "python",
   "nbconvert_exporter": "python",
   "pygments_lexer": "ipython3",
   "version": "3.11.4"
  }
 },
 "nbformat": 4,
 "nbformat_minor": 5
}
