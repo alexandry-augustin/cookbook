{
 "cells": [
  {
   "cell_type": "markdown",
   "id": "5f59d8dc-5a83-49ec-b128-2c2588b626e4",
   "metadata": {},
   "source": [
    "# DataFrame"
   ]
  },
  {
   "cell_type": "code",
   "execution_count": 3,
   "id": "f95000f8-35c7-4169-9c80-90b8e158281f",
   "metadata": {},
   "outputs": [],
   "source": [
    "import pandas as pd"
   ]
  },
  {
   "cell_type": "markdown",
   "id": "c41dfb6c-93a3-4d07-9668-f71f4f8ba487",
   "metadata": {},
   "source": [
    "## From Dictionary"
   ]
  },
  {
   "cell_type": "code",
   "execution_count": 4,
   "id": "7fbbee53-99f1-41e2-9780-07200e8c35a0",
   "metadata": {},
   "outputs": [],
   "source": [
    "data = {\n",
    "    \"City\": [\n",
    "        \"Paris\", \n",
    "        \"London\"\n",
    "    ], \n",
    "    \"inhabitants\": [\n",
    "        2244000, \n",
    "        8630000\n",
    "    ]\n",
    "}\n",
    "\n",
    "df = pd.DataFrame(data)"
   ]
  },
  {
   "cell_type": "markdown",
   "id": "b15da4af-f9cf-4329-a846-b2a46bee8331",
   "metadata": {},
   "source": [
    "Or"
   ]
  },
  {
   "cell_type": "code",
   "execution_count": 5,
   "id": "b952dd54-6a16-437e-8221-c0d98673038a",
   "metadata": {},
   "outputs": [],
   "source": [
    "data = [\n",
    "    {\n",
    "        \"City\": \"Paris\", \n",
    "        \"inhabitants\": 2244000\n",
    "    },\n",
    "    {\n",
    "        \"City\": \"London\", \n",
    "        \"inhabitants\": 8630000\n",
    "    }\n",
    "]\n",
    "\n",
    "df = pd.DataFrame(data)"
   ]
  },
  {
   "cell_type": "markdown",
   "id": "75e36560-fd72-418f-9a34-98c4c41eb884",
   "metadata": {},
   "source": [
    "## From List"
   ]
  },
  {
   "cell_type": "code",
   "execution_count": 6,
   "id": "d996c1a2-47bb-472d-a94a-fa40b3d8210d",
   "metadata": {},
   "outputs": [],
   "source": [
    "data = [\n",
    "    [1, 2], \n",
    "    [3, 4]\n",
    "]\n",
    "index = range(0, len(data))\n",
    "columns = [ 'A', 'B' ]\n",
    "# df[\"C\"] = np.nan # add new field\n",
    "\n",
    "df = pd.DataFrame(data, index=index, columns=columns)"
   ]
  },
  {
   "cell_type": "code",
   "execution_count": null,
   "id": "cae937f9-5d1c-47c4-a828-e80f8a962f50",
   "metadata": {},
   "outputs": [],
   "source": []
  }
 ],
 "metadata": {
  "kernelspec": {
   "display_name": "Python 3 (ipykernel)",
   "language": "python",
   "name": "python3"
  },
  "language_info": {
   "codemirror_mode": {
    "name": "ipython",
    "version": 3
   },
   "file_extension": ".py",
   "mimetype": "text/x-python",
   "name": "python",
   "nbconvert_exporter": "python",
   "pygments_lexer": "ipython3",
   "version": "3.11.4"
  }
 },
 "nbformat": 4,
 "nbformat_minor": 5
}
