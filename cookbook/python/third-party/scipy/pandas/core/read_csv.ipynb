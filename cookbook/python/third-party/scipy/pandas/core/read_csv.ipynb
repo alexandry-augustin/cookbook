{
 "cells": [
  {
   "cell_type": "code",
   "execution_count": 1,
   "id": "0c62cabf-9716-4407-a84b-3a425bd447de",
   "metadata": {},
   "outputs": [],
   "source": [
    "import pandas as pd"
   ]
  },
  {
   "cell_type": "code",
   "execution_count": null,
   "id": "d97f2380-3e88-4acc-ab04-5339f4bcd12f",
   "metadata": {},
   "outputs": [],
   "source": [
    "#\theaders = ['name', 'title', 'department', 'salary']\n",
    "#\tchicago = pd.read_csv('./datasets/city-of-chicago-salaries.csv',\n",
    "#\t\t\theader=False,\n",
    "#\t\t\tnames=headers,\n",
    "#\t\t\tconverters={'salary': lambda x: float(x.replace('$', ''))})\n",
    "\n",
    "\tdata=pd.read_csv(\"../datasets/data.csv\", sep=\",\")\n",
    "\n",
    "\t#print data.head()\n",
    "\t#print data.tail()\n",
    "\t#print data.describe()\n",
    "\n",
    "\tprint data\n",
    "\t#print data.GroupId\n",
    "\t#print data[0:1] #5 first raws\n",
    "\t#print data[\"GroupId\"]==6\n",
    "\t#print data[data[\"GroupId\"]==6]\n",
    "\t#print data.ix[2:4, [\"GroupId\", \"Name\"]]\n",
    "\n",
    "\t#print data[[\"Name\", \"GroupId\"]][(data[\"EmployeeId\"] > 5) & (data[\"GroupId\"] < 10)]\n",
    "\t#print data[(data[\"EmployeeId\"] > 5) & (data[\"GroupId\"] < 10)].GroupId\n",
    "\n",
    "#\tprint data.groupby(\"GroupId\").sum() #mean() median()\n",
    "#\tprint data.GroupId.count() #number of items (including duplicates) - without NULL\n",
    "#\tprint data.GroupId.size #number of items (including duplicates)"
   ]
  }
 ],
 "metadata": {
  "kernelspec": {
   "display_name": "Python 3 (ipykernel)",
   "language": "python",
   "name": "python3"
  },
  "language_info": {
   "codemirror_mode": {
    "name": "ipython",
    "version": 3
   },
   "file_extension": ".py",
   "mimetype": "text/x-python",
   "name": "python",
   "nbconvert_exporter": "python",
   "pygments_lexer": "ipython3",
   "version": "3.11.4"
  }
 },
 "nbformat": 4,
 "nbformat_minor": 5
}
