{
 "cells": [
  {
   "cell_type": "code",
   "execution_count": 1,
   "metadata": {},
   "outputs": [],
   "source": [
    "#https://parulpandey.com/2020/08/17/advanced-plots-in-matplotlib%E2%80%8A-%E2%80%8Apart-2/"
   ]
  },
  {
   "cell_type": "code",
   "execution_count": 2,
   "metadata": {},
   "outputs": [],
   "source": [
    "import pandas as pd\n",
    "import matplotlib.pyplot as plt\n",
    "import numpy as np\n",
    "import matplotlib.dates as mdates\n",
    "from datetime import datetime"
   ]
  },
  {
   "cell_type": "markdown",
   "metadata": {},
   "source": [
    "# Data"
   ]
  },
  {
   "cell_type": "code",
   "execution_count": 8,
   "metadata": {},
   "outputs": [],
   "source": [
    "df = pd.DataFrame()\n",
    "\n",
    "df['description']  = ['Gingerbread', 'Ice Cream Sandwich', 'Jelly Bean', 'KitKat', 'Lollipop', 'Marshmallow', 'Nougat', 'Oreo', 'Pie', '10', '11']\n",
    "\n",
    "df['date']  = ['2011-02-9', '2011-10-19', '2012-11-13', '2013-10-31', '2014-11-3', '2015-10-5', '2016-08-22', '2017-08-21', '2018-08-06', '2019-09-3', '2020-02-19']\n",
    "# Convert date strings (e.g. 2014-10-18) to datetime\n",
    "df['date']  = pd.to_datetime(df['date'], format='%Y-%m-%d')"
   ]
  },
  {
   "cell_type": "code",
   "execution_count": 11,
   "metadata": {},
   "outputs": [
    {
     "data": {
      "text/html": [
       "<div>\n",
       "<style scoped>\n",
       "    .dataframe tbody tr th:only-of-type {\n",
       "        vertical-align: middle;\n",
       "    }\n",
       "\n",
       "    .dataframe tbody tr th {\n",
       "        vertical-align: top;\n",
       "    }\n",
       "\n",
       "    .dataframe thead th {\n",
       "        text-align: right;\n",
       "    }\n",
       "</style>\n",
       "<table border=\"1\" class=\"dataframe\">\n",
       "  <thead>\n",
       "    <tr style=\"text-align: right;\">\n",
       "      <th></th>\n",
       "      <th>description</th>\n",
       "      <th>date</th>\n",
       "    </tr>\n",
       "  </thead>\n",
       "  <tbody>\n",
       "    <tr>\n",
       "      <th>0</th>\n",
       "      <td>Gingerbread</td>\n",
       "      <td>2011-02-09</td>\n",
       "    </tr>\n",
       "    <tr>\n",
       "      <th>1</th>\n",
       "      <td>Ice Cream Sandwich</td>\n",
       "      <td>2011-10-19</td>\n",
       "    </tr>\n",
       "    <tr>\n",
       "      <th>2</th>\n",
       "      <td>Jelly Bean</td>\n",
       "      <td>2012-11-13</td>\n",
       "    </tr>\n",
       "    <tr>\n",
       "      <th>3</th>\n",
       "      <td>KitKat</td>\n",
       "      <td>2013-10-31</td>\n",
       "    </tr>\n",
       "    <tr>\n",
       "      <th>4</th>\n",
       "      <td>Lollipop</td>\n",
       "      <td>2014-11-03</td>\n",
       "    </tr>\n",
       "    <tr>\n",
       "      <th>5</th>\n",
       "      <td>Marshmallow</td>\n",
       "      <td>2015-10-05</td>\n",
       "    </tr>\n",
       "    <tr>\n",
       "      <th>6</th>\n",
       "      <td>Nougat</td>\n",
       "      <td>2016-08-22</td>\n",
       "    </tr>\n",
       "    <tr>\n",
       "      <th>7</th>\n",
       "      <td>Oreo</td>\n",
       "      <td>2017-08-21</td>\n",
       "    </tr>\n",
       "    <tr>\n",
       "      <th>8</th>\n",
       "      <td>Pie</td>\n",
       "      <td>2018-08-06</td>\n",
       "    </tr>\n",
       "    <tr>\n",
       "      <th>9</th>\n",
       "      <td>10</td>\n",
       "      <td>2019-09-03</td>\n",
       "    </tr>\n",
       "    <tr>\n",
       "      <th>10</th>\n",
       "      <td>11</td>\n",
       "      <td>2020-02-19</td>\n",
       "    </tr>\n",
       "  </tbody>\n",
       "</table>\n",
       "</div>"
      ],
      "text/plain": [
       "           description       date\n",
       "0          Gingerbread 2011-02-09\n",
       "1   Ice Cream Sandwich 2011-10-19\n",
       "2           Jelly Bean 2012-11-13\n",
       "3               KitKat 2013-10-31\n",
       "4             Lollipop 2014-11-03\n",
       "5          Marshmallow 2015-10-05\n",
       "6               Nougat 2016-08-22\n",
       "7                 Oreo 2017-08-21\n",
       "8                  Pie 2018-08-06\n",
       "9                   10 2019-09-03\n",
       "10                  11 2020-02-19"
      ]
     },
     "execution_count": 11,
     "metadata": {},
     "output_type": "execute_result"
    }
   ],
   "source": [
    "df"
   ]
  },
  {
   "cell_type": "markdown",
   "metadata": {},
   "source": [
    "# Plot"
   ]
  },
  {
   "cell_type": "code",
   "execution_count": 12,
   "metadata": {},
   "outputs": [],
   "source": [
    "# Choose some nice levels\n",
    "kernel = [-5, 5, -3, 3, -1, 1]\n",
    "df['level'] = np.tile(kernel,\n",
    "                       int(np.ceil(len(df)/len(kernel))))[:len(df)]"
   ]
  },
  {
   "cell_type": "code",
   "execution_count": 14,
   "metadata": {},
   "outputs": [
    {
     "data": {
      "image/png": "[encoded data removed]",
      "text/plain": [
       "<Figure size 633.6x288 with 1 Axes>"
      ]
     },
     "metadata": {
      "needs_background": "light"
     },
     "output_type": "display_data"
    }
   ],
   "source": [
    "# Create figure and plot a stem plot with the date\n",
    "fig, ax = plt.subplots(figsize=(8.8, 4), constrained_layout=True)\n",
    "\n",
    "ax.set(title='Android version history')\n",
    "\n",
    "markerline, stemline, baseline = ax.stem(df['date'], \n",
    "                                         df['level'],\n",
    "                                         linefmt='C3-', \n",
    "                                         basefmt='k-',\n",
    "                                         use_line_collection=True)\n",
    "plt.setp(markerline, \n",
    "         mec='k', \n",
    "         mfc='w', \n",
    "         zorder=3)\n",
    " \n",
    "# Shift the markers to the baseline by replacing the y-data by zeros.\n",
    "markerline.set_ydata(np.zeros(len(df)))\n",
    " \n",
    "# annotate lines\n",
    "vert = np.array(['top', 'bottom'])[(df['level'] > 0).astype(int)]\n",
    "for d, l, r, va in zip(df['date'], \n",
    "                       df['level'], \n",
    "                       df['description'], \n",
    "                       vert):\n",
    "    ax.annotate(r, xy=(d, l), xytext=(-3, np.sign(l)*3),\n",
    "                textcoords='offset points', va=va, ha='right')\n",
    " \n",
    "# format xaxis with 10 month intervals\n",
    "if True:\n",
    "    ax.set_xticks(df['date'])\n",
    "else:\n",
    "    ax.get_xaxis().set_major_locator(mdates.MonthLocator(interval=10))\n",
    "    ax.get_xaxis().set_major_formatter(mdates.DateFormatter('%b %Y'))\n",
    "plt.setp(ax.get_xticklabels(), rotation=30, ha='right')\n",
    " \n",
    "# remove y axis and spines\n",
    "ax.get_yaxis().set_visible(False)\n",
    "for spine in ['left', 'top', 'right']:\n",
    "    ax.spines[spine].set_visible(False)\n",
    "ax.margins(y=0.1)"
   ]
  },
  {
   "cell_type": "code",
   "execution_count": null,
   "metadata": {},
   "outputs": [],
   "source": []
  }
 ],
 "metadata": {
  "kernelspec": {
   "display_name": "Python 3",
   "language": "python",
   "name": "python3"
  },
  "language_info": {
   "codemirror_mode": {
    "name": "ipython",
    "version": 3
   },
   "file_extension": ".py",
   "mimetype": "text/x-python",
   "name": "python",
   "nbconvert_exporter": "python",
   "pygments_lexer": "ipython3",
   "version": "3.8.3"
  }
 },
 "nbformat": 4,
 "nbformat_minor": 4
}
