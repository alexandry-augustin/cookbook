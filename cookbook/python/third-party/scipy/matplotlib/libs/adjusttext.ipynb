{
 "cells": [
  {
   "cell_type": "markdown",
   "id": "981f04d4-078c-45e9-a761-76a2439c34b2",
   "metadata": {},
   "source": [
    "https://github.com/Phlya/adjustText"
   ]
  },
  {
   "cell_type": "code",
   "execution_count": 6,
   "id": "5c0af408-74ce-480d-9882-4d6082f3b1e5",
   "metadata": {},
   "outputs": [],
   "source": [
    "import numpy as np\n",
    "\n",
    "import matplotlib.pyplot as plt\n",
    "%matplotlib inline\n",
    "\n",
    "from adjustText import adjust_text"
   ]
  },
  {
   "cell_type": "code",
   "execution_count": 3,
   "id": "bdf27eaa-2142-4dec-862d-acfac8c85e36",
   "metadata": {},
   "outputs": [],
   "source": [
    "np.random.seed(0)\n",
    "x, y = np.random.random((2,30))"
   ]
  },
  {
   "cell_type": "code",
   "execution_count": 4,
   "id": "bd6448f5-391d-4728-ae4b-8c8096836e61",
   "metadata": {},
   "outputs": [
    {
     "data": {
      "text/plain": [
       "7"
      ]
     },
     "execution_count": 4,
     "metadata": {},
     "output_type": "execute_result"
    },
    {
     "data": {
      "image/png": "[encoded data removed]",
      "text/plain": [
       "<Figure size 432x288 with 1 Axes>"
      ]
     },
     "metadata": {
      "needs_background": "light"
     },
     "output_type": "display_data"
    }
   ],
   "source": [
    "fig, ax = plt.subplots()\n",
    "\n",
    "plt.plot(x, y, 'bo')\n",
    "texts = [plt.text(x[i], y[i], 'Text%s' %i, ha='center', va='center') for i in range(len(x))]\n",
    "\n",
    "adjust_text(texts)\n",
    "# wedge style\n",
    "# https://matplotlib.org/stable/api/_as_gen/matplotlib.patches.ArrowStyle.html?highlight=arrowstyle#matplotlib.patches.ArrowStyle\n",
    "# adjust_text(texts, arrowprops=dict(arrowstyle='->', color='red'))"
   ]
  },
  {
   "cell_type": "code",
   "execution_count": 5,
   "id": "4968c698-5ab3-4161-bfa6-0b97021987ba",
   "metadata": {},
   "outputs": [
    {
     "data": {
      "text/plain": [
       "[Text(0.5504543586139569, 0.26942228833053694, 'Text0'),\n",
       " Text(0.7168302210590517, 0.7791003656601267, 'Text1'),\n",
       " Text(0.604404230758276, 0.4610170084424585, 'Text2'),\n",
       " Text(0.546524037683529, 0.5733006250945586, 'Text3'),\n",
       " Text(0.42529565402553693, 0.023656476662265058, 'Text4'),\n",
       " Text(0.6475349677532883, 0.622502173301787, 'Text5'),\n",
       " Text(0.43922806594932473, 0.6169623989483315, 'Text6'),\n",
       " Text(0.893413855468712, 0.6218006731006669, 'Text7'),\n",
       " Text(0.9620219058143972, 0.9486147547405342, 'Text8'),\n",
       " Text(0.38508237351240987, 0.6866869753293934, 'Text9'),\n",
       " Text(0.7896875787087423, 0.364374576799696, 'Text10'),\n",
       " Text(0.5309323791268269, 0.4321652775734317, 'Text11'),\n",
       " Text(0.5700820204678547, 0.7024978721531749, 'Text12'),\n",
       " Text(0.9235591789187386, 0.06509214785517975, 'Text13'),\n",
       " Text(0.02518964582432818, 0.66186876373723, 'Text14'),\n",
       " Text(0.0917074949080118, 0.6745750775861897, 'Text15'),\n",
       " Text(0.018181982571655847, 0.2166107021063162, 'Text16'),\n",
       " Text(0.8346573049218603, 0.13379297388076325, 'Text17'),\n",
       " Text(0.7801942103237729, 0.3105616746982741, 'Text18'),\n",
       " Text(0.8720496076207417, 0.3685774471685326, 'Text19'),\n",
       " Text(0.9765808828588416, 0.5653300941919699, 'Text20'),\n",
       " Text(0.801196023590646, 0.4434681896882303, 'Text21'),\n",
       " Text(0.46351682162685415, 0.9835071618333167, 'Text22'),\n",
       " Text(0.778491716912533, 0.10691148697393801, 'Text23'),\n",
       " Text(0.1205799421712041, 0.2039776416343808, 'Text24'),\n",
       " Text(0.6419584807014462, 0.16617619411090623, 'Text25'),\n",
       " Text(0.14539074678296876, 0.6482416492394888, 'Text26'),\n",
       " Text(0.9426314576756616, 0.2484249263138724, 'Text27'),\n",
       " Text(0.5198108623761494, 0.47117744908221637, 'Text28'),\n",
       " Text(0.41669939936444594, 0.24929226822751271, 'Text29')]"
      ]
     },
     "execution_count": 5,
     "metadata": {},
     "output_type": "execute_result"
    }
   ],
   "source": [
    "texts"
   ]
  },
  {
   "cell_type": "code",
   "execution_count": null,
   "id": "c978fbc3-a324-40ca-ace6-f3260c932515",
   "metadata": {},
   "outputs": [],
   "source": []
  }
 ],
 "metadata": {
  "kernelspec": {
   "display_name": "Python 3 (ipykernel)",
   "language": "python",
   "name": "python3"
  },
  "language_info": {
   "codemirror_mode": {
    "name": "ipython",
    "version": 3
   },
   "file_extension": ".py",
   "mimetype": "text/x-python",
   "name": "python",
   "nbconvert_exporter": "python",
   "pygments_lexer": "ipython3",
   "version": "3.9.7"
  }
 },
 "nbformat": 4,
 "nbformat_minor": 5
}
