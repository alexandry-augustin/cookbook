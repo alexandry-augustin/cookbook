{
 "cells": [
  {
   "cell_type": "markdown",
   "id": "9ef823b2-594c-438d-97c9-f3e677a7ad1c",
   "metadata": {},
   "source": [
    "https://realpython.com/primer-on-python-decorators/"
   ]
  },
  {
   "cell_type": "code",
   "execution_count": 18,
   "id": "ccf333b5-86f2-470c-b198-42736990cc41",
   "metadata": {},
   "outputs": [],
   "source": [
    "import functools"
   ]
  },
  {
   "cell_type": "code",
   "execution_count": 21,
   "id": "2dd1fabb-64e5-40f5-866b-9326ea0a6f8e",
   "metadata": {},
   "outputs": [],
   "source": [
    "def my_decorator(func):\n",
    "    \n",
    "    @functools.wraps(func)\n",
    "    def wrapper(*args, **kwargs):\n",
    "        \n",
    "        print('Before')\n",
    "        ret = func(*args, **kwargs)\n",
    "        print('After')\n",
    "        \n",
    "        return ret\n",
    "    \n",
    "    return wrapper\n",
    "\n",
    "@my_decorator\n",
    "def f_00():\n",
    "    print(\"text\")\n",
    "    \n",
    "@my_decorator\n",
    "def f_01(text):\n",
    "    print(text)\n",
    "    return 'OK'"
   ]
  },
  {
   "cell_type": "code",
   "execution_count": 22,
   "id": "24a0befc-3b42-41ce-a49c-a9f49a3654ef",
   "metadata": {},
   "outputs": [
    {
     "name": "stdout",
     "output_type": "stream",
     "text": [
      "Before\n",
      "fct\n",
      "After\n"
     ]
    }
   ],
   "source": [
    "f_00()"
   ]
  },
  {
   "cell_type": "code",
   "execution_count": 23,
   "id": "f44838ba-0eb9-44d2-afe2-6d4c40635644",
   "metadata": {},
   "outputs": [
    {
     "name": "stdout",
     "output_type": "stream",
     "text": [
      "Before\n",
      "some text\n",
      "After\n"
     ]
    },
    {
     "data": {
      "text/plain": [
       "'OK'"
      ]
     },
     "execution_count": 23,
     "metadata": {},
     "output_type": "execute_result"
    }
   ],
   "source": [
    "f_01('some text')"
   ]
  },
  {
   "cell_type": "code",
   "execution_count": 26,
   "id": "bb0d8e44-6277-44c3-82ce-530d9a27e9f6",
   "metadata": {},
   "outputs": [
    {
     "ename": "TypeError",
     "evalue": "my_decorator() missing 1 required positional argument: 'func'",
     "output_type": "error",
     "traceback": [
      "\u001b[0;31m---------------------------------------------------------------------------\u001b[0m",
      "\u001b[0;31mTypeError\u001b[0m                                 Traceback (most recent call last)",
      "\u001b[0;32m/tmp/ipykernel_8812/680554081.py\u001b[0m in \u001b[0;36m<module>\u001b[0;34m\u001b[0m\n\u001b[0;32m----> 1\u001b[0;31m \u001b[0;32mclass\u001b[0m \u001b[0mmy_class\u001b[0m\u001b[0;34m(\u001b[0m\u001b[0mobject\u001b[0m\u001b[0;34m)\u001b[0m\u001b[0;34m:\u001b[0m\u001b[0;34m\u001b[0m\u001b[0;34m\u001b[0m\u001b[0m\n\u001b[0m\u001b[1;32m      2\u001b[0m \u001b[0;34m\u001b[0m\u001b[0m\n\u001b[1;32m      3\u001b[0m     \u001b[0;32mdef\u001b[0m \u001b[0m__init__\u001b[0m\u001b[0;34m(\u001b[0m\u001b[0mself\u001b[0m\u001b[0;34m,\u001b[0m \u001b[0mconfig\u001b[0m\u001b[0;34m)\u001b[0m\u001b[0;34m:\u001b[0m\u001b[0;34m\u001b[0m\u001b[0;34m\u001b[0m\u001b[0m\n\u001b[1;32m      4\u001b[0m         \u001b[0;32mpass\u001b[0m\u001b[0;34m\u001b[0m\u001b[0;34m\u001b[0m\u001b[0m\n\u001b[1;32m      5\u001b[0m \u001b[0;34m\u001b[0m\u001b[0m\n",
      "\u001b[0;32m/tmp/ipykernel_8812/680554081.py\u001b[0m in \u001b[0;36mmy_class\u001b[0;34m()\u001b[0m\n\u001b[1;32m     18\u001b[0m \u001b[0;34m\u001b[0m\u001b[0m\n\u001b[1;32m     19\u001b[0m     \u001b[0;34m@\u001b[0m\u001b[0mmy_decorator\u001b[0m\u001b[0;34m\u001b[0m\u001b[0;34m\u001b[0m\u001b[0m\n\u001b[0;32m---> 20\u001b[0;31m     \u001b[0;32mdef\u001b[0m \u001b[0mf_00\u001b[0m\u001b[0;34m(\u001b[0m\u001b[0mself\u001b[0m\u001b[0;34m)\u001b[0m\u001b[0;34m:\u001b[0m\u001b[0;34m\u001b[0m\u001b[0;34m\u001b[0m\u001b[0m\n\u001b[0m\u001b[1;32m     21\u001b[0m         \u001b[0mprint\u001b[0m\u001b[0;34m(\u001b[0m\u001b[0;34m'text'\u001b[0m\u001b[0;34m)\u001b[0m\u001b[0;34m\u001b[0m\u001b[0;34m\u001b[0m\u001b[0m\n",
      "\u001b[0;31mTypeError\u001b[0m: my_decorator() missing 1 required positional argument: 'func'"
     ]
    }
   ],
   "source": [
    "class my_class(object):\n",
    "    \n",
    "    def __init__(self, config):\n",
    "        pass\n",
    "    \n",
    "    def my_decorator(self, func):\n",
    "        \n",
    "        @functools.wraps(func)\n",
    "        def wrapper(*args, **kwargs):\n",
    "            \n",
    "            print('Before')\n",
    "            ret = func(*args, **kwargs)\n",
    "            print('After')\n",
    "            \n",
    "            return ret\n",
    "            \n",
    "        return wrapper\n",
    "    \n",
    "    @my_decorator\n",
    "    def f_00(self):\n",
    "        print('text')"
   ]
  },
  {
   "cell_type": "code",
   "execution_count": null,
   "id": "08971b73-7500-45c9-aa77-1d492dac6c86",
   "metadata": {},
   "outputs": [],
   "source": []
  },
  {
   "cell_type": "code",
   "execution_count": null,
   "id": "05310e22-ae53-4eb8-858d-959286c3ce38",
   "metadata": {},
   "outputs": [],
   "source": []
  }
 ],
 "metadata": {
  "kernelspec": {
   "display_name": "Python 3 (ipykernel)",
   "language": "python",
   "name": "python3"
  },
  "language_info": {
   "codemirror_mode": {
    "name": "ipython",
    "version": 3
   },
   "file_extension": ".py",
   "mimetype": "text/x-python",
   "name": "python",
   "nbconvert_exporter": "python",
   "pygments_lexer": "ipython3",
   "version": "3.9.7"
  }
 },
 "nbformat": 4,
 "nbformat_minor": 5
}
